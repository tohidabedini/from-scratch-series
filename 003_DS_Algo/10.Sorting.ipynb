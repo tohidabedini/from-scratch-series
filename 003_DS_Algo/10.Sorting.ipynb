{
 "cells": [
  {
   "cell_type": "markdown",
   "id": "06077a88-1150-4fc3-ac74-7cff34f1bd64",
   "metadata": {},
   "source": [
    "https://www.softwaretestinghelp.com/python-sorting-methods/"
   ]
  },
  {
   "cell_type": "markdown",
   "id": "8457935f-462b-41f3-b042-c28f710eeb06",
   "metadata": {},
   "source": [
    "# Syntax of Python Sort"
   ]
  },
  {
   "cell_type": "code",
   "execution_count": 1,
   "id": "ecf3644f-bb2a-498f-9162-64d8b3daf2ac",
   "metadata": {},
   "outputs": [
    {
     "name": "stdout",
     "output_type": "stream",
     "text": [
      "List in descending order:  [9, 8, 7, 6, 5, 4, 3, 2, 1]\n",
      "List in ascending order:  [1, 2, 3, 4, 5, 6, 7, 8, 9]\n"
     ]
    }
   ],
   "source": [
    "a = [ 3, 5, 2, 6, 7, 9, 8, 1, 4 ]\n",
    "a.sort( reverse = True )\n",
    "print( \"List in descending order: \", a )\n",
    "\n",
    "a.sort()\n",
    "print( \"List in ascending order: \", a )"
   ]
  },
  {
   "cell_type": "markdown",
   "id": "0b401b29-b751-4671-8b16-f8fcd718d91b",
   "metadata": {},
   "source": [
    "# Time Complexity of Sorting Algorithms"
   ]
  },
  {
   "cell_type": "markdown",
   "id": "d02604c6-12fb-4c47-a11e-6f38431a1f0e",
   "metadata": {},
   "source": [
    "\n",
    "    Worst Case: Maximum time taken by the computer to run the program.\n",
    "    Average Case: Time taken between the minimum and maximum by the computer to run the program.\n",
    "    Best Case: Minimum time taken by the computer to run the program. It is the best case of time complexity.\n"
   ]
  },
  {
   "cell_type": "markdown",
   "id": "4eb041bc-ab10-4a8c-9a6f-af4b73d676f0",
   "metadata": {},
   "source": [
    "# Complexity Notations"
   ]
  },
  {
   "cell_type": "markdown",
   "id": "30ed5de9-5cc8-49c7-b8ee-0d0662c2681c",
   "metadata": {},
   "source": [
    "**Big Oh Notation, $O$:** Big oh notation is the official way to convey the upper bound of running time of the algorithms. It is used to measure the worst-case time complexity or we say the largest amount of time taken by the algorithm to complete.\n",
    "\n",
    "**Big omega Notation, $\\Omega$:** Big omega notation is the official way to convey the lowest bound of the running time of the algorithms. It is used to measure best-case time complexity or we say the excellent amount of time taken by the algorithm.\n",
    "\n",
    "**Theta Notation, $\\theta$:** Theta notation is the official way to convey both bounds i.e. lower and upper of the time taken by the algorithm to complete."
   ]
  },
  {
   "cell_type": "markdown",
   "id": "76c45309-2435-4314-9da6-67d2de87e386",
   "metadata": {},
   "source": [
    "# Sorting Methods in Python"
   ]
  },
  {
   "cell_type": "markdown",
   "id": "9a1273ba-3d66-4e89-bff9-33b351e7e98e",
   "metadata": {},
   "source": [
    "# Bubble Sort\n",
    "\n",
    "Bubble sort is the simplest way to sort the data which uses the brute force technique. It will iterate to each data element and compare it with other elements to provide the user with the sorted data."
   ]
  },
  {
   "cell_type": "code",
   "execution_count": 2,
   "id": "22c22b3f-3220-4fff-b2fa-988e1ce9051e",
   "metadata": {},
   "outputs": [],
   "source": [
    "import copy"
   ]
  },
  {
   "cell_type": "code",
   "execution_count": 3,
   "id": "ed64fab3-bd95-4bfb-808a-cae3cdb17661",
   "metadata": {},
   "outputs": [],
   "source": [
    "def swap_items(input_list, i, j):\n",
    "    input_list[i], input_list[j] = input_list[j], input_list[i]\n",
    "    return input_list"
   ]
  },
  {
   "cell_type": "code",
   "execution_count": 4,
   "id": "4dbe6366-e09b-4246-b789-ddbccc73bea4",
   "metadata": {},
   "outputs": [],
   "source": [
    "def bubble_sort(unsorted_list):\n",
    "    unsorted_list = copy.deepcopy(unsorted_list)\n",
    "    for i in range(len(unsorted_list)-1):\n",
    "        for j in range(1,len(unsorted_list[i:])):\n",
    "            # print(i,i+j,unsorted_list[i], unsorted_list[i+j])\n",
    "            if unsorted_list[i] > unsorted_list[i+j]:\n",
    "                # print(\"Hit\")\n",
    "                swap_items(unsorted_list, i, i+j)\n",
    "    return unsorted_list"
   ]
  },
  {
   "cell_type": "code",
   "execution_count": 5,
   "id": "0d4f6d69-05c0-436d-80f6-33ed87c87aee",
   "metadata": {
    "tags": []
   },
   "outputs": [],
   "source": [
    "a = [ 3, 5, 2, 6, 7, 9, 8, 1, 4 ]"
   ]
  },
  {
   "cell_type": "code",
   "execution_count": 6,
   "id": "aa8cf1df-3147-4360-91ea-da8446ed7eb8",
   "metadata": {},
   "outputs": [
    {
     "data": {
      "text/plain": [
       "[1, 2, 3, 4, 5, 6, 7, 8, 9]"
      ]
     },
     "execution_count": 6,
     "metadata": {},
     "output_type": "execute_result"
    }
   ],
   "source": [
    "bubble_sort(a)"
   ]
  },
  {
   "cell_type": "markdown",
   "id": "f8c38e34-f768-4234-9b53-6e05d95c8456",
   "metadata": {},
   "source": [
    "## Time Complexity of Bubble sort\n",
    "\n",
    "**Worst Case:** The worst time complexity for bubble sort is O(n2).\n",
    "\n",
    "**Average Case:** The average time complexity for bubble sort is O(n2).\n",
    "\n",
    "**Best Case:** The best time complexity for bubble sort is O(n).\n",
    "\n",
    "**Advantages**\n",
    "\n",
    "    It is mostly used and is easy to implement.\n",
    "    We can swap the data elements without consumption of short-term storage.\n",
    "    It requires less space.\n",
    "\n",
    "**Disadvantages**\n",
    "\n",
    "    It did not perform well while dealing with a large number of large data elements.\n",
    "    It needs n2 steps for each “n” number of data elements to get sorted.\n",
    "    It is not really good for real-world applications.\n"
   ]
  },
  {
   "cell_type": "markdown",
   "id": "befa3355-3e24-4ed2-924f-3ab86ae5f459",
   "metadata": {},
   "source": [
    "# Insertion Sort"
   ]
  },
  {
   "cell_type": "code",
   "execution_count": 44,
   "id": "ff99e5e3-d7c3-4e23-b4fe-b534932cce0b",
   "metadata": {},
   "outputs": [],
   "source": [
    "def insertion_sort(unsorted_list):\n",
    "    unsorted_list = copy.deepcopy(unsorted_list) \n",
    "    \n",
    "    for i in range(len(unsorted_list)-1):\n",
    "        if unsorted_list[i] > unsorted_list[i+1]:\n",
    "            j = i\n",
    "            while unsorted_list[j]>unsorted_list[j+1]:\n",
    "                if j<0:\n",
    "                    break\n",
    "                # print(j)\n",
    "                swap_items(unsorted_list, j, j+1)\n",
    "                j -= 1\n",
    "        else:\n",
    "            continue\n",
    "\n",
    "    return unsorted_list"
   ]
  },
  {
   "cell_type": "code",
   "execution_count": 45,
   "id": "c5455d84-730c-4bd2-83fb-73931a06eb3f",
   "metadata": {},
   "outputs": [
    {
     "data": {
      "text/plain": [
       "[2, 4, 5, 7, 8, 9, 10, 30, 69]"
      ]
     },
     "execution_count": 45,
     "metadata": {},
     "output_type": "execute_result"
    }
   ],
   "source": [
    "a = [9,8,7,69,5,4,30,2,10]\n",
    "insertion_sort(a)"
   ]
  },
  {
   "cell_type": "markdown",
   "id": "6c8612ba-eb0c-4c70-8389-7b1cf85bffeb",
   "metadata": {},
   "source": [
    "## Time Complexity of Insertion sort\n",
    "\n",
    "\n",
    "**Worst Case:** The worst time complexity for Insertion sort is O(n2).\n",
    "\n",
    "**Average Case:** The average time complexity for Insertion sort is O(n2).\n",
    "\n",
    "**Best Case:** The best time complexity for Insertion sort is O(n).\n",
    "\n",
    "\n",
    "**Advantages**\n",
    "\n",
    "    It is simple and easy to implement.\n",
    "    It performs well while dealing with a small number of data elements.\n",
    "    It does not need more space for its implementation.\n",
    "\n",
    "**Disadvantages**\n",
    "\n",
    "    It is not helpful to sort a huge number of data elements.\n",
    "    When compared to other sorting techniques it does not perform well."
   ]
  },
  {
   "cell_type": "markdown",
   "id": "8b358559-2792-4f31-956b-11f9d686beba",
   "metadata": {
    "tags": []
   },
   "source": [
    "# Merge sort"
   ]
  },
  {
   "cell_type": "code",
   "execution_count": 46,
   "id": "d70653a1-c99c-49e3-9dc5-82a7315704ad",
   "metadata": {},
   "outputs": [],
   "source": [
    "def merge_sort(unsorted_list):\n",
    "    if len(unsorted_list) > 1:\n",
    "        middle = len(unsorted_list)//2\n",
    "        left_sub = unsorted_list[:middle]\n",
    "        right_sub = unsorted_list[middle:]\n",
    "\n",
    "        merge_sort(left_sub)\n",
    "        merge_sort(right_sub)\n",
    "\n",
    "        i = j = k = 0\n",
    "        while i<len(left_sub) and j<len(right_sub):\n",
    "            if left_sub[i] <= right_sub[j]:\n",
    "                unsorted_list[k] = left_sub[i]\n",
    "                i+=1\n",
    "            else:\n",
    "                unsorted_list[k] = right_sub[j]\n",
    "                j+=1   \n",
    "            k+=1\n",
    "            \n",
    "        # print(i,len(left_sub),j,len(right_sub),k)\n",
    "        \n",
    "        while i<len(left_sub):\n",
    "            # print(\"i:\",i,len(left_sub))\n",
    "            unsorted_list[k] = left_sub[i]\n",
    "            k+=1\n",
    "            i+=1\n",
    "            \n",
    "        while j<len(right_sub):\n",
    "            # print(\"j:\",j,len(right_sub))\n",
    "            unsorted_list[k] = right_sub[j]\n",
    "            k+=1\n",
    "            j+=1      \n",
    "            \n",
    "        # print(unsorted_list)\n",
    "    return unsorted_list"
   ]
  },
  {
   "cell_type": "code",
   "execution_count": 47,
   "id": "c93a8cd8-0925-4ccd-b901-ae8f4f09b0e3",
   "metadata": {},
   "outputs": [
    {
     "data": {
      "text/plain": [
       "[2, 4, 5, 7, 8, 9, 10, 30, 69]"
      ]
     },
     "execution_count": 47,
     "metadata": {},
     "output_type": "execute_result"
    }
   ],
   "source": [
    "a = [9,8,7,69,5,4,30,2,10]\n",
    "merge_sort(a)"
   ]
  },
  {
   "cell_type": "code",
   "execution_count": 48,
   "id": "8a4f050f-2671-4637-93b2-64b0ec018744",
   "metadata": {},
   "outputs": [
    {
     "data": {
      "text/plain": [
       "[1, 2, 3, 4, 5, 6, 7, 9]"
      ]
     },
     "execution_count": 48,
     "metadata": {},
     "output_type": "execute_result"
    }
   ],
   "source": [
    "a = [9,1,2,3,4,5,6,7]\n",
    "merge_sort(a)"
   ]
  },
  {
   "cell_type": "markdown",
   "id": "7deb301f-3da7-40a5-9e07-769f5612e052",
   "metadata": {},
   "source": [
    "## Time Complexity of Merge sort\n",
    "\n",
    "**Worst Case:** The worst time complexity for merge sort is O(n log(n)).\n",
    "\n",
    "**Average Case:** The average time complexity for merge sort is O(n log(n)).\n",
    "\n",
    "**Best Case:** The best time complexity for merge sort is O(n log(n)).\n",
    "\n",
    "**Advantages**\n",
    "\n",
    "    The file size does not matter for this sorting technique.\n",
    "    This technique is good for the data which are generally accessed in a sequence order. For example, linked lists, tape drive, etc.\n",
    "\n",
    "**Disadvantages**\n",
    "\n",
    "    It requires more space when compared to other sorting techniques.\n",
    "    It is comparatively less efficient than others.\n"
   ]
  },
  {
   "cell_type": "markdown",
   "id": "67fa7f6f-4ffe-4034-9bb2-6ad290265b89",
   "metadata": {},
   "source": [
    "# Quick sort"
   ]
  },
  {
   "cell_type": "code",
   "execution_count": 49,
   "id": "1900c200-a65a-45b7-b24d-b0fe996dfe38",
   "metadata": {},
   "outputs": [],
   "source": [
    "def quick_sort(unsorted_list, lowest=0, highest=None):\n",
    "    if highest is None:\n",
    "        highest = len(unsorted_list) - 1\n",
    "\n",
    "    if len(unsorted_list) == 1:\n",
    "        return unsorted_list\n",
    "    \n",
    "    if lowest < highest:\n",
    "        pi = array_partition(unsorted_list, lowest, highest)\n",
    "        # print(pi)\n",
    "\n",
    "        quick_sort(unsorted_list, lowest, pi-1)\n",
    "        quick_sort(unsorted_list, pi+1, highest)\n",
    "\n",
    "    return unsorted_list\n",
    "\n",
    "def array_partition(unsorted_list, lowest, highest):\n",
    "    i = lowest-1\n",
    "    pivot_element = unsorted_list[highest]\n",
    "    # print(\"pivot:\", pivot_element, highest)\n",
    "    # print(unsorted_list, lowest, highest)\n",
    "    for j in range(lowest, highest):\n",
    "        if unsorted_list[j] <= pivot_element:\n",
    "            i = i+1\n",
    "            # print(\"------\", unsorted_list[j], j, i)\n",
    "            swap_items(unsorted_list, i, j)\n",
    "            \n",
    "\n",
    "    swap_items(unsorted_list, i+1, highest)\n",
    "    # print(unsorted_list, i+1)\n",
    "    return i+1"
   ]
  },
  {
   "cell_type": "code",
   "execution_count": 50,
   "id": "90411a86-b170-4c6a-99de-04f85a7f5354",
   "metadata": {},
   "outputs": [
    {
     "data": {
      "text/plain": [
       "[2, 4, 5, 7, 8, 9, 10, 30, 69]"
      ]
     },
     "execution_count": 50,
     "metadata": {},
     "output_type": "execute_result"
    }
   ],
   "source": [
    "a = [9,8,7,69,5,4,30,2,10]\n",
    "quick_sort(a)"
   ]
  },
  {
   "cell_type": "markdown",
   "id": "45cd00b0-46a4-4a76-8ee5-cb961efd636d",
   "metadata": {},
   "source": [
    "## Time Complexity of Quick sort\n",
    "\n",
    "**Worst Case:** The worst time complexity for Quick sort is O(n2).\n",
    "\n",
    "**Average Case:** The average time complexity for merge sort is O(n log(n)).\n",
    "\n",
    "**Best Case:** The best time complexity for merge sort is O(n log(n)).\n",
    "\n",
    "**Advantages**\n",
    "\n",
    "    It is known as the best sorting algorithm in Python.\n",
    "    It is useful while handling large amount of data.\n",
    "    It does not require additional space.\n",
    "\n",
    "**Disadvantages**\n",
    "\n",
    "    Its worst-case complexity is similar to the complexities of bubble sort and insertion sort.\n",
    "    This sorting method is not useful when we already have the sorted list.\n"
   ]
  },
  {
   "cell_type": "markdown",
   "id": "5e9679bb-c4c7-4779-b4d9-16017c2d4b26",
   "metadata": {},
   "source": [
    "# Heap sort"
   ]
  },
  {
   "cell_type": "code",
   "execution_count": 508,
   "id": "5543e672-8df8-4683-b780-13a00aea754f",
   "metadata": {},
   "outputs": [],
   "source": [
    "def get_node_childs(heap, i, till=None):\n",
    "    child_right_index = (2*i)+1\n",
    "    child_left_index = (2*i)+2\n",
    "    if till is None:\n",
    "        threshold = len(heap)\n",
    "    else:\n",
    "        threshold = till\n",
    "    \n",
    "    if child_right_index>=threshold:\n",
    "        child_right_index = None\n",
    "    if child_left_index>=threshold:\n",
    "        child_left_index = None\n",
    "        \n",
    "    return child_right_index, child_left_index\n",
    "\n",
    "        \n",
    "def check_max_heap_property(i, heap, till=None):\n",
    "    child_right_index, child_left_index = get_node_childs(heap, i, till)\n",
    "    if (child_right_index is not None) and (child_left_index is not None):\n",
    "        if (heap[i] >= heap[child_right_index]) and (heap[i] >= heap[child_left_index]):\n",
    "            return True\n",
    "        else:\n",
    "            return False\n",
    "        \n",
    "    elif child_left_index is not None:\n",
    "        if (heap[i] >= heap[child_left_index]):\n",
    "            return True\n",
    "        else:\n",
    "            return False      \n",
    "        \n",
    "    elif child_right_index is not None:\n",
    "        if (heap[i] >= heap[child_right_index]):\n",
    "            return True\n",
    "        else:\n",
    "            return False\n",
    "    else:\n",
    "        return True\n",
    "\n",
    "\n",
    "def find_max_child(i, heap, till=None):\n",
    "    child_right_index, child_left_index = get_node_childs(heap, i, till)\n",
    "    if (child_right_index is not None) and (child_left_index is not None):\n",
    "        if (heap[child_right_index] > heap[i]) and (heap[child_right_index] >= heap[child_left_index]):\n",
    "            return child_right_index\n",
    "        elif (heap[child_left_index] > heap[i]) and (heap[child_left_index] >= heap[child_right_index]):\n",
    "            return child_left_index\n",
    "    elif child_left_index is not None:\n",
    "        if (heap[child_left_index] > heap[i]):\n",
    "            return child_left_index        \n",
    "    elif child_right_index is not None:\n",
    "        if (heap[child_right_index] > heap[i]):\n",
    "            return child_right_index  "
   ]
  },
  {
   "cell_type": "code",
   "execution_count": 509,
   "id": "fc3ead5c-28d6-4003-a725-486e9dc50ec0",
   "metadata": {},
   "outputs": [],
   "source": [
    "def heapify(i, heap, till=None):\n",
    "    if not check_max_heap_property(i, heap, till):\n",
    "        max_child_index = find_max_child(i, heap, till)\n",
    "        swap_items(heap, i, max_child_index)\n",
    "        if not check_max_heap_property(max_child_index, heap, till):\n",
    "            heapify(max_child_index, heap, till)\n",
    "\n",
    "\n",
    "def max_heap_transform(heap):\n",
    "    non_leafs_index = len(heap) // 2 \n",
    "    \n",
    "    length = len(heap[:non_leafs_index])\n",
    "    for i in range(length):\n",
    "        heapify(length-i-1, heap)\n",
    "        \n",
    "    for i in range(length-1):\n",
    "        heapify(i, heap)\n",
    "\n",
    "\n",
    "def last_swap_pop(heap, till):\n",
    "    swap_items(heap, 0, till-1)\n",
    "    return heap[till-1], till - 1\n",
    "    \n",
    "\n",
    "def heap_sort(unsorted_list):\n",
    "    heap = unsorted_list\n",
    "    # sorted_list = []\n",
    "    max_heap_transform(heap)\n",
    "    till = None\n",
    "    while True:\n",
    "        if till is None:\n",
    "            current_max, till = last_swap_pop(heap, len(heap))\n",
    "        else:\n",
    "            current_max, till = last_swap_pop(heap, till)\n",
    "        # print(heap, till, current_max)\n",
    "        heapify(0, heap, till)\n",
    "        if till == 0:\n",
    "            break\n",
    "        # sorted_list.append(current_max)\n",
    "\n",
    "    # sorted_list.reverse()\n",
    "    # return sorted_list\n",
    "    return heap"
   ]
  },
  {
   "cell_type": "code",
   "execution_count": 521,
   "id": "322d126f-1007-43e3-9c06-80302aaa48f6",
   "metadata": {
    "tags": []
   },
   "outputs": [
    {
     "data": {
      "text/plain": [
       "[2, 4, 5, 7, 8, 9, 10, 30, 69]"
      ]
     },
     "execution_count": 521,
     "metadata": {},
     "output_type": "execute_result"
    }
   ],
   "source": [
    "a = [9,8,7,69,5,4,30,2,10]\n",
    "# a = [1, 3, 5, 4, 6, 13, 10, 9, 8, 15, 17]\n",
    "heap_sort(a)"
   ]
  },
  {
   "cell_type": "markdown",
   "id": "52eb9ba4-e9a3-431b-9fb8-eb3143dccbd8",
   "metadata": {},
   "source": [
    "## Time Complexity of Quick sort\n",
    "\n",
    "**Worst Case:** The worst time complexity for Heap sort is O(n log(n)).\n",
    "\n",
    "**Average Case:** The average time complexity for merge sort is O(n log(n)).\n",
    "\n",
    "**Best Case:** The best time complexity for Heap sort isO(n log(n)).\n",
    "\n",
    "**Advantages**\n",
    "\n",
    "    It is mostly used because of its productivity.\n",
    "    It can be implemented as an in-place algorithm.\n",
    "    It does not require large storage.\n",
    "\n",
    "\n",
    "**Disadvantages**\n",
    "\n",
    "    Needs space for sorting the elements.\n",
    "    It makes the tree for sorting the elements.\n"
   ]
  },
  {
   "cell_type": "code",
   "execution_count": 476,
   "id": "df4f8ca7-4206-498d-a1c8-c7c1b791df7f",
   "metadata": {},
   "outputs": [],
   "source": [
    "import random\n",
    "randomlist = random.sample(range(1, 3000000000000), 5000)\n",
    "# print(randomlist)"
   ]
  },
  {
   "cell_type": "code",
   "execution_count": 477,
   "id": "59aac1f7-0a33-48cc-b11a-7158f1295f74",
   "metadata": {},
   "outputs": [
    {
     "name": "stdout",
     "output_type": "stream",
     "text": [
      "CPU times: user 2.11 s, sys: 7.86 ms, total: 2.12 s\n",
      "Wall time: 2.12 s\n"
     ]
    }
   ],
   "source": [
    "randomlist_ = copy.deepcopy(randomlist)\n",
    "%time bubble_sorted = bubble_sort(randomlist_)"
   ]
  },
  {
   "cell_type": "code",
   "execution_count": 478,
   "id": "af0d69e6-91ea-4a84-8bfd-22f75eca963d",
   "metadata": {},
   "outputs": [
    {
     "name": "stdout",
     "output_type": "stream",
     "text": [
      "CPU times: user 1.56 s, sys: 0 ns, total: 1.56 s\n",
      "Wall time: 1.56 s\n"
     ]
    }
   ],
   "source": [
    "randomlist_ = copy.deepcopy(randomlist)\n",
    "%time insertion_sorted = insertion_sort(randomlist_)"
   ]
  },
  {
   "cell_type": "code",
   "execution_count": 479,
   "id": "acb86c95-a053-4e32-be79-b9e521b8970e",
   "metadata": {},
   "outputs": [
    {
     "name": "stdout",
     "output_type": "stream",
     "text": [
      "CPU times: user 14.4 ms, sys: 0 ns, total: 14.4 ms\n",
      "Wall time: 14.2 ms\n"
     ]
    }
   ],
   "source": [
    "randomlist_ = copy.deepcopy(randomlist)\n",
    "%time merge_sorted = merge_sort(randomlist_)"
   ]
  },
  {
   "cell_type": "code",
   "execution_count": 500,
   "id": "580f0c3b-28f6-4008-a952-10d4edc43460",
   "metadata": {},
   "outputs": [
    {
     "name": "stdout",
     "output_type": "stream",
     "text": [
      "CPU times: user 27.7 ms, sys: 4.01 ms, total: 31.7 ms\n",
      "Wall time: 30.9 ms\n"
     ]
    }
   ],
   "source": [
    "randomlist_ = copy.deepcopy(randomlist)\n",
    "%time quick_sorted = quick_sort(randomlist_)"
   ]
  },
  {
   "cell_type": "code",
   "execution_count": 518,
   "id": "ae015b39-d0c0-4d6b-9dd5-30918fad0fbb",
   "metadata": {},
   "outputs": [
    {
     "name": "stdout",
     "output_type": "stream",
     "text": [
      "CPU times: user 153 ms, sys: 10 µs, total: 153 ms\n",
      "Wall time: 151 ms\n"
     ]
    }
   ],
   "source": [
    "randomlist_ = copy.deepcopy(randomlist)\n",
    "%time heap_sorted = heap_sort(randomlist_)"
   ]
  },
  {
   "cell_type": "code",
   "execution_count": 519,
   "id": "e88d9457-2754-4e0c-8a19-edea70761199",
   "metadata": {},
   "outputs": [
    {
     "data": {
      "text/plain": [
       "True"
      ]
     },
     "execution_count": 519,
     "metadata": {},
     "output_type": "execute_result"
    }
   ],
   "source": [
    "heap_sorted == quick_sorted == merge_sorted == insertion_sorted == bubble_sorted"
   ]
  },
  {
   "cell_type": "code",
   "execution_count": null,
   "id": "1ec50027-5362-4801-957d-b0cb7985c065",
   "metadata": {},
   "outputs": [],
   "source": []
  }
 ],
 "metadata": {
  "kernelspec": {
   "display_name": "Python 3",
   "language": "python",
   "name": "python3"
  },
  "language_info": {
   "codemirror_mode": {
    "name": "ipython",
    "version": 3
   },
   "file_extension": ".py",
   "mimetype": "text/x-python",
   "name": "python",
   "nbconvert_exporter": "python",
   "pygments_lexer": "ipython3",
   "version": "3.9.13"
  }
 },
 "nbformat": 4,
 "nbformat_minor": 5
}
