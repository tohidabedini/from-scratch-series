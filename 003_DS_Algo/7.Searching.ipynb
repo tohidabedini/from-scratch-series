{
 "cells": [
  {
   "cell_type": "markdown",
   "id": "315e334e-7cc0-41b1-9cf1-44fc1dc4931e",
   "metadata": {},
   "source": [
    "https://bradfieldcs.com/algos/searching/searching/"
   ]
  },
  {
   "cell_type": "markdown",
   "id": "b1ea72e6-0579-428b-8366-52122489f85f",
   "metadata": {},
   "source": [
    "### The Sequential Search "
   ]
  },
  {
   "cell_type": "code",
   "execution_count": 134,
   "id": "dbdfcb7e-5f79-483b-8eb2-c492eef7e091",
   "metadata": {},
   "outputs": [],
   "source": [
    "def sequential_search(input_list, item):\n",
    "    for i in range(len(input_list)):\n",
    "        if item == input_list[i]:\n",
    "            return True\n",
    "    return False"
   ]
  },
  {
   "cell_type": "code",
   "execution_count": 135,
   "id": "450d8e2d-83d8-40c6-8343-e07cbcff392d",
   "metadata": {},
   "outputs": [
    {
     "name": "stdout",
     "output_type": "stream",
     "text": [
      "False\n",
      "True\n"
     ]
    }
   ],
   "source": [
    "testlist = [1, 2, 32, 8, 17, 19, 42, 13, 0]\n",
    "\n",
    "print(sequential_search(testlist, 3))  # => False\n",
    "print(sequential_search(testlist, 13))  # => True"
   ]
  },
  {
   "cell_type": "markdown",
   "id": "be98fd3e-3a78-4784-a39e-c4bea4585dc8",
   "metadata": {},
   "source": [
    "### Analysis of Sequential Search"
   ]
  },
  {
   "cell_type": "code",
   "execution_count": 136,
   "id": "21f90e36-895f-4d05-b498-5d9de0e23290",
   "metadata": {},
   "outputs": [],
   "source": [
    "def ordered_sequential_search(input_list, item):\n",
    "    for i in range(len(input_list)):\n",
    "        current_item = input_list[i]\n",
    "        if item == current_item:\n",
    "            return True\n",
    "        elif item < current_item:\n",
    "            return False\n",
    "    return False       "
   ]
  },
  {
   "cell_type": "code",
   "execution_count": 137,
   "id": "974f7aba-fbd5-4527-9f9c-740bee07c071",
   "metadata": {},
   "outputs": [
    {
     "name": "stdout",
     "output_type": "stream",
     "text": [
      "False\n",
      "True\n"
     ]
    }
   ],
   "source": [
    "testlist = [0, 1, 2, 8, 13, 17, 19, 32, 42]\n",
    "\n",
    "print(ordered_sequential_search(testlist, 3))  # => False\n",
    "print(ordered_sequential_search(testlist, 13))  # => True"
   ]
  },
  {
   "cell_type": "markdown",
   "id": "f3361f63-2ef6-4fa0-a9de-b004f49292fe",
   "metadata": {},
   "source": [
    " ### The Binary Search "
   ]
  },
  {
   "cell_type": "markdown",
   "id": "0a9b3151-f8d5-4f01-b5ba-644b249c265c",
   "metadata": {},
   "source": [
    "#### The Binary Search (slice mode)"
   ]
  },
  {
   "cell_type": "code",
   "execution_count": 138,
   "id": "d0d68c68-df19-4b3d-b48b-b9862851e312",
   "metadata": {},
   "outputs": [],
   "source": [
    "def binary_search(input_list, item):\n",
    "    length = len(input_list)\n",
    "    if length == 0:\n",
    "        return False\n",
    "    # elif length == 1:\n",
    "    #     if input_list[0] == item:\n",
    "    #         return True\n",
    "    #     else:\n",
    "    #         return False\n",
    "    else:\n",
    "        index_to_look = length//2\n",
    "        current_item = input_list[index_to_look]\n",
    "        if current_item == item:\n",
    "            return True\n",
    "        elif current_item < item:\n",
    "            return binary_search(input_list[index_to_look+1:], item)\n",
    "        elif current_item > item:\n",
    "            return binary_search(input_list[:index_to_look], item)"
   ]
  },
  {
   "cell_type": "code",
   "execution_count": 139,
   "id": "e873ae6d-8939-4af8-a776-4dbb91c216b1",
   "metadata": {},
   "outputs": [
    {
     "name": "stdout",
     "output_type": "stream",
     "text": [
      "False\n",
      "True\n"
     ]
    }
   ],
   "source": [
    "testlist = [0, 1, 2, 8, 13, 17, 19, 32, 42]\n",
    "print(binary_search(testlist, 3))  # => False\n",
    "print(binary_search(testlist, 13))  # => True"
   ]
  },
  {
   "cell_type": "markdown",
   "id": "bb833670-096a-4fad-9014-a1ec94b3a720",
   "metadata": {},
   "source": [
    "Even though a binary search is generally better than a sequential search, it is important to note that for small values of n, the additional cost of sorting is probably not worth it. In fact, we should always consider whether it is cost effective to take on the extra work of sorting to gain searching benefits. If we can sort once and then search many times, the cost of the sort is not so significant. However, for large lists, sorting even once can be so expensive that simply performing a sequential search from the start may be the best choice."
   ]
  },
  {
   "cell_type": "markdown",
   "id": "0cad36fe-3906-4e68-b323-4ab5e1d6819a",
   "metadata": {},
   "source": [
    "#### The Binary Search (non-slice mode)"
   ]
  },
  {
   "cell_type": "code",
   "execution_count": 140,
   "id": "6cb4a5fe-4055-4bd5-88c5-ffdc4e54420c",
   "metadata": {},
   "outputs": [],
   "source": [
    "def binary_search_non_slice(input_list, item, start_index=0, end_index=None):\n",
    "    if end_index is None:\n",
    "        length = len(input_list)\n",
    "        end_index = length\n",
    "    length = end_index-start_index\n",
    "    \n",
    "    if length == 0:\n",
    "        return False\n",
    "    else:\n",
    "        index_to_look = ((end_index-start_index)//2)+start_index\n",
    "        current_item = input_list[index_to_look]\n",
    "        if current_item == item:\n",
    "            return True\n",
    "        elif current_item < item:\n",
    "            return binary_search_non_slice(input_list, item, start_index=index_to_look+1, end_index=end_index)\n",
    "        elif current_item > item:\n",
    "            return binary_search_non_slice(input_list, item, start_index=start_index, end_index=index_to_look)"
   ]
  },
  {
   "cell_type": "code",
   "execution_count": 141,
   "id": "6465aff6-4f34-428d-afe9-eba9fa255938",
   "metadata": {},
   "outputs": [
    {
     "name": "stdout",
     "output_type": "stream",
     "text": [
      "False\n",
      "True\n"
     ]
    }
   ],
   "source": [
    "testlist = [0, 1, 2, 8, 13, 17, 19, 32, 42]\n",
    "print(binary_search_non_slice(testlist, 3))  # => False\n",
    "print(binary_search_non_slice(testlist, 13))  # => True"
   ]
  },
  {
   "cell_type": "markdown",
   "id": "8ff5b872-8baf-4b7a-9c24-8410b90ba359",
   "metadata": {},
   "source": [
    "### Time Test"
   ]
  },
  {
   "cell_type": "code",
   "execution_count": 142,
   "id": "8adac9f3-caba-42d9-ac91-d00f1d97be87",
   "metadata": {},
   "outputs": [],
   "source": [
    "testlist = [2*i for i in range(100_000_000)]"
   ]
  },
  {
   "cell_type": "markdown",
   "id": "78df0e6f-b33d-418e-844c-bab6449e8cd4",
   "metadata": {},
   "source": [
    "##### ordered search is better the item is not present in the list (only from performance point of view- not functionality and in real example) - the reason is having two conditions in the while loop"
   ]
  },
  {
   "cell_type": "code",
   "execution_count": 143,
   "id": "ad3547d7-c02c-4204-bf19-161aac24eb04",
   "metadata": {},
   "outputs": [
    {
     "name": "stdout",
     "output_type": "stream",
     "text": [
      "False\n",
      "CPU times: user 3.88 s, sys: 0 ns, total: 3.88 s\n",
      "Wall time: 3.87 s\n",
      "False\n",
      "CPU times: user 1.46 s, sys: 0 ns, total: 1.46 s\n",
      "Wall time: 1.46 s\n",
      "False\n",
      "CPU times: user 821 ms, sys: 173 ms, total: 993 ms\n",
      "Wall time: 987 ms\n",
      "False\n",
      "CPU times: user 47 µs, sys: 7 µs, total: 54 µs\n",
      "Wall time: 56.5 µs\n"
     ]
    }
   ],
   "source": [
    "value= 51_000_001\n",
    "%time print(sequential_search(testlist, value))\n",
    "%time print(ordered_sequential_search(testlist, value))\n",
    "%time print(binary_search(testlist, value))\n",
    "%time print(binary_search_non_slice(testlist, value))"
   ]
  },
  {
   "cell_type": "markdown",
   "id": "7cbc76fe-a33d-4164-92be-d90b67d4a3fc",
   "metadata": {},
   "source": [
    "### Hashing"
   ]
  },
  {
   "cell_type": "markdown",
   "id": "35443f5d-e7bf-41ef-bf0f-7df7120ab800",
   "metadata": {},
   "source": [
    "collision ?"
   ]
  },
  {
   "cell_type": "markdown",
   "id": "d938e0c8-96b5-47ac-b85d-38ffeb43918f",
   "metadata": {},
   "source": [
    "#### Hash Functions"
   ]
  },
  {
   "cell_type": "markdown",
   "id": "4422cb26-4414-46e7-afb6-f5df431cd213",
   "metadata": {},
   "source": [
    "folding method \n",
    "\n",
    "mid-square method"
   ]
  },
  {
   "cell_type": "code",
   "execution_count": 151,
   "id": "23ede6c8-2172-4dfd-9e60-02e872874896",
   "metadata": {},
   "outputs": [],
   "source": [
    "def hash_(astring, tablesize):\n",
    "    the_sum = sum(ord(char) for char in astring)\n",
    "    return the_sum % tablesize    "
   ]
  },
  {
   "cell_type": "code",
   "execution_count": 153,
   "id": "6a9d815c-6522-460b-b250-fedb588ae92f",
   "metadata": {},
   "outputs": [
    {
     "data": {
      "text/plain": [
       "35"
      ]
     },
     "execution_count": 153,
     "metadata": {},
     "output_type": "execute_result"
    }
   ],
   "source": [
    "hash_(\"12weere\",50)"
   ]
  },
  {
   "cell_type": "markdown",
   "id": "b3d608b6-5f8d-4f7b-96aa-52ab1944700c",
   "metadata": {},
   "source": [
    "You may be able to think of a number of additional ways to compute hash values for items in a collection. The important thing to remember is that the hash function has to be efficient so that it does not become the dominant part of the storage and search process. If the hash function is too complex, then it becomes more work to compute the slot name than it would be to simply do a basic sequential or binary search as described earlier. This would quickly defeat the purpose of hashing."
   ]
  },
  {
   "cell_type": "markdown",
   "id": "1d84b3e4-b2fc-471e-a905-13670df70bbc",
   "metadata": {},
   "source": [
    "#### Collision Resolution"
   ]
  },
  {
   "cell_type": "markdown",
   "id": "87c2af96-7026-4f94-bcfa-b55194502b84",
   "metadata": {},
   "source": [
    "Collision resolution with linear probing\n",
    "\n",
    "the tendency for clustering\n",
    "\n",
    "Collision resolution using “plus 3”\n",
    "\n",
    "rehashing\n",
    "\n",
    "The “plus x” rehash can be defined as:\n",
    "\n",
    "#### rehash(pos)=(pos+x)%sizeoftable\n",
    "\n",
    "x => skip\n",
    "\n",
    "It is important to note that the size of the “skip” must be such that all the slots in the table will eventually be visited. Otherwise, part of the table will be unused. To ensure this, it is often suggested that the table size be a prime number. This is the reason we have been using 11 in our examples.\n",
    "\n",
    "\n",
    "A variation of the linear probing idea is called quadratic probing. Instead of using a constant “skip” value, we use a rehash function that increments the hash value by 1, 3, 5, 7, 9, and so on. This means that if the first hash value is h, the successive values are h+1, h+4, h+9, h+16, and so on. In other words, quadratic probing uses a skip consisting of successive perfect squares.\n",
    "\n",
    "Collision resolution with chaining"
   ]
  },
  {
   "cell_type": "markdown",
   "id": "74dd4faf-c626-4ce9-ab7a-7e9305f3a10a",
   "metadata": {},
   "source": [
    "### Analysis of Hashing"
   ]
  },
  {
   "cell_type": "markdown",
   "id": "4d56b991-a134-4d71-8927-1dc89c2a66e4",
   "metadata": {},
   "source": [
    "The most important piece of information we need to analyze the use of a hash table is the load factor, λ. Conceptually, if λ is small, then there is a lower chance of collisions, meaning that items are more likely to be in the slots where they belong. If λ is large, meaning that the table is filling up, then there are more and more collisions. This means that collision resolution is more difficult, requiring more comparisons to find an empty slot. With chaining, increased collisions means an increased number of items on each chain.\n",
    "\n",
    "Check the URL of the notebook for more precise analysis"
   ]
  }
 ],
 "metadata": {
  "kernelspec": {
   "display_name": "Python 3",
   "language": "python",
   "name": "python3"
  },
  "language_info": {
   "codemirror_mode": {
    "name": "ipython",
    "version": 3
   },
   "file_extension": ".py",
   "mimetype": "text/x-python",
   "name": "python",
   "nbconvert_exporter": "python",
   "pygments_lexer": "ipython3",
   "version": "3.9.13"
  }
 },
 "nbformat": 4,
 "nbformat_minor": 5
}
