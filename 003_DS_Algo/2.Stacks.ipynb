{
 "cells": [
  {
   "cell_type": "markdown",
   "id": "642bcb3a-daed-411f-932c-395e7ce12dbc",
   "metadata": {},
   "source": [
    "https://bradfieldcs.com/algos/stacks/introduction/"
   ]
  },
  {
   "cell_type": "markdown",
   "id": "bee591e4-3719-4ad4-92b5-a850d166b60e",
   "metadata": {
    "jupyter": {
     "source_hidden": true
    },
    "tags": []
   },
   "source": [
    "### Stack"
   ]
  },
  {
   "cell_type": "code",
   "execution_count": 1,
   "id": "2eaaf3bd-a8d7-4094-b2a6-c39661612965",
   "metadata": {},
   "outputs": [],
   "source": [
    "class Stack:\n",
    "    def __init__(self):\n",
    "        self._items = []\n",
    "        \n",
    "    def is_empty(self):\n",
    "        return len(self._items)==0\n",
    "    \n",
    "    def push(self, item):\n",
    "        self._items.append(item)\n",
    "    \n",
    "    def pop(self):\n",
    "        return self._items.pop()\n",
    "    \n",
    "    def peek(self):\n",
    "        return self._items[-1]\n",
    "        \n",
    "    def size(self):\n",
    "        return len(self._items)"
   ]
  },
  {
   "cell_type": "markdown",
   "id": "387d262b-26f6-4c08-acf1-d35732648b4f",
   "metadata": {},
   "source": [
    "###  Balanced Parentheses "
   ]
  },
  {
   "cell_type": "code",
   "execution_count": 3,
   "id": "508a4b7f-726f-405f-862a-0c6fd23f6cc2",
   "metadata": {},
   "outputs": [],
   "source": [
    "def is_balanced(parentheses):\n",
    "    opening = \"(\"\n",
    "    stack = []\n",
    "    for p in parentheses:\n",
    "        if p == opening:\n",
    "            stack.append(p)\n",
    "        else:\n",
    "            try:\n",
    "                stack.pop()\n",
    "            except:\n",
    "                return False\n",
    "    return len(stack) == 0"
   ]
  },
  {
   "cell_type": "code",
   "execution_count": 5,
   "id": "58c54003-e6c4-4bf7-952e-2e641ebcfa45",
   "metadata": {},
   "outputs": [
    {
     "name": "stdout",
     "output_type": "stream",
     "text": [
      "True\n",
      "False\n",
      "False\n"
     ]
    }
   ],
   "source": [
    "print(is_balanced('(()())'))\n",
    "print(is_balanced('(()'))\n",
    "print(is_balanced('())'))"
   ]
  },
  {
   "cell_type": "code",
   "execution_count": 8,
   "id": "107d449c-9de1-47cf-b574-13c2f9c7e0af",
   "metadata": {},
   "outputs": [],
   "source": [
    "def is_balanced(symbols):\n",
    "    pairings = {\n",
    "        '(': ')',\n",
    "        '{': '}',\n",
    "        '[': ']'\n",
    "    }\n",
    "    stack = []\n",
    "    for s in symbols:\n",
    "        if s in pairings:\n",
    "            stack.append(s)\n",
    "        else:\n",
    "            try: \n",
    "                popped = stack.pop()\n",
    "            except:\n",
    "                return False\n",
    "            if s != pairings[popped]:\n",
    "                return False\n",
    "    return len(stack) == 0"
   ]
  },
  {
   "cell_type": "code",
   "execution_count": 9,
   "id": "9f0427e9-d219-4a13-a652-c528f06e909a",
   "metadata": {},
   "outputs": [
    {
     "name": "stdout",
     "output_type": "stream",
     "text": [
      "True\n",
      "False\n",
      "True\n",
      "False\n",
      "False\n"
     ]
    }
   ],
   "source": [
    "print(is_balanced('{{([][])}()}'))\n",
    "print(is_balanced('{[])'))\n",
    "print(is_balanced('((()))'))\n",
    "print(is_balanced('(()'))\n",
    "print(is_balanced('())'))"
   ]
  },
  {
   "cell_type": "markdown",
   "id": "ae2070d8-d84e-4f3f-904e-89c96447a46e",
   "metadata": {},
   "source": [
    "###  Converting Number Bases "
   ]
  },
  {
   "cell_type": "code",
   "execution_count": 16,
   "id": "5743669e-8b34-4e4e-a984-1379ed9a5425",
   "metadata": {},
   "outputs": [],
   "source": [
    "def convert_to_binary(decimal_number):\n",
    "    remainder_stack = []\n",
    "    while decimal_number > 0:\n",
    "        remainder = decimal_number % 2\n",
    "        remainder_stack.append(remainder)\n",
    "        decimal_number //= 2\n",
    "        \n",
    "    binary_digits = []\n",
    "    while remainder_stack:\n",
    "        binary_digits.append(str(remainder_stack.pop()))\n",
    "        \n",
    "    result = \"\".join(binary_digits)\n",
    "    return result"
   ]
  },
  {
   "cell_type": "code",
   "execution_count": 18,
   "id": "4cb92766-c49c-42b0-856c-97ea7a5577b5",
   "metadata": {},
   "outputs": [
    {
     "name": "stdout",
     "output_type": "stream",
     "text": [
      "101010\n"
     ]
    }
   ],
   "source": [
    "print(convert_to_binary(42))"
   ]
  },
  {
   "cell_type": "code",
   "execution_count": 19,
   "id": "bdbbdb3d-5711-4d74-86f0-ae12fd935ad2",
   "metadata": {},
   "outputs": [],
   "source": [
    "def convert_to_base(decimal_number, base):\n",
    "    digits = '0123456789abcdef'\n",
    "    remainder_stack = []\n",
    "    \n",
    "    while decimal_number > 0:\n",
    "        remainder = digits[decimal_number % base]\n",
    "        remainder_stack.append(remainder)\n",
    "        decimal_number //= base\n",
    "        \n",
    "    binary_digits = []\n",
    "    while remainder_stack:\n",
    "        binary_digits.append(str(remainder_stack.pop()))\n",
    "        \n",
    "    result = \"\".join(binary_digits)\n",
    "    return result\n"
   ]
  },
  {
   "cell_type": "code",
   "execution_count": 20,
   "id": "d5acfbf5-6ece-4641-b87c-31d1ad2496b5",
   "metadata": {},
   "outputs": [
    {
     "name": "stdout",
     "output_type": "stream",
     "text": [
      "11001\n",
      "19\n"
     ]
    }
   ],
   "source": [
    "print(convert_to_base(25, 2))\n",
    "print(convert_to_base(25, 16))"
   ]
  },
  {
   "cell_type": "markdown",
   "id": "48956029-7137-4128-a949-fd217890d147",
   "metadata": {},
   "source": [
    "###  Infix, Prefix and Postfix Expressions "
   ]
  },
  {
   "cell_type": "markdown",
   "id": "86c77b52-5d0a-4ca2-bc72-bc8bb89d03e9",
   "metadata": {},
   "source": [
    "https://bradfieldcs.com/algos/stacks/infix-prefix-and-postfix-expressions/"
   ]
  },
  {
   "cell_type": "markdown",
   "id": "fa21ef04-2266-44de-96a6-264b6eda778b",
   "metadata": {},
   "source": [
    "One way to write an expression that guarantees there will be no confusion with respect to the order of operations is to create what’s called a fully parenthesized expression."
   ]
  },
  {
   "cell_type": "markdown",
   "id": "71adb8c9-9e6f-4340-a890-fa594ddc9f3e",
   "metadata": {},
   "source": [
    "#### Conversion of Infix Expressions to Prefix and Postfix"
   ]
  },
  {
   "cell_type": "markdown",
   "id": "efc6ebcd-6649-4774-acfc-260df8827d25",
   "metadata": {},
   "source": [
    "Moving operators to the right for postfix notation\n",
    "\n",
    "Moving operators to the left for prefix notation"
   ]
  },
  {
   "cell_type": "markdown",
   "id": "93d2f440-5c3e-440a-88ae-111afaa3a0cf",
   "metadata": {},
   "source": [
    "#### General Infix-to-Postfix Conversion"
   ]
  },
  {
   "cell_type": "code",
   "execution_count": 73,
   "id": "fe0c5df4-d664-489b-8098-6f01a36233d5",
   "metadata": {},
   "outputs": [],
   "source": [
    "precedence={\n",
    "    \"*\":3,\n",
    "    \"/\":3,\n",
    "    \"+\":2,\n",
    "    \"-\":2,\n",
    "    \"(\":1,\n",
    "}\n",
    "characters = \"ABCDEFGHIJKLMNOPQRSTUVWXYZabcdefghijklmnopqrstuvwxyz\"\n",
    "digits = \"0123456789\"\n",
    "open_par= \"(\"\n",
    "close_par = \")\"\n",
    "operators = \"*/+-\"\n",
    "\n",
    "def is_operand(token, mode=0):\n",
    "    if mode==0:\n",
    "        check=digits\n",
    "    elif mode==1:\n",
    "        check=characters\n",
    "    for i in token:\n",
    "        if i in check:\n",
    "            continue\n",
    "        else:\n",
    "            return False\n",
    "    return True\n",
    "\n",
    "\n",
    "def infix_to_postfix(infix_expression):\n",
    "    operation_stack = []\n",
    "    output = []\n",
    "    tokens = infix_expression.split()\n",
    "    for token in tokens:\n",
    "        if is_operand(token, 0) or is_operand(token, 1):\n",
    "            output.append(token)\n",
    "        elif token == open_par:\n",
    "            operation_stack.append(token)\n",
    "        elif token == close_par:\n",
    "            if len(operation_stack) > 0:\n",
    "                top = operation_stack[-1]\n",
    "            while top != open_par:\n",
    "                popped_item = operation_stack.pop()\n",
    "                output.append(popped_item)\n",
    "                if len(operation_stack) > 0:\n",
    "                    top = operation_stack[-1]\n",
    "                else:\n",
    "                    break\n",
    "\n",
    "        elif token in operators:\n",
    "            if len(operation_stack) > 0:\n",
    "                top = operation_stack[-1]\n",
    "                while (top in operators) and (precedence[top] >= precedence[token]):\n",
    "                    popped_item = operation_stack.pop()\n",
    "                    if popped_item in operators:\n",
    "                        output.append(popped_item)\n",
    "                    if len(operation_stack) > 0:\n",
    "                        top = operation_stack[-1]\n",
    "                    else:\n",
    "                        break\n",
    "            operation_stack.append(token)\n",
    "\n",
    "    while operation_stack:\n",
    "        popped_item = operation_stack.pop()\n",
    "        if popped_item in operators:\n",
    "            output.append(popped_item)\n",
    "        \n",
    "    return \" \".join(output)"
   ]
  },
  {
   "cell_type": "code",
   "execution_count": 75,
   "id": "c868fd50-68ea-4c59-8910-ffc85926c90d",
   "metadata": {},
   "outputs": [
    {
     "name": "stdout",
     "output_type": "stream",
     "text": [
      "A B * C D * +\n",
      "A B + C * D E - F G + * -\n",
      "A B + C D + *\n",
      "A B + C *\n",
      "A B C * +\n"
     ]
    }
   ],
   "source": [
    "print(infix_to_postfix('A * B + C * D'))  # => 'A B * C D * +'\n",
    "print(infix_to_postfix('( A + B ) * C - ( D - E ) * ( F + G )')) # => 'A B + C * D E - F G + * -'\n",
    "print(infix_to_postfix('( A + B ) * ( C + D )'))  # => 'A B + C D + *'\n",
    "print(infix_to_postfix('( A + B ) * C'))  # => 'A B + C *'\n",
    "print(infix_to_postfix('A + B * C'))  # => 'A B C * +'"
   ]
  },
  {
   "cell_type": "markdown",
   "id": "881ffe12-b5f2-468c-9669-0d83ec1f15cb",
   "metadata": {},
   "source": [
    "#### Postfix Evaluation"
   ]
  },
  {
   "cell_type": "code",
   "execution_count": 81,
   "id": "9c7878c3-64b4-4746-86aa-ad621429d177",
   "metadata": {},
   "outputs": [],
   "source": [
    "operators = \"*/+-\"\n",
    "\n",
    "def perform_operation(a, b, operation):\n",
    "    if operation == \"*\":\n",
    "        return a * b\n",
    "    elif operation == \"/\":\n",
    "        return a / b\n",
    "    elif operation == \"+\":\n",
    "        return a + b\n",
    "    elif operation == \"-\":\n",
    "        return a - b\n",
    "\n",
    "def evaluate_postfix(postfix_expression):\n",
    "    operation_stack = []\n",
    "    tokens = postfix_expression.split()\n",
    "    for token in tokens:\n",
    "        if token not in operators:\n",
    "            operation_stack.append(token)\n",
    "        else:\n",
    "            second_operand= float(operation_stack.pop())\n",
    "            first_operand = float(operation_stack.pop())\n",
    "            result = perform_operation(first_operand, second_operand, token)\n",
    "            operation_stack.append(result)\n",
    "    \n",
    "    return operation_stack.pop()"
   ]
  },
  {
   "cell_type": "code",
   "execution_count": 86,
   "id": "e60bab4a-c7ee-46cf-9910-6c2ee050450c",
   "metadata": {},
   "outputs": [
    {
     "name": "stdout",
     "output_type": "stream",
     "text": [
      "3.0\n",
      "34.0\n"
     ]
    }
   ],
   "source": [
    "print(evaluate_postfix('7 8 + 3 2 + /'))  # => 3.0\n",
    "print(evaluate_postfix('4 5 6 * +')) # => 34.0"
   ]
  },
  {
   "cell_type": "code",
   "execution_count": 88,
   "id": "23a9e20c-4207-4dd5-b9a0-97dba9b02b5f",
   "metadata": {},
   "outputs": [],
   "source": [
    "# new to me\n",
    "\n",
    "import operator\n",
    "\n",
    "OPERATION = {\n",
    "    '*': operator.mul,\n",
    "    '/': operator.floordiv,\n",
    "    '-': operator.sub,\n",
    "    '+': operator.add\n",
    "}"
   ]
  },
  {
   "cell_type": "code",
   "execution_count": 89,
   "id": "2ad8d1e0-2166-46a4-9649-0b279aad63e2",
   "metadata": {},
   "outputs": [
    {
     "data": {
      "text/plain": [
       "12"
      ]
     },
     "execution_count": 89,
     "metadata": {},
     "output_type": "execute_result"
    }
   ],
   "source": [
    "OPERATION[\"*\"](3,4)"
   ]
  },
  {
   "cell_type": "code",
   "execution_count": null,
   "id": "2ff0c70b-f0f3-4de8-a36b-0a0f476753b9",
   "metadata": {},
   "outputs": [],
   "source": []
  }
 ],
 "metadata": {
  "kernelspec": {
   "display_name": "Python 3",
   "language": "python",
   "name": "python3"
  },
  "language_info": {
   "codemirror_mode": {
    "name": "ipython",
    "version": 3
   },
   "file_extension": ".py",
   "mimetype": "text/x-python",
   "name": "python",
   "nbconvert_exporter": "python",
   "pygments_lexer": "ipython3",
   "version": "3.9.13"
  }
 },
 "nbformat": 4,
 "nbformat_minor": 5
}
