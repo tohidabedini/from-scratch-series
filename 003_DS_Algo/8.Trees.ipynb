{
 "cells": [
  {
   "cell_type": "markdown",
   "id": "240a91c1-6d5a-4d9e-b871-7ae97f6fc9ad",
   "metadata": {},
   "source": [
    "https://bradfieldcs.com/algos/trees/introduction/"
   ]
  },
  {
   "cell_type": "markdown",
   "id": "2a432fed-c07d-4b16-b27f-2249ea3b286e",
   "metadata": {},
   "source": [
    "### Trees"
   ]
  },
  {
   "cell_type": "markdown",
   "id": "02d8ed5a-ed7b-4e4d-9567-00cf5b0e437c",
   "metadata": {
    "tags": []
   },
   "source": [
    "#### Introduction to Trees -"
   ]
  },
  {
   "cell_type": "markdown",
   "id": "4b6ab37c-f63c-496d-b762-ea133e80f9f3",
   "metadata": {
    "tags": []
   },
   "source": [
    "#### Representing a Tree "
   ]
  },
  {
   "cell_type": "markdown",
   "id": "86d1c220-d6dd-489f-a413-98e1b4776d82",
   "metadata": {},
   "source": [
    "#### Nodes and references representation"
   ]
  },
  {
   "cell_type": "code",
   "execution_count": 65,
   "id": "1d12dc65-917c-4885-9154-7885e5a89e09",
   "metadata": {},
   "outputs": [],
   "source": [
    "class Node:\n",
    "    def __init__(self, val):\n",
    "        self.val = val\n",
    "        self.right = None\n",
    "        self.left = None\n",
    "        \n",
    "    def insert_left(self, child):\n",
    "        if self.left is None:\n",
    "            self.left = child\n",
    "        else:\n",
    "            child.left = self.left\n",
    "            self.left = child\n",
    "            \n",
    "    def insert_right(self, child):\n",
    "        if self.right is None:\n",
    "            self.right = child\n",
    "        else:\n",
    "            child.right = self.right\n",
    "            self.right = child"
   ]
  },
  {
   "cell_type": "code",
   "execution_count": 66,
   "id": "2e89b21f-d6f4-4511-a0f1-c3aab60bd2bd",
   "metadata": {},
   "outputs": [
    {
     "name": "stdout",
     "output_type": "stream",
     "text": [
      "<__main__.Node object at 0x7fd058df1370>\n",
      "<__main__.Node object at 0x7fd058560730>\n",
      "c\n"
     ]
    }
   ],
   "source": [
    "root = Node('a')\n",
    "root.insert_left(Node('b'))\n",
    "print(root.left)\n",
    "root.insert_right(Node('c'))\n",
    "print(root.right)\n",
    "print(root.right.val)\n",
    "root.right.val = 'hello'"
   ]
  },
  {
   "cell_type": "markdown",
   "id": "3f43a9bd-8f57-4ac5-b2c3-f8ce9b978e73",
   "metadata": {},
   "source": [
    "#### List of lists representation"
   ]
  },
  {
   "cell_type": "code",
   "execution_count": 67,
   "id": "9b7c48c9-a24d-4419-b671-23b4b7241672",
   "metadata": {},
   "outputs": [],
   "source": [
    "tree = [\n",
    "    'a',  #root\n",
    "    \n",
    "    \n",
    "    [\n",
    "        'b',  # left subtree\n",
    "        ['d', [], []],\n",
    "        ['e', [], []]\n",
    "    ],\n",
    "    \n",
    "    \n",
    "    [\n",
    "        'c',  # right subtree\n",
    "        ['f', [], []],\n",
    "        []\n",
    "    ]\n",
    "\n",
    "]\n",
    "# or\n",
    "tree = ['a', ['b', ['d', [], []], ['e', [], []]], ['c', ['f', [], []], []]]"
   ]
  },
  {
   "cell_type": "code",
   "execution_count": 68,
   "id": "4a1bf8e5-a720-46b2-8153-9e1f81e3ce33",
   "metadata": {},
   "outputs": [
    {
     "name": "stdout",
     "output_type": "stream",
     "text": [
      "['b', ['d', [], []], ['e', [], []]]\n",
      "['c', ['f', [], []], []]\n",
      "a\n"
     ]
    }
   ],
   "source": [
    "# the left subtree\n",
    "print(tree[1])  # => ['b', ['d', [], []], ['e', [], []]]\n",
    "\n",
    "# the right subtree\n",
    "print(tree[2])  # => ['c', ['f', [], []], []]\n",
    "\n",
    "# the root\n",
    "print(tree[0])  # => 'a'"
   ]
  },
  {
   "cell_type": "code",
   "execution_count": 69,
   "id": "3ae29fc5-126f-4e1f-9ce3-9635224aa5a4",
   "metadata": {},
   "outputs": [],
   "source": [
    "\n",
    "def insert_left(root, child_val):\n",
    "    subtree = root.pop(1)\n",
    "    if len(subtree)>1:\n",
    "        root.insert(1, [child_val, subtree, []])\n",
    "    else:\n",
    "        root.insert(1, [child_val, [], []])\n",
    "\n",
    "    return root\n",
    "\n",
    "def insert_right(root, child_val):\n",
    "    subtree = root.pop(2)\n",
    "    if len(subtree)>1:\n",
    "        root.insert(2, [child_val, [], subtree])\n",
    "    else:\n",
    "        root.insert(2, [child_val, [], []])\n",
    "            \n",
    "    return root\n",
    "  \n",
    "def get_root_val(root):\n",
    "    return root[0]\n",
    "\n",
    "def set_root_val(root, new_val):\n",
    "    root[0] = new_val\n",
    "\n",
    "def get_left_child(root):\n",
    "    return root[1]\n",
    "\n",
    "def get_right_child(root):\n",
    "    return root[2]"
   ]
  },
  {
   "cell_type": "code",
   "execution_count": 70,
   "id": "5ec5e324-c2a3-4d48-a7f5-3d1bb7eced62",
   "metadata": {},
   "outputs": [
    {
     "name": "stdout",
     "output_type": "stream",
     "text": [
      "[5, [4, [], []], []]\n"
     ]
    }
   ],
   "source": [
    "root = [3, [], []]\n",
    "insert_left(root, 4)\n",
    "insert_left(root, 5)\n",
    "insert_right(root, 6)\n",
    "insert_right(root, 7)\n",
    "left = get_left_child(root)\n",
    "\n",
    "print(left)"
   ]
  },
  {
   "cell_type": "code",
   "execution_count": 71,
   "id": "0b431b4b-5033-4299-bb5f-81bf29d8ef82",
   "metadata": {},
   "outputs": [
    {
     "name": "stdout",
     "output_type": "stream",
     "text": [
      "[3, [9, [4, [], []], []], [7, [], [6, [], []]]]\n"
     ]
    }
   ],
   "source": [
    "set_root_val(left, 9)\n",
    "print(root)"
   ]
  },
  {
   "cell_type": "code",
   "execution_count": 72,
   "id": "7f777ce3-c26f-49c0-946f-d13a99944f6b",
   "metadata": {},
   "outputs": [
    {
     "data": {
      "text/plain": [
       "[9, [11, [4, [], []], []], []]"
      ]
     },
     "execution_count": 72,
     "metadata": {},
     "output_type": "execute_result"
    }
   ],
   "source": [
    "insert_left(left, 11)"
   ]
  },
  {
   "cell_type": "code",
   "execution_count": 73,
   "id": "ff79786b-8940-444b-b2bf-dec391343a05",
   "metadata": {},
   "outputs": [
    {
     "name": "stdout",
     "output_type": "stream",
     "text": [
      "[3, [9, [11, [4, [], []], []], []], [7, [], [6, [], []]]]\n",
      "[6, [], []]\n"
     ]
    }
   ],
   "source": [
    "print(root)\n",
    "print(get_right_child(get_right_child(root)))"
   ]
  },
  {
   "cell_type": "markdown",
   "id": "76d3a245-51ad-484b-9a3f-5c1c427676d0",
   "metadata": {},
   "source": [
    "#### Map-based representation"
   ]
  },
  {
   "cell_type": "code",
   "execution_count": 74,
   "id": "2826986f-dc94-4096-9119-b262fee5380d",
   "metadata": {},
   "outputs": [],
   "source": [
    "root_binary = {\n",
    "    'val': 'A',\n",
    "    'left': {\n",
    "        'val': 'B',\n",
    "        'left': {'val': 'D'},\n",
    "        'right': {'val': 'E'}\n",
    "    },\n",
    "    'right': {\n",
    "        'val': 'C',\n",
    "        'right': {'val': 'F'}\n",
    "    }\n",
    "}\n"
   ]
  },
  {
   "cell_type": "code",
   "execution_count": 75,
   "id": "2ff4e4ad-0d39-4c39-b443-df93cd70d42d",
   "metadata": {},
   "outputs": [],
   "source": [
    "root_non_binary = {\n",
    "    'val': 'A',\n",
    "    'children': [\n",
    "        {\n",
    "            'val': 'B',\n",
    "            'children': [\n",
    "                {'val': 'D'},\n",
    "                {'val': 'E'},\n",
    "            ]\n",
    "        },\n",
    "        {\n",
    "            'val': 'C',\n",
    "            'children': [\n",
    "                {'val': 'F'},\n",
    "                {'val': 'G'},\n",
    "                {'val': 'H'}\n",
    "            ]\n",
    "        }\n",
    "    ]\n",
    "}\n"
   ]
  },
  {
   "cell_type": "markdown",
   "id": "99ce0eba-78df-4977-9979-c17e02756bdb",
   "metadata": {},
   "source": [
    "###  Parse Trees "
   ]
  },
  {
   "cell_type": "code",
   "execution_count": 76,
   "id": "45852e4a-4f55-40cb-b8a2-73dc8d162ec1",
   "metadata": {},
   "outputs": [],
   "source": [
    "operators = [\"+\", \"-\", \"*\", \"/\"]\n",
    "\n",
    "def build_parse_tree(expression):\n",
    "    first = True\n",
    "    tokens = expression.split()\n",
    "    root = Node(\"\")\n",
    "    stack = [root]\n",
    "    current_node = root\n",
    "    print(tokens)\n",
    "    for token in tokens: \n",
    "        print(token, stack)\n",
    "        if token == \"(\":\n",
    "            current_node.insert_left(Node(\"\"))\n",
    "            stack.append(current_node)\n",
    "            current_node = current_node.left\n",
    "            \n",
    "        elif token in operators:\n",
    "            current_node.val = token\n",
    "            current_node.insert_right(Node(\"\"))\n",
    "            stack.append(current_node)\n",
    "            current_node = current_node.right\n",
    "            \n",
    "        elif token == \")\":\n",
    "            current_node = stack.pop()\n",
    "            \n",
    "        else:\n",
    "            current_node.val = int(token)\n",
    "            current_node = stack.pop()\n",
    "            \n",
    "    return root"
   ]
  },
  {
   "cell_type": "code",
   "execution_count": 77,
   "id": "8bb4330b-7816-4db0-86e8-c267516d6ae2",
   "metadata": {},
   "outputs": [
    {
     "name": "stdout",
     "output_type": "stream",
     "text": [
      "['(', '3', '+', '(', '4', '*', '5', ')', ')']\n",
      "( [<__main__.Node object at 0x7fd058df1ac0>]\n",
      "3 [<__main__.Node object at 0x7fd058df1ac0>, <__main__.Node object at 0x7fd058df1ac0>]\n",
      "+ [<__main__.Node object at 0x7fd058df1ac0>]\n",
      "( [<__main__.Node object at 0x7fd058df1ac0>, <__main__.Node object at 0x7fd058df1ac0>]\n",
      "4 [<__main__.Node object at 0x7fd058df1ac0>, <__main__.Node object at 0x7fd058df1ac0>, <__main__.Node object at 0x7fd058560850>]\n",
      "* [<__main__.Node object at 0x7fd058df1ac0>, <__main__.Node object at 0x7fd058df1ac0>]\n",
      "5 [<__main__.Node object at 0x7fd058df1ac0>, <__main__.Node object at 0x7fd058df1ac0>, <__main__.Node object at 0x7fd058560850>]\n",
      ") [<__main__.Node object at 0x7fd058df1ac0>, <__main__.Node object at 0x7fd058df1ac0>]\n",
      ") [<__main__.Node object at 0x7fd058df1ac0>]\n"
     ]
    }
   ],
   "source": [
    "parse_tree = build_parse_tree(\"( 3 + ( 4 * 5 ) )\")"
   ]
  },
  {
   "cell_type": "code",
   "execution_count": 78,
   "id": "1cb683b1-6b3a-44a3-8f3f-b367f98ecb4b",
   "metadata": {},
   "outputs": [
    {
     "data": {
      "text/plain": [
       "'+'"
      ]
     },
     "execution_count": 78,
     "metadata": {},
     "output_type": "execute_result"
    }
   ],
   "source": [
    "parse_tree.val"
   ]
  },
  {
   "cell_type": "code",
   "execution_count": 79,
   "id": "e5c0adbe-ed35-4aa9-ad9b-a10d1890fd92",
   "metadata": {},
   "outputs": [],
   "source": [
    "operators = [\"*\", \"/\", \"+\", \"-\"]\n",
    "\n",
    "def perform_operation(a, b, operation):\n",
    "    if operation == \"*\":\n",
    "        return a * b\n",
    "    elif operation == \"/\":\n",
    "        return a / b\n",
    "    elif operation == \"+\":\n",
    "        return a + b\n",
    "    elif operation == \"-\":\n",
    "        return a - b"
   ]
  },
  {
   "cell_type": "code",
   "execution_count": 80,
   "id": "72829d64-ee50-4ec9-ad05-f8c650a3a8e5",
   "metadata": {},
   "outputs": [],
   "source": [
    "def evaluate(tree):\n",
    "    try:\n",
    "        return perform_operation(evaluate(tree.left), evaluate(tree.right), tree.val)\n",
    "    except:\n",
    "        return tree.val"
   ]
  },
  {
   "cell_type": "code",
   "execution_count": 81,
   "id": "4d6f0072-0e54-4fa8-936e-3ef54d816cee",
   "metadata": {},
   "outputs": [
    {
     "data": {
      "text/plain": [
       "23"
      ]
     },
     "execution_count": 81,
     "metadata": {},
     "output_type": "execute_result"
    }
   ],
   "source": [
    "evaluate(parse_tree)"
   ]
  },
  {
   "cell_type": "markdown",
   "id": "2ea4e484-9fc2-479b-bffa-2bcfaf135a53",
   "metadata": {},
   "source": [
    "### Tree Traversals"
   ]
  },
  {
   "cell_type": "markdown",
   "id": "2a6228fb-5128-4855-8526-472f4b0e1a99",
   "metadata": {},
   "source": [
    "preorder, inorder, and postorder"
   ]
  },
  {
   "cell_type": "code",
   "execution_count": 82,
   "id": "2bb340c7-e124-4a14-b8de-ce7e33480d91",
   "metadata": {},
   "outputs": [],
   "source": [
    "def preorder(node):\n",
    "    if node:\n",
    "        print(node.val)\n",
    "        preorder(node.left)\n",
    "        preorder(node.right)\n",
    "        \n",
    "def postorder(node):\n",
    "    if node:\n",
    "        preorder(node.left)\n",
    "        preorder(node.right)\n",
    "        print(node.val)\n",
    "        \n"
   ]
  },
  {
   "cell_type": "code",
   "execution_count": 83,
   "id": "7ced949c-398c-4f8b-a5b4-5ae786a044f4",
   "metadata": {},
   "outputs": [
    {
     "name": "stdout",
     "output_type": "stream",
     "text": [
      "+\n",
      "3\n",
      "*\n",
      "4\n",
      "5\n"
     ]
    }
   ],
   "source": [
    "preorder(parse_tree)"
   ]
  },
  {
   "cell_type": "code",
   "execution_count": 84,
   "id": "2381a1c7-91a0-42c7-89e2-9def710f81ef",
   "metadata": {},
   "outputs": [],
   "source": [
    "def construct_expression(parse_tree):\n",
    "    if parse_tree is None:\n",
    "        return \"\"\n",
    "    else:\n",
    "        left = construct_expression(parse_tree.left)\n",
    "        val = parse_tree.val\n",
    "        right = construct_expression(parse_tree.right)\n",
    "        \n",
    "        if left and right:\n",
    "            return '( {} {} {} )'.format(left, val, right)\n",
    "        else:\n",
    "            return val"
   ]
  },
  {
   "cell_type": "code",
   "execution_count": 85,
   "id": "6d8a7cd7-cf2c-4c55-acec-29323e0bf8ec",
   "metadata": {},
   "outputs": [
    {
     "data": {
      "text/plain": [
       "'( 3 + ( 4 * 5 ) )'"
      ]
     },
     "execution_count": 85,
     "metadata": {},
     "output_type": "execute_result"
    }
   ],
   "source": [
    "construct_expression(parse_tree)"
   ]
  },
  {
   "cell_type": "markdown",
   "id": "dda4d577-e6f9-44af-8221-f2e26032c13a",
   "metadata": {},
   "source": [
    "### Priority Queues with Binary Heaps "
   ]
  },
  {
   "cell_type": "markdown",
   "id": "a0c8a984-aa78-4c58-9f0b-a4121c3218d5",
   "metadata": {},
   "source": [
    "    the highest priority items are retrieved from the queue ahead of lower priority items.\n",
    "    The classic way to implement a priority queue is using a data structure called a binary heap. A binary heap will allow us to enqueue or dequeue items in O(logn)\n",
    "    The binary heap has two common variations: the min heap, in which the smallest key is always at the front, and the max heap, in which the largest key value is always at the front.\n",
    "    \n",
    "    \n",
    "\n",
    "    BinaryHeap() creates a new, empty, binary heap.\n",
    "    insert(k) adds a new item to the heap.\n",
    "    find_min() returns the item with the minimum key value, leaving item in the heap.\n",
    "    del_min() returns the item with the minimum key value, removing the item from the heap.\n",
    "    is_empty() returns true if the heap is empty, false otherwise.\n",
    "    size() returns the number of items in the heap.\n",
    "    build_heap(list) builds a new heap from a list of keys.\n",
    "\n",
    "    In order for our heap to work efficiently, we will take advantage of the logarithmic nature of the binary tree to represent our heap. In order to guarantee logarithmic performance, we must keep our tree balanced.\n",
    "    \n",
    "    A complete binary tree is a tree in which each level has all of its nodes. \n",
    "    \n",
    "    Because the tree is complete, the left child of a parent (at position ppp) is the node that is found in position 2p in the list. Similarly, the right child of the parent is at position 2p+1 in the list. \n",
    "        \n",
    "    To find the parent of any node in the tree, we can simply use integer division (like normal mathematical division except we discard the remainder). Given that a node is at position nnn in the list, the parent is at position n/2.\n",
    "        \n",
    "    "
   ]
  },
  {
   "cell_type": "markdown",
   "id": "f6f8caf5-bcbb-4c7a-a57c-f0644f46567e",
   "metadata": {},
   "source": [
    "### The Heap Order Property"
   ]
  },
  {
   "cell_type": "markdown",
   "id": "df07e33b-d2f0-4130-a026-7e15a6933ff0",
   "metadata": {},
   "source": [
    "    The method that we will use to store items in a heap relies on maintaining the heap order property. The heap order property is as follows: In a heap, for every node x with parent p, the key in p is smaller than or equal to the key in x."
   ]
  },
  {
   "cell_type": "markdown",
   "id": "c84a45ea-a544-4911-8a6a-0525b62efdd7",
   "metadata": {},
   "source": [
    "### Heap Operations"
   ]
  },
  {
   "cell_type": "code",
   "execution_count": 86,
   "id": "7bcb4ccd-1274-4221-a7f3-c24d1d74f227",
   "metadata": {},
   "outputs": [],
   "source": [
    "class BinaryHeap:\n",
    "    def __init__(self):\n",
    "        self.items = [0]\n",
    "    \n",
    "    def __len__(self):\n",
    "        return len(self.items) - 1\n",
    "    \n",
    "    def percolate_up(self):\n",
    "        i = len(self)\n",
    "        while i//2 > 0:\n",
    "            if self.items[i] < self.items[i//2]:\n",
    "                self.items[i], self.items[i//2] = self.items[i//2], self.items[i]\n",
    "                \n",
    "            i //= 2\n",
    "            \n",
    "    def insert(self, k):\n",
    "        self.items.append(k)\n",
    "        self.percolate_up()\n",
    "\n",
    "    def percolate_down(self, i):\n",
    "        while 2*i <= len(self):\n",
    "            mc = self.min_child(i)\n",
    "            if self.items[i] > self.items[mc]:\n",
    "                self.items[i], self.items[mc] = self.items[mc], self.items[i]\n",
    "                \n",
    "            i = mc\n",
    "            \n",
    "    def min_child(self, i):\n",
    "        if (2*i) + 1 > len(self):\n",
    "            return 2*i\n",
    "        elif self.items[2*i] > self.items[2*i + 1]:\n",
    "            return 2*i + 1\n",
    "        else:\n",
    "            return 2*i\n",
    "        \n",
    "    def delete_min(self):\n",
    "        min_value = self.items[1]\n",
    "        self.items[1] = self.items[-1]\n",
    "        self.items.pop()\n",
    "        self.percolate_down(1)\n",
    "        return min_value\n",
    "    \n",
    "    def build_heap(self, input_list):\n",
    "        i = len(input_list)//2\n",
    "        self.items = [0] + input_list\n",
    "        while i>0:\n",
    "            self.percolate_down(i)\n",
    "            i -= 1"
   ]
  },
  {
   "cell_type": "code",
   "execution_count": 87,
   "id": "600dadcb-1051-43ad-b783-31ac6a78f394",
   "metadata": {},
   "outputs": [],
   "source": [
    "bh = BinaryHeap()"
   ]
  },
  {
   "cell_type": "code",
   "execution_count": 88,
   "id": "84ceac79-ea99-4c2d-bc40-0bede7922292",
   "metadata": {},
   "outputs": [],
   "source": [
    "bh.build_heap([2,3,4,5,753,20,21,30,56,80,8,876,54,35])"
   ]
  },
  {
   "cell_type": "code",
   "execution_count": 89,
   "id": "c2ad53a8-958e-4726-bb1e-24426e957abb",
   "metadata": {},
   "outputs": [
    {
     "data": {
      "text/plain": [
       "[0, 2, 3, 4, 5, 8, 20, 21, 30, 56, 80, 753, 876, 54, 35]"
      ]
     },
     "execution_count": 89,
     "metadata": {},
     "output_type": "execute_result"
    }
   ],
   "source": [
    "bh.items"
   ]
  },
  {
   "cell_type": "code",
   "execution_count": 90,
   "id": "8015f6bf-3a03-4ecc-aef1-dcbffc1e1049",
   "metadata": {},
   "outputs": [
    {
     "data": {
      "text/plain": [
       "(20, 876, 54)"
      ]
     },
     "execution_count": 90,
     "metadata": {},
     "output_type": "execute_result"
    }
   ],
   "source": [
    "i = 6\n",
    "bh.items[i], bh.items[2*i], bh.items[2*i+1]"
   ]
  },
  {
   "cell_type": "markdown",
   "id": "550197ca-0176-4f45-8e08-d242a7c270bb",
   "metadata": {},
   "source": [
    "### Binary Search Trees "
   ]
  },
  {
   "cell_type": "markdown",
   "id": "4f044c33-087f-4df7-8a52-a56d1b35e89b",
   "metadata": {},
   "source": [
    "\n",
    "    Map() Create a new, empty map.\n",
    "    \n",
    "    put(key, val) Add a new key-value pair to the map. If the key is already in the map then replace the old value with the new value.\n",
    "    \n",
    "    get(key) Given a key, return the value stored in the map or None otherwise.\n",
    "    \n",
    "    del Delete the key-value pair from the map using a statement of the form del map[key].\n",
    "    \n",
    "    len() Return the number of key-value pairs stored in the map.\n",
    "    \n",
    "    in Return True for a statement of the form key in map, if the given key is in the map.\n"
   ]
  },
  {
   "cell_type": "markdown",
   "id": "bde9a5ff-0d5d-48ec-bb7c-0a615192f9f9",
   "metadata": {},
   "source": [
    "#### Implementation"
   ]
  },
  {
   "cell_type": "markdown",
   "id": "5bea32c9-d89e-433d-b5cc-636902ae02c5",
   "metadata": {},
   "source": [
    "    A binary search tree relies on the property that keys that are less than the parent are found in the left subtree, and keys that are greater than the parent are found in the right subtree. We will call this the BST property."
   ]
  },
  {
   "cell_type": "code",
   "execution_count": 91,
   "id": "f4f0ee16-e9a6-4f47-949a-5e0cd2d2c661",
   "metadata": {},
   "outputs": [],
   "source": [
    "class TreeNode:\n",
    "\n",
    "    def __init__(self, key, val, left=None, right=None, parent=None):\n",
    "        self.key = key\n",
    "        self.val = val\n",
    "        self.left = left\n",
    "        self.right = right\n",
    "        self.parent = parent\n",
    "        \n",
    "    def is_left_child(self):\n",
    "        return self.parent and self.parent.left == self\n",
    "        \n",
    "    def is_right_child(self):\n",
    "        return self.parent and self.parent.right == self\n",
    "    \n",
    "    def is_leaf(self):\n",
    "        return ((self.right is None) and (self.left is None))\n",
    "    \n",
    "    def has_any_children(self):\n",
    "        return ((self.left is not None) or (self.right is not None))\n",
    "    \n",
    "    def has_both_children(self):\n",
    "        return ((self.left is not None) and (self.right is not None))\n",
    "    \n",
    "    def has_one_child(self):\n",
    "        return self.has_any_children() and not self.has_both_children()\n",
    "    \n",
    "    def replace_node_data(self, key, val, left, right):\n",
    "        self.key = key\n",
    "        self.val = val\n",
    "        self.left = left\n",
    "        self.right = right\n",
    "        if self.left:\n",
    "            self.left.parent = self\n",
    "        if self.right:\n",
    "            self.right.parent = self\n",
    "            \n",
    "    def __iter__(self):\n",
    "        if self is None:\n",
    "            return\n",
    "        \n",
    "        left_child = self.left\n",
    "        if left_child:\n",
    "            for element in left_child:\n",
    "                yield element\n",
    "                \n",
    "        yield self.key\n",
    "        \n",
    "        right_child = self.right\n",
    "        if right_child:\n",
    "            for element in right_child:\n",
    "                yield element\n",
    "                \n",
    "           \n",
    "    def find_min(self):\n",
    "        current = self\n",
    "        while current.left:\n",
    "            current = current.left\n",
    "        return current\n",
    "    \n",
    "    \n",
    "    def find_successor(self):\n",
    "        if self.right:\n",
    "            return self.right.find_min()\n",
    "        \n",
    "        elif self.parent is None:\n",
    "            return None\n",
    "        \n",
    "        elif self.is_left_child():\n",
    "            return self.parent\n",
    "        \n",
    "        self.parent.right = None\n",
    "        successor = self.parent.find_successor()\n",
    "        self.parent.right = self\n",
    "        return successor\n",
    "    \n",
    "    def splice_out(self):\n",
    "        if self.is_leaf():\n",
    "            if self.is_left_child():\n",
    "                self.parent.left = None\n",
    "            else:\n",
    "                self.parent.right = None\n",
    "\n",
    "        else:\n",
    "            promoted_node = self.left or self.right\n",
    "\n",
    "            if self.is_left_child():\n",
    "                self.parent.left = promoted_node\n",
    "            else:\n",
    "                self.parent.right = promoted_node\n",
    "            promoted_node.parent = self.parent        "
   ]
  },
  {
   "cell_type": "markdown",
   "id": "08dc8ced-a8ea-4ff7-a524-04bcd5a9964a",
   "metadata": {},
   "source": [
    "    successor: the node that has the next-largest key in the tree\n",
    "    "
   ]
  },
  {
   "cell_type": "code",
   "execution_count": 92,
   "id": "b1deaa04-eff2-41c2-bc81-45d9bd8cf113",
   "metadata": {},
   "outputs": [],
   "source": [
    "class BinarySearchTree:\n",
    "    TreeNodeClass = TreeNode\n",
    "    \n",
    "    def __init__(self):\n",
    "        self.size = 0\n",
    "        self.root = None\n",
    "        \n",
    "    def __len__(self):\n",
    "        return self.size\n",
    "    \n",
    "    def __iter__(self):\n",
    "        return self.root.__iter__()\n",
    "    \n",
    "    def __setitem__(self, key, val):\n",
    "        if self.root:\n",
    "            self._put(key, val, self.root)\n",
    "        else:\n",
    "            self.root = self.TreeNodeClass(key, val, parent=Node)\n",
    "        self.size += 1\n",
    "        \n",
    "    def _put(self, key, val, node):\n",
    "        if key < node.key:\n",
    "            if node.left:\n",
    "                _put(key, val, node.left)\n",
    "            else:\n",
    "                node.left = self.TreeNodeClass(key, val, parent=Node)\n",
    "        else:\n",
    "            if node.right:\n",
    "                _put(key, val, node.right)\n",
    "            else:\n",
    "                node.right = self.TreeNodeClass(key, val, parent=Node)\n",
    "    \n",
    "    def __getitem__(self, key):\n",
    "        if self.root:\n",
    "            result = self._get(key, self.root)\n",
    "        raise KeyError\n",
    "        \n",
    "    def _get(self, key, node):\n",
    "        if not node:\n",
    "            return None\n",
    "        elif node.key == key:\n",
    "            return node\n",
    "        elif key < node.key:\n",
    "            return _get(key, node.left)\n",
    "        elif key > node.key:\n",
    "            return _get(key, node.right)\n",
    "        \n",
    "    def __contains__(self, key):\n",
    "        return bool(self._get(self, key, self.root))\n",
    "    \n",
    "    def delete(self, key):\n",
    "        if self.size>1:\n",
    "            node_to_remove = self._get(key, self.root)\n",
    "            if node_to_remove:\n",
    "                self.remove(node_to_remove)\n",
    "                self.size -= 1\n",
    "                return\n",
    "\n",
    "        elif size==1 and self.root.key == key:\n",
    "            self.root = None\n",
    "            self.size -= 1\n",
    "            return\n",
    "        \n",
    "        else:\n",
    "            raise KeyError(\"Key not found\")\n",
    "        \n",
    "    def __delitem__(self, key):\n",
    "        self.delete(key)\n",
    "    \n",
    "    def remove(self, node):\n",
    "        if node.is_leaf() and parent is not None:\n",
    "            if node == node.parent.left:\n",
    "                node.parent.left = None\n",
    "            elif node == node.parent.right:\n",
    "                node.parent.right = None\n",
    "        \n",
    "        elif node.has_one_child():\n",
    "            promoted_node = node.left or node.right\n",
    "            \n",
    "            if node.is_left_child():\n",
    "                promoted_node.parent = node.parent\n",
    "                node.parent.left = promoted_node\n",
    "                # ?\n",
    "                # promoted_node.parent.left = promoted_node\n",
    "                \n",
    "            elif node.is_right_child():\n",
    "                promoted_node.parent = node.parent\n",
    "                node.parent.right = promoted_node\n",
    "            else:\n",
    "                node.replace_node_data(\n",
    "                    promoted_node.key,\n",
    "                    promoted_node.val,\n",
    "                    promoted_node.left,\n",
    "                    promoted_node.right\n",
    "                )\n",
    "        \n",
    "        else:\n",
    "            successor = node.find_successor()\n",
    "            if successor:\n",
    "                successor.splice_out()\n",
    "                node.key = successor.key\n",
    "                node.val = successor.val"
   ]
  },
  {
   "cell_type": "markdown",
   "id": "c92f0531-fc9d-4784-8346-fcaeac074ebd",
   "metadata": {},
   "source": [
    "#### Analysis"
   ]
  },
  {
   "cell_type": "markdown",
   "id": "575b3acc-d290-4d66-aad7-a076a506116f",
   "metadata": {},
   "source": [
    "    A perfectly balanced tree has the same number of nodes in the left subtree as it does in the right subtree. In a balanced binary tree, the worst-case performance of put is O(log2n), where nnn is the number of nodes in the tree. Notice that this is the inverse relationship to the calculation in the previous paragraph. So log2n gives us the height of the tree, and represents the maximum number of comparisons that put will need to do as it searches for the proper place to insert a new node.\n",
    "\n",
    "    Unfortunately it is possible to construct a search tree that has height n simply by inserting the keys in sorted order! An example of such a tree is shown below. In this case the performance of the put method is O(n)."
   ]
  },
  {
   "cell_type": "markdown",
   "id": "ad9b091b-336d-4d09-b1ec-8b45cde8887f",
   "metadata": {},
   "source": [
    "###  AVL Trees "
   ]
  },
  {
   "cell_type": "markdown",
   "id": "3548aac2-f09c-48ec-b9cc-73512c0e6da5",
   "metadata": {},
   "source": [
    "    balanceFactor=height(leftSubTree)−height(rightSubTree)"
   ]
  },
  {
   "cell_type": "markdown",
   "id": "6f12308c-e070-4fc3-9e70-352d6b1beeb4",
   "metadata": {},
   "source": [
    "    N​h​​=1+(N​h−1​​)+(N​h−2​​)"
   ]
  },
  {
   "cell_type": "markdown",
   "id": "358f40bd-d53a-4f69-8300-bda85ce783f2",
   "metadata": {},
   "source": [
    "    h=1.44logN​h​​\n",
    "    This derivation shows us that at any time the height of our AVL tree is equal to a constant(1.44) times the log of the number of nodes in the tree. This is great news for searching our AVL tree because it limits the search to O(logN)."
   ]
  },
  {
   "cell_type": "markdown",
   "id": "69ecfb43-6195-4d57-84fa-2ef2f16eaf78",
   "metadata": {},
   "source": [
    "#### Implementation"
   ]
  },
  {
   "cell_type": "code",
   "execution_count": 93,
   "id": "057c9584-5aaa-418f-9e40-901db2e7d543",
   "metadata": {},
   "outputs": [],
   "source": [
    "class AVLTreeNode(TreeNode):\n",
    "    def __init__(self, *args, **kwargs):\n",
    "        super(AVLTreeNode, self).__init__(*args, **kwargs)\n",
    "        self.balance_factor = 0"
   ]
  },
  {
   "cell_type": "code",
   "execution_count": 94,
   "id": "4e75786f-d3ca-4d77-b66d-4da2e3a8b0ef",
   "metadata": {},
   "outputs": [],
   "source": [
    "class AVLTree(BinarySearchTree):\n",
    "    TreeNodeClass = AVLTreeNode\n",
    "    \n",
    "    def _put(self, key, val, node):\n",
    "        if key < node.key:\n",
    "            if node.left:\n",
    "                self._put(key, val, node.left)\n",
    "            else:\n",
    "                node.left = self.TreeNodeClass(key, val, parent=node)\n",
    "                self.update_balance(node.left)\n",
    "                \n",
    "        else:\n",
    "            if node.right:\n",
    "                self._put(key, val, node.right)\n",
    "            else:\n",
    "                node.right = self.TreeNodeClass(key, val, parent=node)\n",
    "                self.update_balance(node.right)\n",
    "                \n",
    "    def update_balance(self, node):\n",
    "        if node.balance_factor > 1 or node.balance_factor < -1:\n",
    "            self.rebalance(node)\n",
    "            return \n",
    "        if node.parent is not None:\n",
    "            if node.is_left_child():\n",
    "                node.parent.balance_factor += 1\n",
    "            elif node.is_right_child:\n",
    "                node.parent.balance_factor -= 1\n",
    "            \n",
    "            if node.parent.balance_facotr != 0:\n",
    "                self.update_balance(node.parent)\n",
    "            \n",
    "            \n",
    "    def rotate_left(self, rotation_root):\n",
    "        new_root = rotation_root.right\n",
    "        rotation_root.right = new_root.left\n",
    "        if new_root.left is not None:\n",
    "            new_root.left.parent = rotation_root\n",
    "        new_root.parent = rotation_root.parent\n",
    "        if not rotation_root.parent:\n",
    "            self.root = new_root\n",
    "        else:\n",
    "            if rotation_root.is_left_child():\n",
    "                rotation_root.parent.left = new_root\n",
    "            else:\n",
    "                rotation_root.parent.right = new_root\n",
    "        new_root.left = rotation_root\n",
    "        rotation_root.parent = new_root\n",
    "        rotation_root.balance_factor +=  1 - min(new_root.balance_factor, 0)\n",
    "        new_root.balance_factor += 1 + max(rotation_root.balance_factor, 0)\n",
    "        \n",
    "    def rotate_right(self, rotation_root):\n",
    "        new_root = rotation_root.left\n",
    "        rotation_root.left = new_root.right\n",
    "        if new_root.right is not None:\n",
    "            new_root.right.parent = rotation_root\n",
    "        new_root.parent = rotation_root.parent\n",
    "        if not rotation_root.parent:\n",
    "            self.root = new_root\n",
    "        else:\n",
    "            if rotation_root.is_left_child():\n",
    "                rotation_root.parent.left = new_root\n",
    "            else:\n",
    "                rotation_root.parent.right = new_root\n",
    "        new_root.right = rotation_root\n",
    "        rotation_root.parent = new_root\n",
    "        rotation_root.balance_factor += 1 - min(new_root.balance_factor, 0)\n",
    "        new_root.balance_factor += 1 + max(rotation_root.balance_factor, 0)\n",
    "\n",
    "    def rebalance(self, node):\n",
    "        if node.balance_factor < 0 and node.right:\n",
    "            if node.right.balance_factor > 0:\n",
    "                self.rotate_right(node.right)\n",
    "                self.rotate_left(node)\n",
    "            else:\n",
    "                self.rotate_left(node)\n",
    "        elif node.balance_factor > 0 and node.left:\n",
    "            if node.left.balance_factor < 0:\n",
    "                self.rotate_left(node.left)\n",
    "                self.rotate_right(node)\n",
    "            else:\n",
    "                self.rotate_right(node)                "
   ]
  },
  {
   "cell_type": "code",
   "execution_count": 95,
   "id": "c378e694-3d6e-4620-bc34-b2ed786444c4",
   "metadata": {},
   "outputs": [],
   "source": [
    "# Future: duplicate key, delete a node"
   ]
  },
  {
   "cell_type": "markdown",
   "id": "8a516a70-1e22-43e6-b315-8a03b93d4f82",
   "metadata": {},
   "source": [
    "    operation \t \tSorted List \tHash Table \tBinary Search Tree \tAVL Tree\n",
    "    put \t \t \tO(n) \t \tO(1) \t \tO(n)  \t \t\tO(log2n)\n",
    "    get \t \t \tO(log2n) \tO(1) \t \tO(n)  \t \t\tO(log2n)\n",
    "    in \t \t \tO(log2n) \tO(1) \t \tO(n)  \t\t \tO(log2n)\n",
    "    del  \t \t\tO(n) \t \tO(1) \t \tO(n) \t \t \tO(log2n)"
   ]
  }
 ],
 "metadata": {
  "kernelspec": {
   "display_name": "Python 3",
   "language": "python",
   "name": "python3"
  },
  "language_info": {
   "codemirror_mode": {
    "name": "ipython",
    "version": 3
   },
   "file_extension": ".py",
   "mimetype": "text/x-python",
   "name": "python",
   "nbconvert_exporter": "python",
   "pygments_lexer": "ipython3",
   "version": "3.9.13"
  }
 },
 "nbformat": 4,
 "nbformat_minor": 5
}
