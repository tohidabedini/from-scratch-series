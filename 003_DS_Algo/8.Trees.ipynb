{
 "cells": [
  {
   "cell_type": "markdown",
   "id": "240a91c1-6d5a-4d9e-b871-7ae97f6fc9ad",
   "metadata": {},
   "source": [
    "https://bradfieldcs.com/algos/trees/introduction/"
   ]
  },
  {
   "cell_type": "markdown",
   "id": "2a432fed-c07d-4b16-b27f-2249ea3b286e",
   "metadata": {},
   "source": [
    "### Trees"
   ]
  },
  {
   "cell_type": "markdown",
   "id": "02d8ed5a-ed7b-4e4d-9567-00cf5b0e437c",
   "metadata": {},
   "source": [
    "#### Introduction to Trees -"
   ]
  },
  {
   "cell_type": "markdown",
   "id": "4b6ab37c-f63c-496d-b762-ea133e80f9f3",
   "metadata": {},
   "source": [
    "#### Representing a Tree "
   ]
  },
  {
   "cell_type": "markdown",
   "id": "86d1c220-d6dd-489f-a413-98e1b4776d82",
   "metadata": {},
   "source": [
    "#### Nodes and references representation"
   ]
  },
  {
   "cell_type": "code",
   "execution_count": 3,
   "id": "1d12dc65-917c-4885-9154-7885e5a89e09",
   "metadata": {},
   "outputs": [],
   "source": [
    "class Node:\n",
    "    def __init__(self, val):\n",
    "        self.val = val\n",
    "        self.right = None\n",
    "        self.left = None\n",
    "        \n",
    "    def insert_left(self, child):\n",
    "        if self.left is None:\n",
    "            self.left = child\n",
    "        else:\n",
    "            child.left = self.left\n",
    "            self.left = child\n",
    "            \n",
    "    def insert_right(self, child):\n",
    "        if self.right is None:\n",
    "            self.right = child\n",
    "        else:\n",
    "            child.right = self.right\n",
    "            self.right = child"
   ]
  },
  {
   "cell_type": "code",
   "execution_count": 4,
   "id": "2e89b21f-d6f4-4511-a0f1-c3aab60bd2bd",
   "metadata": {},
   "outputs": [
    {
     "name": "stdout",
     "output_type": "stream",
     "text": [
      "<__main__.Node object at 0x7f8dcc2fbb80>\n",
      "<__main__.Node object at 0x7f8dcc5bf880>\n",
      "c\n"
     ]
    }
   ],
   "source": [
    "root = Node('a')\n",
    "root.insert_left(Node('b'))\n",
    "print(root.left)\n",
    "root.insert_right(Node('c'))\n",
    "print(root.right)\n",
    "print(root.right.val)\n",
    "root.right.val = 'hello'"
   ]
  },
  {
   "cell_type": "markdown",
   "id": "3f43a9bd-8f57-4ac5-b2c3-f8ce9b978e73",
   "metadata": {},
   "source": [
    "#### List of lists representation"
   ]
  },
  {
   "cell_type": "code",
   "execution_count": 5,
   "id": "9b7c48c9-a24d-4419-b671-23b4b7241672",
   "metadata": {},
   "outputs": [],
   "source": [
    "tree = [\n",
    "    'a',  #root\n",
    "    \n",
    "    \n",
    "    [\n",
    "        'b',  # left subtree\n",
    "        ['d', [], []],\n",
    "        ['e', [], []]\n",
    "    ],\n",
    "    \n",
    "    \n",
    "    [\n",
    "        'c',  # right subtree\n",
    "        ['f', [], []],\n",
    "        []\n",
    "    ]\n",
    "\n",
    "]\n",
    "# or\n",
    "tree = ['a', ['b', ['d', [], []], ['e', [], []]], ['c', ['f', [], []], []]]"
   ]
  },
  {
   "cell_type": "code",
   "execution_count": 6,
   "id": "4a1bf8e5-a720-46b2-8153-9e1f81e3ce33",
   "metadata": {},
   "outputs": [
    {
     "name": "stdout",
     "output_type": "stream",
     "text": [
      "['b', ['d', [], []], ['e', [], []]]\n",
      "['c', ['f', [], []], []]\n",
      "a\n"
     ]
    }
   ],
   "source": [
    "# the left subtree\n",
    "print(tree[1])  # => ['b', ['d', [], []], ['e', [], []]]\n",
    "\n",
    "# the right subtree\n",
    "print(tree[2])  # => ['c', ['f', [], []], []]\n",
    "\n",
    "# the root\n",
    "print(tree[0])  # => 'a'"
   ]
  },
  {
   "cell_type": "code",
   "execution_count": 7,
   "id": "3ae29fc5-126f-4e1f-9ce3-9635224aa5a4",
   "metadata": {},
   "outputs": [],
   "source": [
    "\n",
    "def insert_left(root, child_val):\n",
    "    subtree = root.pop(1)\n",
    "    if len(subtree)>1:\n",
    "        root.insert(1, [child_val, subtree, []])\n",
    "    else:\n",
    "        root.insert(1, [child_val, [], []])\n",
    "\n",
    "    return root\n",
    "\n",
    "def insert_right(root, child_val):\n",
    "    subtree = root.pop(2)\n",
    "    if len(subtree)>1:\n",
    "        root.insert(2, [child_val, [], subtree])\n",
    "    else:\n",
    "        root.insert(2, [child_val, [], []])\n",
    "            \n",
    "    return root\n",
    "  \n",
    "def get_root_val(root):\n",
    "    return root[0]\n",
    "\n",
    "def set_root_val(root, new_val):\n",
    "    root[0] = new_val\n",
    "\n",
    "def get_left_child(root):\n",
    "    return root[1]\n",
    "\n",
    "def get_right_child(root):\n",
    "    return root[2]"
   ]
  },
  {
   "cell_type": "code",
   "execution_count": 8,
   "id": "5ec5e324-c2a3-4d48-a7f5-3d1bb7eced62",
   "metadata": {},
   "outputs": [
    {
     "name": "stdout",
     "output_type": "stream",
     "text": [
      "[5, [4, [], []], []]\n"
     ]
    }
   ],
   "source": [
    "root = [3, [], []]\n",
    "insert_left(root, 4)\n",
    "insert_left(root, 5)\n",
    "insert_right(root, 6)\n",
    "insert_right(root, 7)\n",
    "left = get_left_child(root)\n",
    "\n",
    "print(left)"
   ]
  },
  {
   "cell_type": "code",
   "execution_count": 9,
   "id": "0b431b4b-5033-4299-bb5f-81bf29d8ef82",
   "metadata": {},
   "outputs": [
    {
     "name": "stdout",
     "output_type": "stream",
     "text": [
      "[3, [9, [4, [], []], []], [7, [], [6, [], []]]]\n"
     ]
    }
   ],
   "source": [
    "set_root_val(left, 9)\n",
    "print(root)"
   ]
  },
  {
   "cell_type": "code",
   "execution_count": 10,
   "id": "7f777ce3-c26f-49c0-946f-d13a99944f6b",
   "metadata": {},
   "outputs": [
    {
     "data": {
      "text/plain": [
       "[9, [11, [4, [], []], []], []]"
      ]
     },
     "execution_count": 10,
     "metadata": {},
     "output_type": "execute_result"
    }
   ],
   "source": [
    "insert_left(left, 11)"
   ]
  },
  {
   "cell_type": "code",
   "execution_count": 11,
   "id": "ff79786b-8940-444b-b2bf-dec391343a05",
   "metadata": {},
   "outputs": [
    {
     "name": "stdout",
     "output_type": "stream",
     "text": [
      "[3, [9, [11, [4, [], []], []], []], [7, [], [6, [], []]]]\n",
      "[6, [], []]\n"
     ]
    }
   ],
   "source": [
    "print(root)\n",
    "print(get_right_child(get_right_child(root)))"
   ]
  },
  {
   "cell_type": "markdown",
   "id": "76d3a245-51ad-484b-9a3f-5c1c427676d0",
   "metadata": {},
   "source": [
    "#### Map-based representation"
   ]
  },
  {
   "cell_type": "code",
   "execution_count": 12,
   "id": "2826986f-dc94-4096-9119-b262fee5380d",
   "metadata": {},
   "outputs": [],
   "source": [
    "root_binary = {\n",
    "    'val': 'A',\n",
    "    'left': {\n",
    "        'val': 'B',\n",
    "        'left': {'val': 'D'},\n",
    "        'right': {'val': 'E'}\n",
    "    },\n",
    "    'right': {\n",
    "        'val': 'C',\n",
    "        'right': {'val': 'F'}\n",
    "    }\n",
    "}\n"
   ]
  },
  {
   "cell_type": "code",
   "execution_count": 13,
   "id": "2ff4e4ad-0d39-4c39-b443-df93cd70d42d",
   "metadata": {},
   "outputs": [],
   "source": [
    "root_non_binary = {\n",
    "    'val': 'A',\n",
    "    'children': [\n",
    "        {\n",
    "            'val': 'B',\n",
    "            'children': [\n",
    "                {'val': 'D'},\n",
    "                {'val': 'E'},\n",
    "            ]\n",
    "        },\n",
    "        {\n",
    "            'val': 'C',\n",
    "            'children': [\n",
    "                {'val': 'F'},\n",
    "                {'val': 'G'},\n",
    "                {'val': 'H'}\n",
    "            ]\n",
    "        }\n",
    "    ]\n",
    "}\n"
   ]
  },
  {
   "cell_type": "markdown",
   "id": "99ce0eba-78df-4977-9979-c17e02756bdb",
   "metadata": {},
   "source": [
    "###  Parse Trees "
   ]
  },
  {
   "cell_type": "code",
   "execution_count": 14,
   "id": "45852e4a-4f55-40cb-b8a2-73dc8d162ec1",
   "metadata": {},
   "outputs": [],
   "source": [
    "operators = [\"+\", \"-\", \"*\", \"/\"]\n",
    "\n",
    "def build_parse_tree(expression):\n",
    "    first = True\n",
    "    tokens = expression.split()\n",
    "    root = Node(\"\")\n",
    "    stack = [root]\n",
    "    current_node = root\n",
    "    print(tokens)\n",
    "    for token in tokens: \n",
    "        print(token, stack)\n",
    "        if token == \"(\":\n",
    "            current_node.insert_left(Node(\"\"))\n",
    "            stack.append(current_node)\n",
    "            current_node = current_node.left\n",
    "            \n",
    "        elif token in operators:\n",
    "            current_node.val = token\n",
    "            current_node.insert_right(Node(\"\"))\n",
    "            stack.append(current_node)\n",
    "            current_node = current_node.right\n",
    "            \n",
    "        elif token == \")\":\n",
    "            current_node = stack.pop()\n",
    "            \n",
    "        else:\n",
    "            current_node.val = int(token)\n",
    "            current_node = stack.pop()\n",
    "            \n",
    "    return root"
   ]
  },
  {
   "cell_type": "code",
   "execution_count": 15,
   "id": "8bb4330b-7816-4db0-86e8-c267516d6ae2",
   "metadata": {},
   "outputs": [
    {
     "name": "stdout",
     "output_type": "stream",
     "text": [
      "['(', '3', '+', '(', '4', '*', '5', ')', ')']\n",
      "( [<__main__.Node object at 0x7f8dcc306af0>]\n",
      "3 [<__main__.Node object at 0x7f8dcc306af0>, <__main__.Node object at 0x7f8dcc306af0>]\n",
      "+ [<__main__.Node object at 0x7f8dcc306af0>]\n",
      "( [<__main__.Node object at 0x7f8dcc306af0>, <__main__.Node object at 0x7f8dcc306af0>]\n",
      "4 [<__main__.Node object at 0x7f8dcc306af0>, <__main__.Node object at 0x7f8dcc306af0>, <__main__.Node object at 0x7f8dcc5bf880>]\n",
      "* [<__main__.Node object at 0x7f8dcc306af0>, <__main__.Node object at 0x7f8dcc306af0>]\n",
      "5 [<__main__.Node object at 0x7f8dcc306af0>, <__main__.Node object at 0x7f8dcc306af0>, <__main__.Node object at 0x7f8dcc5bf880>]\n",
      ") [<__main__.Node object at 0x7f8dcc306af0>, <__main__.Node object at 0x7f8dcc306af0>]\n",
      ") [<__main__.Node object at 0x7f8dcc306af0>]\n"
     ]
    }
   ],
   "source": [
    "parse_tree = build_parse_tree(\"( 3 + ( 4 * 5 ) )\")"
   ]
  },
  {
   "cell_type": "code",
   "execution_count": 16,
   "id": "1cb683b1-6b3a-44a3-8f3f-b367f98ecb4b",
   "metadata": {},
   "outputs": [
    {
     "data": {
      "text/plain": [
       "'+'"
      ]
     },
     "execution_count": 16,
     "metadata": {},
     "output_type": "execute_result"
    }
   ],
   "source": [
    "parse_tree.val"
   ]
  },
  {
   "cell_type": "code",
   "execution_count": 17,
   "id": "e5c0adbe-ed35-4aa9-ad9b-a10d1890fd92",
   "metadata": {},
   "outputs": [],
   "source": [
    "operators = [\"*\", \"/\", \"+\", \"-\"]\n",
    "\n",
    "def perform_operation(a, b, operation):\n",
    "    if operation == \"*\":\n",
    "        return a * b\n",
    "    elif operation == \"/\":\n",
    "        return a / b\n",
    "    elif operation == \"+\":\n",
    "        return a + b\n",
    "    elif operation == \"-\":\n",
    "        return a - b"
   ]
  },
  {
   "cell_type": "code",
   "execution_count": 18,
   "id": "72829d64-ee50-4ec9-ad05-f8c650a3a8e5",
   "metadata": {},
   "outputs": [],
   "source": [
    "def evaluate(tree):\n",
    "    try:\n",
    "        return perform_operation(evaluate(tree.left), evaluate(tree.right), tree.val)\n",
    "    except:\n",
    "        return tree.val"
   ]
  },
  {
   "cell_type": "code",
   "execution_count": 19,
   "id": "4d6f0072-0e54-4fa8-936e-3ef54d816cee",
   "metadata": {},
   "outputs": [
    {
     "data": {
      "text/plain": [
       "23"
      ]
     },
     "execution_count": 19,
     "metadata": {},
     "output_type": "execute_result"
    }
   ],
   "source": [
    "evaluate(parse_tree)"
   ]
  },
  {
   "cell_type": "markdown",
   "id": "2ea4e484-9fc2-479b-bffa-2bcfaf135a53",
   "metadata": {},
   "source": [
    "### Tree Traversals"
   ]
  },
  {
   "cell_type": "markdown",
   "id": "2a6228fb-5128-4855-8526-472f4b0e1a99",
   "metadata": {},
   "source": [
    "preorder, inorder, and postorder"
   ]
  },
  {
   "cell_type": "code",
   "execution_count": 22,
   "id": "2bb340c7-e124-4a14-b8de-ce7e33480d91",
   "metadata": {},
   "outputs": [],
   "source": [
    "def preorder(node):\n",
    "    if node:\n",
    "        print(node.val)\n",
    "        preorder(node.left)\n",
    "        preorder(node.right)\n",
    "        \n",
    "def postorder(node):\n",
    "    if node:\n",
    "        preorder(node.left)\n",
    "        preorder(node.right)\n",
    "        print(node.val)\n",
    "        \n"
   ]
  },
  {
   "cell_type": "code",
   "execution_count": 21,
   "id": "7ced949c-398c-4f8b-a5b4-5ae786a044f4",
   "metadata": {},
   "outputs": [
    {
     "name": "stdout",
     "output_type": "stream",
     "text": [
      "+\n",
      "3\n",
      "*\n",
      "4\n",
      "5\n"
     ]
    }
   ],
   "source": [
    "preorder(parse_tree)"
   ]
  },
  {
   "cell_type": "code",
   "execution_count": 27,
   "id": "2381a1c7-91a0-42c7-89e2-9def710f81ef",
   "metadata": {},
   "outputs": [],
   "source": [
    "def construct_expression(parse_tree):\n",
    "    if parse_tree is None:\n",
    "        return \"\"\n",
    "    else:\n",
    "        left = construct_expression(parse_tree.left)\n",
    "        val = parse_tree.val\n",
    "        right = construct_expression(parse_tree.right)\n",
    "        \n",
    "        if left and right:\n",
    "            return '( {} {} {} )'.format(left, val, right)\n",
    "        else:\n",
    "            return val"
   ]
  },
  {
   "cell_type": "code",
   "execution_count": 28,
   "id": "6d8a7cd7-cf2c-4c55-acec-29323e0bf8ec",
   "metadata": {},
   "outputs": [
    {
     "data": {
      "text/plain": [
       "'( 3 + ( 4 * 5 ) )'"
      ]
     },
     "execution_count": 28,
     "metadata": {},
     "output_type": "execute_result"
    }
   ],
   "source": [
    "construct_expression(parse_tree)"
   ]
  }
 ],
 "metadata": {
  "kernelspec": {
   "display_name": "Python 3",
   "language": "python",
   "name": "python3"
  },
  "language_info": {
   "codemirror_mode": {
    "name": "ipython",
    "version": 3
   },
   "file_extension": ".py",
   "mimetype": "text/x-python",
   "name": "python",
   "nbconvert_exporter": "python",
   "pygments_lexer": "ipython3",
   "version": "3.9.13"
  }
 },
 "nbformat": 4,
 "nbformat_minor": 5
}
