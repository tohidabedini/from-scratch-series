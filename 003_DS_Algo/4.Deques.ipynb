{
 "cells": [
  {
   "cell_type": "markdown",
   "id": "0d34ba72-a946-42d8-8147-8e6fe5ff3209",
   "metadata": {},
   "source": [
    "###  Introduction to Deques "
   ]
  },
  {
   "cell_type": "markdown",
   "id": "40e848c6-e477-4797-a908-14365cb43d65",
   "metadata": {},
   "source": [
    "A deque, is a double-ended queue"
   ]
  },
  {
   "cell_type": "markdown",
   "id": "67b836a6-d47a-45c7-86d1-a2251d274577",
   "metadata": {},
   "source": [
    "#### The Deque Abstract Data Type"
   ]
  },
  {
   "cell_type": "markdown",
   "id": "6a73acc7-3937-4e6b-895d-7a82cba80382",
   "metadata": {},
   "source": [
    "Deque() creates a new deque that is empty. It needs no parameters and returns an empty deque.\n",
    "\n",
    "add_front(item) adds a new item to the front of the deque. It needs the item and returns nothing.\n",
    "\n",
    "add_rear(item) adds a new item to the rear of the deque. It needs the item and returns nothing.\n",
    "\n",
    "remove_front() removes the front item from the deque. It needs no parameters and returns the item. The deque is modified.\n",
    "\n",
    "remove_rear() removes the rear item from the deque. It needs no parameters and returns the item. The deque is modified.\n",
    "\n",
    "is_empty() tests to see whether the deque is empty. It needs no parameters and returns a boolean value.\n",
    "\n",
    "size() returns the number of items in the deque. It needs no parameters and returns an integer.\n"
   ]
  },
  {
   "cell_type": "markdown",
   "id": "ba0a3868-a0c7-42b2-bec9-d95cad3ce9c9",
   "metadata": {},
   "source": [
    "###  A Deque Implementation "
   ]
  },
  {
   "cell_type": "code",
   "execution_count": 2,
   "id": "82543048-c139-499d-bc06-61010845ac34",
   "metadata": {},
   "outputs": [],
   "source": [
    "class Deque(object):\n",
    "    def __init__(self):\n",
    "        self._items = []\n",
    "        \n",
    "    def add_front(self, item):\n",
    "        self._items.append(item)\n",
    "        \n",
    "    def add_rear(self, item):\n",
    "        self._items.insert(0, item)\n",
    "        \n",
    "    def remove_front(self, item):\n",
    "        return self._items.pop()\n",
    "    \n",
    "    def remove_rear(self, item):\n",
    "        return self.pop(0)\n",
    "    \n",
    "    def is_empty(self):\n",
    "        return len(self._items) == 0\n",
    "    \n",
    "    def size(self):\n",
    "        return len(self._items)"
   ]
  },
  {
   "cell_type": "markdown",
   "id": "65a66d17-14cf-4f0e-983d-4269cc3b282d",
   "metadata": {},
   "source": [
    "###  Palindrome Checker "
   ]
  },
  {
   "cell_type": "code",
   "execution_count": 3,
   "id": "796f5bd5-b8d6-4619-b41c-bc39dc243ca5",
   "metadata": {},
   "outputs": [],
   "source": [
    "from collections import deque"
   ]
  },
  {
   "cell_type": "code",
   "execution_count": 6,
   "id": "c3b17b86-b30e-4153-9b13-1fdb8918f9fc",
   "metadata": {},
   "outputs": [],
   "source": [
    "def is_palindrome(characters):\n",
    "    characters_deque = deque(characters)\n",
    "    while len(characters_deque)>1:\n",
    "        left_char  = characters_deque.popleft()\n",
    "        right_char = characters_deque.pop()\n",
    "        if left_char != right_char:\n",
    "            return False\n",
    "    return True"
   ]
  },
  {
   "cell_type": "code",
   "execution_count": 7,
   "id": "01da5eab-2ad3-4569-b6a0-d3490a5eb018",
   "metadata": {},
   "outputs": [
    {
     "name": "stdout",
     "output_type": "stream",
     "text": [
      "False\n",
      "True\n"
     ]
    }
   ],
   "source": [
    "print(is_palindrome('lsdkjfskf'))   # => False\n",
    "print(is_palindrome('radar'))    # => True"
   ]
  }
 ],
 "metadata": {
  "kernelspec": {
   "display_name": "Python 3",
   "language": "python",
   "name": "python3"
  },
  "language_info": {
   "codemirror_mode": {
    "name": "ipython",
    "version": 3
   },
   "file_extension": ".py",
   "mimetype": "text/x-python",
   "name": "python",
   "nbconvert_exporter": "python",
   "pygments_lexer": "ipython3",
   "version": "3.9.13"
  }
 },
 "nbformat": 4,
 "nbformat_minor": 5
}
