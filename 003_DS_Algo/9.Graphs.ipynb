{
 "cells": [
  {
   "cell_type": "markdown",
   "id": "f26f5413-ec2c-4c73-b35e-6d8ac182f181",
   "metadata": {},
   "source": [
    "https://bradfieldcs.com/algos/graphs/introduction"
   ]
  },
  {
   "cell_type": "markdown",
   "id": "d8f44f43-7dbd-4ad7-b461-d316db5498c4",
   "metadata": {
    "jp-MarkdownHeadingCollapsed": true,
    "tags": []
   },
   "source": [
    "###  Introduction to Graphs "
   ]
  },
  {
   "cell_type": "markdown",
   "id": "aa8423b2-d159-46b5-b1aa-f36d7155a6c8",
   "metadata": {},
   "source": [
    "    Vertex\n",
    "    Edge\n",
    "    Weight\n",
    "    Path\n",
    "    directed graph, or digraph\n",
    "    Cycle\n",
    "    directed acyclic graph or a DAG"
   ]
  },
  {
   "cell_type": "markdown",
   "id": "07afc2f5-05a9-4532-8b13-bfef37fa4ec4",
   "metadata": {},
   "source": [
    "#### The Graph Abstract Data Type"
   ]
  },
  {
   "cell_type": "markdown",
   "id": "bbd1b790-8da1-4d78-af9e-5ebc08ff37a9",
   "metadata": {},
   "source": [
    "\n",
    "    Graph() creates a new, empty graph.\n",
    "    add_vertex(vertex) adds an instance of Vertex to the graph.\n",
    "    add_edge(from_vertex, to_vertex) Adds a new, directed edge to the graph that connects two vertices.\n",
    "    add_edge(from_vertex, to_vertex, weight) Adds a new, weighted, directed edge to the graph that connects two vertices.\n",
    "    get_vertex(key) finds the vertex in the graph named key.\n",
    "    get_vertices() returns the list of all vertices in the graph.\n",
    "    in returns True for a statement of the form vertex in graph, if the given vertex is in the graph, False otherwise.\n"
   ]
  },
  {
   "cell_type": "markdown",
   "id": "d4836f80-707e-4c82-96d6-62f3f9022566",
   "metadata": {},
   "source": [
    "    Beginning with the formal definition for a graph there are several ways we can implement the graph ADT in Python. We will see that there are trade-offs in using different representations to implement the ADT described above. There are two well-known implementations of a graph, the adjacency matrix and the adjacency list. We will explain both of these options, and then implement one as a Python class."
   ]
  },
  {
   "cell_type": "markdown",
   "id": "fc663fbd-644a-4fbb-acde-6006f5acc5d0",
   "metadata": {
    "jp-MarkdownHeadingCollapsed": true,
    "tags": []
   },
   "source": [
    "### Representing a Graph "
   ]
  },
  {
   "cell_type": "markdown",
   "id": "883a0095-1810-4561-b854-9f307052fa6e",
   "metadata": {},
   "source": [
    "#### The Adjacency Matrix"
   ]
  },
  {
   "cell_type": "markdown",
   "id": "8159838f-6b40-4313-afcb-cfd9426340f6",
   "metadata": {},
   "source": [
    "    One of the easiest ways to implement a graph is to use a two-dimensional matrix. In this matrix implementation, each of the rows and columns represent a vertex in the graph. The value that is stored in the cell at the intersection of row v and column w indicates if there is an edge from vertex v to vertex w. When two vertices are connected by an edge, we say that they are adjacent. The diagram below illustrates the adjacency matrix for the example graph we presented earlier. A value in a cell represents the weight of the edge from vertex v to vertex w.\n",
    "    \n",
    "    The advantage of the adjacency matrix is that it is simple, and for small graphs it is easy to see which nodes are connected to other nodes. However, notice that most of the cells in the matrix are empty. Because most of the cells are empty we say that this matrix is “sparse.” A matrix is not a very efficient way to store sparse data. In fact, in Python you must go out of your way to even create a matrix structure like the one above.\n",
    "    \n",
    "    The adjacency matrix is a good implementation for a graph when the number of edges is large. But what do we mean by large? How many edges would be needed to fill the matrix? Since there is one row and one column for every vertex in the graph, the number of edges required to fill the matrix is |V|^2. A matrix is full when every vertex is connected to every other vertex. There are few real problems that approach this sort of connectivity. The problems we will look at in this section all involve graphs that are sparsely connected.\n",
    "    "
   ]
  },
  {
   "cell_type": "markdown",
   "id": "f0625a5b-f3fc-4363-b6df-a1a0c1a57c71",
   "metadata": {},
   "source": [
    "#### The Adjacency List"
   ]
  },
  {
   "cell_type": "markdown",
   "id": "747ef6a2-44cf-4e41-9d78-7808dcb15e96",
   "metadata": {},
   "source": [
    "    A more space-efficient way to implement a sparsely connected graph is to use the unfortunately named adjacency list structure. In an adjacency list implementation we keep a master collection of all the vertices in the Graph object and then each vertex object in the graph maintains a list of the other vertices that it is connected to. In our implementation of the Vertex class we will use a dictionary rather than a list as our master collection, where the dictionary keys are the vertices, and the values are the weights. The diagram below shows an adjacency list representation of the example graph we have been discussing."
   ]
  },
  {
   "cell_type": "markdown",
   "id": "ec4bcc65-2573-4cd4-a642-693e3a4eb54f",
   "metadata": {},
   "source": [
    "#### An Object-Oriented Approach"
   ]
  },
  {
   "cell_type": "code",
   "execution_count": 2,
   "id": "42ad9b07-b699-46ff-8b3b-9abc0bf3d8f6",
   "metadata": {},
   "outputs": [],
   "source": [
    "class Vertex:\n",
    "    def __init__(self, key):\n",
    "        self.key = key\n",
    "        self.neighbors = {}\n",
    "    \n",
    "    def add_neighbor(self, neighbor, weight=0):\n",
    "        self.neighbors[neighbor] = weight\n",
    "        \n",
    "    def __str__(self):\n",
    "        return f\"{self.key} neighbors {[x.key for x in self.neighbors]}\"\n",
    "        \n",
    "    def get_connections(self):\n",
    "        return self.neighbors.keys()\n",
    "    \n",
    "    def get_weight(self, neighbor):\n",
    "        return self.neighbors[neighbor]"
   ]
  },
  {
   "cell_type": "code",
   "execution_count": 3,
   "id": "44adfc0f-b72b-4958-ba26-ed2e3d5a1d15",
   "metadata": {},
   "outputs": [],
   "source": [
    "class Graph:\n",
    "    def __init__(self):\n",
    "        self.vertices = {}\n",
    "        \n",
    "    def add_vertex(self, vertex):\n",
    "        self.vertices[vertex.key] = vertex\n",
    "        \n",
    "    def get_vertex(self, key):\n",
    "        try:\n",
    "            return self.vertices[key]\n",
    "        except KeyError:\n",
    "            return None\n",
    "        \n",
    "    def __contains__(self, key):\n",
    "        return key in self.vertices\n",
    "    \n",
    "    def add_edge(self, from_key, to_key, weight):\n",
    "        if from_key not in self.vertices:\n",
    "            self.add_vertex(Vertex(from_key))\n",
    "        if to_key not in self.vertices:\n",
    "            self.add_vertex(Vertex(to_key))\n",
    "            \n",
    "        self.vertices[from_key].add_neighbor(self.vertices[to_key], weight)\n",
    "        \n",
    "    def get_vertices(self):\n",
    "        return self.vertices.keys()\n",
    "    \n",
    "    def __iter__(self):\n",
    "        return iter(self.vertices.values())"
   ]
  },
  {
   "cell_type": "code",
   "execution_count": 4,
   "id": "5aa85a2b-371c-4a6b-a7f3-41666f16c342",
   "metadata": {},
   "outputs": [],
   "source": [
    "g = Graph()\n",
    "for i in range(6):\n",
    "    g.add_vertex(Vertex(i))"
   ]
  },
  {
   "cell_type": "code",
   "execution_count": 5,
   "id": "a819a37d-89e5-4678-ab52-d1fb10ba857f",
   "metadata": {},
   "outputs": [
    {
     "data": {
      "text/plain": [
       "{0: <__main__.Vertex at 0x7f92f1e9da60>,\n",
       " 1: <__main__.Vertex at 0x7f92f1673e20>,\n",
       " 2: <__main__.Vertex at 0x7f92f1673f40>,\n",
       " 3: <__main__.Vertex at 0x7f92f1673eb0>,\n",
       " 4: <__main__.Vertex at 0x7f92f1673f70>,\n",
       " 5: <__main__.Vertex at 0x7f92f1673df0>}"
      ]
     },
     "execution_count": 5,
     "metadata": {},
     "output_type": "execute_result"
    }
   ],
   "source": [
    "g.vertices"
   ]
  },
  {
   "cell_type": "code",
   "execution_count": 6,
   "id": "c8ccf2cb-f087-4be0-b6c9-f46a8a60840e",
   "metadata": {},
   "outputs": [],
   "source": [
    "g.add_edge(0, 1, 5)\n",
    "g.add_edge(0, 5, 2)\n",
    "g.add_edge(1, 2, 4)\n",
    "g.add_edge(2, 3, 9)\n",
    "g.add_edge(3, 4, 7)\n",
    "g.add_edge(3, 5, 3)\n",
    "g.add_edge(4, 0, 1)\n",
    "g.add_edge(5, 4, 8)\n",
    "g.add_edge(5, 2, 1)"
   ]
  },
  {
   "cell_type": "code",
   "execution_count": 9,
   "id": "fa3d0fa5-e868-4ac8-8a44-58fa58b9986b",
   "metadata": {},
   "outputs": [
    {
     "name": "stdout",
     "output_type": "stream",
     "text": [
      "0 -> 1\n",
      "0 -> 5\n",
      "0 neighbors [1, 5]\n",
      "1 -> 2\n",
      "1 neighbors [2]\n",
      "2 -> 3\n",
      "2 neighbors [3]\n",
      "3 -> 4\n",
      "3 -> 5\n",
      "3 neighbors [4, 5]\n",
      "4 -> 0\n",
      "4 neighbors [0]\n",
      "5 -> 4\n",
      "5 -> 2\n",
      "5 neighbors [4, 2]\n"
     ]
    }
   ],
   "source": [
    "for v in g:\n",
    "    for w in v.get_connections():\n",
    "        print('{} -> {}'.format(v.key, w.key))\n",
    "    print(v)"
   ]
  },
  {
   "cell_type": "markdown",
   "id": "4bdf67e4-87a1-4ec2-b9db-33321abf0502",
   "metadata": {},
   "source": [
    "#### Using Dictionaries Directly"
   ]
  },
  {
   "cell_type": "code",
   "execution_count": 10,
   "id": "aedb45b2-0d6b-4bc5-a129-e1f11d933fa9",
   "metadata": {},
   "outputs": [
    {
     "data": {
      "text/plain": [
       "{0: {1: 5, 5: 2}, 1: {2: 4}, 2: {3: 9}, 3: {4: 7, 5: 3}, 4: {0: 1}, 5: {4: 8}}"
      ]
     },
     "execution_count": 10,
     "metadata": {},
     "output_type": "execute_result"
    }
   ],
   "source": [
    "{\n",
    "    0: {1: 5, 5: 2},\n",
    "    1: {2: 4},\n",
    "    2: {3: 9},\n",
    "    3: {4: 7, 5: 3},\n",
    "    4: {0: 1},\n",
    "    5: {4: 8}\n",
    "}\n"
   ]
  },
  {
   "cell_type": "markdown",
   "id": "da50fd98-43c5-4973-b33f-869358a3c00d",
   "metadata": {
    "jp-MarkdownHeadingCollapsed": true,
    "tags": []
   },
   "source": [
    "### Word Ladders "
   ]
  },
  {
   "cell_type": "markdown",
   "id": "a614bd1c-6a9c-477e-ab34-a92e4732b476",
   "metadata": {},
   "source": [
    "FOOL\n",
    "POOL\n",
    "POLL\n",
    "POLE\n",
    "PALE\n",
    "SALE\n",
    "SAGE"
   ]
  },
  {
   "cell_type": "markdown",
   "id": "ff3c331a-530d-44c4-82c8-1ef914608135",
   "metadata": {},
   "source": [
    "#### Building the Word Ladder Graph"
   ]
  },
  {
   "cell_type": "markdown",
   "id": "0cceefac-189e-4771-b4f9-76d8a2c11fa0",
   "metadata": {},
   "source": [
    "    Word buckets for words that are different by one letter"
   ]
  },
  {
   "cell_type": "code",
   "execution_count": 11,
   "id": "50e6aa95-b89d-44e4-8014-51eb4b5f9469",
   "metadata": {},
   "outputs": [],
   "source": [
    "from collections import defaultdict\n",
    "from itertools import product\n",
    "import os"
   ]
  },
  {
   "cell_type": "code",
   "execution_count": 149,
   "id": "591ac97b-5a28-4c4a-af11-54448df6eb0d",
   "metadata": {
    "tags": []
   },
   "outputs": [],
   "source": [
    "def build_buckets(words):\n",
    "    buckets = defaultdict(list)\n",
    "    for word in words:\n",
    "        for i in range(len(word)):\n",
    "            bucket = list(word)\n",
    "            bucket[i] = \"_\"\n",
    "            bucket = \"\".join(bucket)\n",
    "            \n",
    "            buckets[bucket].append(word)     \n",
    "    return buckets     \n",
    "    \n",
    "def build_graph(words):\n",
    "    graph = defaultdict(set)\n",
    "    buckets = build_buckets(words)\n",
    "    \n",
    "    for bucket, mutual_neighbors in buckets.items():\n",
    "        for word1 in mutual_neighbors:\n",
    "            for word2 in mutual_neighbors:\n",
    "                if word1 != word2:\n",
    "                    graph[word1].add(word2)\n",
    "                    graph[word2].add(word1)\n",
    "    return graph\n",
    "    \n",
    "def get_words(vocabulary_file):\n",
    "    for line in open(vocabulary_file, 'r'):\n",
    "        yield line[:-1]  # remove newline character"
   ]
  },
  {
   "cell_type": "code",
   "execution_count": 150,
   "id": "e597fcbf-73ea-47e4-a246-b52e7e6c9982",
   "metadata": {},
   "outputs": [],
   "source": [
    "vocabulary_file = 'vocabulary.txt'"
   ]
  },
  {
   "cell_type": "code",
   "execution_count": 152,
   "id": "ea56a792-736a-4f44-8535-ee35d6e3dea6",
   "metadata": {},
   "outputs": [],
   "source": [
    "word_graph = build_graph(get_words(vocabulary_file))"
   ]
  },
  {
   "cell_type": "code",
   "execution_count": 153,
   "id": "5ccb516e-8b71-4db6-ba9b-6a3509b55b18",
   "metadata": {},
   "outputs": [
    {
     "data": {
      "text/plain": [
       "{'COOL',\n",
       " 'FOAL',\n",
       " 'FOIL',\n",
       " 'FOOD',\n",
       " 'FOOT',\n",
       " 'FOUL',\n",
       " 'FOWL',\n",
       " 'POOL',\n",
       " 'TOOL',\n",
       " 'WOOL'}"
      ]
     },
     "execution_count": 153,
     "metadata": {},
     "output_type": "execute_result"
    }
   ],
   "source": [
    "word_graph['FOOL']"
   ]
  },
  {
   "cell_type": "markdown",
   "id": "482e1021-57f3-4338-9e43-3ce0545be391",
   "metadata": {},
   "source": [
    "#### Implementing breadth first search"
   ]
  },
  {
   "cell_type": "code",
   "execution_count": 154,
   "id": "aa31a8d3-7e9e-45ca-a9a9-52a4d6a8a6c4",
   "metadata": {},
   "outputs": [],
   "source": [
    "from collections import deque"
   ]
  },
  {
   "cell_type": "code",
   "execution_count": 203,
   "id": "f352d950-9187-4a7f-a78a-a3c4308e0d58",
   "metadata": {},
   "outputs": [],
   "source": [
    "def traverse(graph, starting_vertex):\n",
    "    visited = set()\n",
    "    queue = deque()\n",
    "    queue.append([starting_vertex])\n",
    "    while queue:\n",
    "        popped_item = queue.popleft()\n",
    "        vertex = popped_item[-1]\n",
    "        yield vertex, popped_item\n",
    "        \n",
    "        for neighbor in graph[vertex]:\n",
    "            if neighbor not in visited:\n",
    "                visited.add(neighbor)\n",
    "                queue.append(popped_item + [neighbor])"
   ]
  },
  {
   "cell_type": "code",
   "execution_count": 204,
   "id": "b8190264-7ffd-42a9-95a1-658ca6a0a4aa",
   "metadata": {},
   "outputs": [],
   "source": [
    "def chain_generator(word_graph, from_node, to_node):\n",
    "    for vertex, path in traverse(word_graph, from_node):\n",
    "        if vertex == to_node:\n",
    "            print(' -> '.join(path))"
   ]
  },
  {
   "cell_type": "code",
   "execution_count": 205,
   "id": "afc07785-9829-4a77-8fde-4a55e2f2eb2d",
   "metadata": {},
   "outputs": [
    {
     "name": "stdout",
     "output_type": "stream",
     "text": [
      "FOOL -> WOOL -> WOOS -> WOGS -> WAGS -> SAGS -> SAGE\n"
     ]
    }
   ],
   "source": [
    "chain_generator(word_graph, \"FOOL\", \"SAGE\")"
   ]
  },
  {
   "cell_type": "markdown",
   "id": "5e489d47-e8b3-4456-bfdb-3b39793140f5",
   "metadata": {},
   "source": [
    "#### Breadth First Search Analysis"
   ]
  },
  {
   "cell_type": "markdown",
   "id": "b2e7846d-3f33-437f-9ee1-faf80e530772",
   "metadata": {},
   "source": [
    "    Before we continue with other graph algorithms let us analyze the run time performance of the breadth first search algorithm. The first thing to observe is that the while loop is executed, at most, one time for each vertex in the graph ∣V∣. You can see that this is true because a vertex must be white before it can be examined and added to the queue. This gives us O(V) for the while loop. The for loop, which is nested inside the while is executed at most once for each edge in the graph, ∣E∣. The reason is that every vertex is dequeued at most once and we examine an edge from node uuu to node vvv only when node uuu is dequeued. This gives us O(E) for the for loop. combining the two loops gives us O(V+E).\n",
    "\n",
    "    Of course doing the breadth first search is only part of the task. Following the links from the starting node to the goal node is the other part of the task. The worst case for this would be if the graph was a single long chain. In this case traversing through all of the vertices would be O(V). The normal case is going to be some fraction of ∣V∣ but we would still write O(V)."
   ]
  },
  {
   "cell_type": "code",
   "execution_count": 206,
   "id": "3447a75b-f0e6-4b24-8cc8-35eb24cf7fdd",
   "metadata": {},
   "outputs": [],
   "source": [
    "# time of build_graph?"
   ]
  },
  {
   "cell_type": "markdown",
   "id": "c2e79c36-00e0-40ca-9d94-f0b96a7789a1",
   "metadata": {
    "jp-MarkdownHeadingCollapsed": true,
    "tags": []
   },
   "source": [
    "### A Knight’s Tour "
   ]
  },
  {
   "cell_type": "markdown",
   "id": "9d1ecf84-c8de-43a3-a383-9fa628d0d941",
   "metadata": {
    "tags": []
   },
   "source": [
    "#### Building the Knight’s Tour Graph"
   ]
  },
  {
   "cell_type": "markdown",
   "id": "9dfe3665-ca0d-40e1-8295-9e126b9a6c54",
   "metadata": {},
   "source": [
    "https://stackoverflow.com/questions/20642332/missing-1-required-positional-argument-why"
   ]
  },
  {
   "cell_type": "code",
   "execution_count": 58,
   "id": "f4c57ddf-c32a-4412-bd52-5765a4eff70c",
   "metadata": {},
   "outputs": [],
   "source": [
    "from collections import defaultdict\n",
    "from functools import cmp_to_key"
   ]
  },
  {
   "cell_type": "code",
   "execution_count": 59,
   "id": "86d57018-f1d5-43dd-aa4d-4c7aba1f2f55",
   "metadata": {},
   "outputs": [],
   "source": [
    "def add_edge(graph, vertex_a, vertex_b):\n",
    "    graph[vertex_a].add(vertex_b)\n",
    "    graph[vertex_b].add(vertex_a)\n",
    "    \n",
    "\n",
    "def legal_moves_from(row, col, board_size):\n",
    "    move_offsets = [(-2,-1),(-1,-2),(1,-2),(-2,1),(-1,2),(2,-1),(1,2),(2,1)]\n",
    "    for x,y in move_offsets:\n",
    "        new_row = x+row\n",
    "        new_col = y+col\n",
    "        if (new_row in range(0, board_size)) and (new_col in range(0, board_size)):\n",
    "            yield (new_row, new_col)\n",
    "\n",
    "def build_graph(board_size):\n",
    "    graph = defaultdict(set)\n",
    "    for row in range(board_size):\n",
    "        for col in range(board_size):\n",
    "            for to_row, to_col in legal_moves_from(row, col, board_size):\n",
    "                add_edge(graph, (row, col), (to_row, to_col))\n",
    "                \n",
    "    return graph"
   ]
  },
  {
   "cell_type": "markdown",
   "id": "d63f81de-91ef-4907-9083-511ba80a57bd",
   "metadata": {},
   "source": [
    "#### Implementing Knight’s Tour"
   ]
  },
  {
   "cell_type": "code",
   "execution_count": 60,
   "id": "5d39d9f7-fb80-457b-a956-a8f301bc7e2e",
   "metadata": {
    "tags": []
   },
   "outputs": [],
   "source": [
    "def traverse(path, current_vertex, total_squares, heuristic, graph):\n",
    "    if len(path) + 1 == total_squares:\n",
    "        return path + [current_vertex]\n",
    "\n",
    "    yet_to_visit = graph[current_vertex] - set(path)\n",
    "    if not yet_to_visit:\n",
    "        return False\n",
    "\n",
    "    if heuristic(graph):\n",
    "        key = cmp_to_key(heuristic(graph))\n",
    "    else:\n",
    "        key = heuristic(graph)\n",
    "        \n",
    "    next_vertices = sorted(yet_to_visit, key=key)\n",
    "    for vertex in next_vertices:\n",
    "        result = traverse(path + [current_vertex], vertex, total_squares, heuristic, graph)\n",
    "        if result:\n",
    "            return result\n",
    "        \n",
    "\n",
    "\n",
    "def find_solution_for(board_size, heuristic=lambda graph: None):\n",
    "    graph = build_graph(board_size)\n",
    "    total_squares = board_size * board_size\n",
    "    \n",
    "    for starting_vertex in graph:\n",
    "        result = traverse([], starting_vertex, total_squares, heuristic, graph)\n",
    "        if result:\n",
    "            return result\n",
    "        "
   ]
  },
  {
   "cell_type": "code",
   "execution_count": 66,
   "id": "77d10961-a746-421b-a0e1-9542bcc7aad3",
   "metadata": {},
   "outputs": [
    {
     "name": "stdout",
     "output_type": "stream",
     "text": [
      "[(0, 0), (1, 2), (0, 4), (1, 6), (2, 4), (0, 3), (1, 1), (2, 3), (0, 2), (1, 0), (2, 2), (0, 1), (1, 3), (0, 5), (1, 7), (2, 5), (0, 6), (1, 4), (2, 6), (0, 7), (1, 5), (2, 7), (3, 5), (4, 3), (3, 1), (5, 0), (4, 2), (2, 1), (3, 3), (4, 1), (2, 0), (3, 2), (4, 0), (6, 1), (5, 3), (3, 4), (4, 6), (6, 7), (7, 5), (5, 4), (7, 3), (6, 5), (7, 7), (5, 6), (3, 7), (4, 5), (5, 7), (3, 6), (4, 4), (6, 3), (7, 1), (5, 2), (6, 0), (7, 2), (6, 4), (7, 6), (5, 5), (4, 7), (6, 6), (7, 4), (6, 2), (7, 0), (5, 1), (3, 0)]\n",
      "CPU times: user 33.7 s, sys: 0 ns, total: 33.7 s\n",
      "Wall time: 33.7 s\n"
     ]
    }
   ],
   "source": [
    "%time print(find_solution_for(8))"
   ]
  },
  {
   "cell_type": "markdown",
   "id": "39d8f615-56c5-420f-8139-1906b494b383",
   "metadata": {},
   "source": [
    "#### Knight’s Tour Analysis"
   ]
  },
  {
   "cell_type": "markdown",
   "id": "d8a13fc0-d09c-4185-aa37-33cd91896a41",
   "metadata": {},
   "source": [
    "    There is one last interesting topic regarding the knight’s tour problem, then we will move on to the general version of the depth first search. The topic is performance. In particular, our algorithm is very sensitive to the method you use to select the next vertex to visit. For example, on a five-by-five board you can produce a path in about 1.5 seconds on a reasonably fast computer. But what happens if you try an eight-by-eight board? In this case, depending on the speed of your computer, you may have to wait up to a half hour to get the results! The reason for this is that the knight’s tour problem as we have implemented it so far is an exponential algorithm of size O(k^N), where N is the number of squares on the chess board, and k is a small constant. The diagram below can help us visualize why this is so."
   ]
  },
  {
   "cell_type": "code",
   "execution_count": 62,
   "id": "40827cb2-f4ab-427e-a5fa-082dea05cdf0",
   "metadata": {},
   "outputs": [],
   "source": [
    "def warnsdorffs_heuristic(graph):\n",
    "\n",
    "    #Given a graph, return a comparator function that prioritizes nodes\n",
    "    #with the fewest subsequent moves\n",
    "    def comparator(a, b):\n",
    "        return len(graph[a]) - len(graph[b])\n",
    "\n",
    "    return comparator"
   ]
  },
  {
   "cell_type": "code",
   "execution_count": 65,
   "id": "fcd5683d-b292-450c-8ad8-4bbf19b61a89",
   "metadata": {},
   "outputs": [
    {
     "name": "stdout",
     "output_type": "stream",
     "text": [
      "[(0, 0), (1, 2), (0, 4), (1, 6), (3, 7), (5, 6), (7, 7), (6, 5), (5, 7), (7, 6), (6, 4), (7, 2), (6, 0), (4, 1), (2, 0), (0, 1), (1, 3), (0, 5), (1, 7), (3, 6), (1, 5), (0, 7), (2, 6), (4, 7), (6, 6), (7, 4), (6, 2), (7, 0), (5, 1), (3, 0), (1, 1), (0, 3), (2, 4), (4, 5), (5, 3), (6, 1), (4, 0), (2, 1), (0, 2), (1, 0), (3, 1), (5, 0), (7, 1), (6, 3), (7, 5), (6, 7), (4, 6), (2, 7), (0, 6), (1, 4), (2, 2), (3, 4), (5, 5), (4, 3), (3, 5), (2, 3), (4, 2), (5, 4), (7, 3), (5, 2), (3, 3), (2, 5), (4, 4), (3, 2)]\n",
      "CPU times: user 7.64 ms, sys: 0 ns, total: 7.64 ms\n",
      "Wall time: 7.36 ms\n"
     ]
    }
   ],
   "source": [
    "%time print(find_solution_for(8, warnsdorffs_heuristic))"
   ]
  },
  {
   "cell_type": "markdown",
   "id": "84bb4643-4820-45bc-abb6-d73fd631694b",
   "metadata": {
    "tags": []
   },
   "source": [
    "### General Depth First Search "
   ]
  },
  {
   "cell_type": "code",
   "execution_count": 1,
   "id": "a0679d44-1545-4799-9995-660da6250ee1",
   "metadata": {},
   "outputs": [],
   "source": [
    "from collections import defaultdict"
   ]
  },
  {
   "cell_type": "code",
   "execution_count": 2,
   "id": "609c2f25-b32a-4a2c-a8c7-29b6307f65c2",
   "metadata": {
    "tags": []
   },
   "outputs": [],
   "source": [
    "simple_graph = {\n",
    "    'A': ['B', 'D'],\n",
    "    'B': ['C', 'D'],\n",
    "    'C': [],\n",
    "    'D': ['E'],\n",
    "    'E': ['B', 'F'],\n",
    "    'F': ['C']\n",
    "}"
   ]
  },
  {
   "cell_type": "code",
   "execution_count": 181,
   "id": "81a95562-ba5e-446b-a0a6-252661fdd5fc",
   "metadata": {},
   "outputs": [],
   "source": [
    "def depth_first_search(graph, starting_vertex):\n",
    "    visited = set()\n",
    "    counter = 0\n",
    "    traversal_times = defaultdict(dict)\n",
    "\n",
    "    traverse(graph, starting_vertex, visited, counter, traversal_times)\n",
    "    return traversal_times\n",
    "\n",
    "\n",
    "def traverse(graph, vertex, visited, counter, traversal_times):\n",
    "    visited.add(vertex)\n",
    "    counter += 1\n",
    "    traversal_times[vertex]['discovery'] = counter\n",
    "\n",
    "    for next_vertex in graph[vertex]:\n",
    "        if next_vertex not in visited:\n",
    "            counter = traverse(graph, next_vertex, visited, counter, traversal_times)\n",
    "\n",
    "    counter += 1\n",
    "    traversal_times[vertex]['finish'] = counter\n",
    "    return counter\n"
   ]
  },
  {
   "cell_type": "code",
   "execution_count": 15,
   "id": "526cf902-7b6d-4870-9fd1-f26cdd1cd7a0",
   "metadata": {},
   "outputs": [],
   "source": [
    "traversal_times = depth_first_search(simple_graph, 'A')"
   ]
  },
  {
   "cell_type": "code",
   "execution_count": 16,
   "id": "459465d3-538c-4a6a-9c31-b478d015cec2",
   "metadata": {},
   "outputs": [
    {
     "data": {
      "text/plain": [
       "defaultdict(dict,\n",
       "            {'A': {'discovery': 1, 'finish': 12},\n",
       "             'B': {'discovery': 2, 'finish': 11},\n",
       "             'C': {'discovery': 3, 'finish': 4},\n",
       "             'D': {'discovery': 5, 'finish': 10},\n",
       "             'E': {'discovery': 6, 'finish': 9},\n",
       "             'F': {'discovery': 7, 'finish': 8}})"
      ]
     },
     "execution_count": 16,
     "metadata": {},
     "output_type": "execute_result"
    }
   ],
   "source": [
    "traversal_times"
   ]
  },
  {
   "cell_type": "markdown",
   "id": "d2092e74-19db-439a-8cc0-a75f12a65e77",
   "metadata": {
    "jp-MarkdownHeadingCollapsed": true,
    "tags": []
   },
   "source": [
    "### Topological Sorting "
   ]
  },
  {
   "cell_type": "markdown",
   "id": "f8174bda-5ee6-4966-af02-ca4f3af8b1cf",
   "metadata": {},
   "source": [
    "    A topological sort takes a directed acyclic graph and produces a linear ordering of all its vertices such that if the graph G contains an edge (v,w) then the vertex v comes before the vertex w in the ordering. \n",
    "    Directed acyclic graphs are used in many applications to indicate the precedence of events. Making pancakes is just one example; other examples include software project schedules, precedence charts for optimizing database queries, and multiplying matrices."
   ]
  },
  {
   "cell_type": "markdown",
   "id": "52436a88-26a5-4886-a3c1-4dc88c63f006",
   "metadata": {},
   "source": [
    "    The topological sort is a simple but useful adaptation of a depth first search. The algorithm for the topological sort is as follows:\n",
    "\n",
    "    1.Perform a depth first search over the graph in order to compute the finish times for each of the vertices.\n",
    "    2.Store the vertices in a list in decreasing order of finish time.\n",
    "    3.Return the ordered list as the result of the topological sort\n"
   ]
  },
  {
   "cell_type": "code",
   "execution_count": 274,
   "id": "3d80d78c-9f04-40f0-865e-08b53f8556d1",
   "metadata": {},
   "outputs": [],
   "source": [
    "def find_degrees_of_node(graph):\n",
    "    degrees = {}\n",
    "    for node in graph:\n",
    "        degrees[node] = 0\n",
    "    \n",
    "    for node, edges in graph.items():\n",
    "        for destination_node in edges:\n",
    "            degrees[destination_node] += 1\n",
    "            \n",
    "    return degrees\n",
    "\n",
    "def find_min_degree(graph):\n",
    "    degrees = find_degrees_of_node(graph)\n",
    "    return min(degrees)\n",
    "\n",
    "def sort_dictionary(x, reverse=True):\n",
    "    return {k: v for k, v in sorted(x.items(), key=lambda item: item[1], reverse=reverse)}\n",
    "    \n",
    "def sort_traversal_times(traversal_times):\n",
    "    for key, value in traversal_times.items():\n",
    "        traversal_times[key] = value[\"finish\"]\n",
    "        \n",
    "    return sort_dictionary(traversal_times)\n",
    "    \n",
    "def topological_sort(graph):\n",
    "    min_node = find_min_degree(graph)\n",
    "    traversal_times = depth_first_search(simple_graph, min_node)\n",
    "    sorted_traversal_times = sort_traversal_times(traversal_times)\n",
    "    return sorted_traversal_times.keys()"
   ]
  },
  {
   "cell_type": "code",
   "execution_count": 57,
   "id": "3e6b2c86-c5f4-488f-8ad5-c21414212385",
   "metadata": {},
   "outputs": [
    {
     "data": {
      "text/plain": [
       "dict_keys(['A', 'B', 'D', 'E', 'F', 'C'])"
      ]
     },
     "execution_count": 57,
     "metadata": {},
     "output_type": "execute_result"
    }
   ],
   "source": [
    "topological_sort(simple_graph)"
   ]
  },
  {
   "cell_type": "markdown",
   "id": "f2ea1771-47e5-4411-9072-bcc48590c968",
   "metadata": {
    "jp-MarkdownHeadingCollapsed": true,
    "tags": []
   },
   "source": [
    "### Shortest Path with Dijkstra’s Algorithm "
   ]
  },
  {
   "cell_type": "markdown",
   "id": "2a421dac-4010-4ae8-9ade-b7ada3fc0112",
   "metadata": {},
   "source": [
    "    When you surf the web, send an email, or log in to a laboratory computer from another location on campus a lot of work is going on behind the scenes to get the information on your computer transferred to another computer. The in-depth study of how information flows from one computer to another over the Internet is the primary topic for a class in computer networking. However, we will talk about how the Internet works just enough to understand another very important graph algorithm."
   ]
  },
  {
   "cell_type": "markdown",
   "id": "b69a444e-b459-47c6-8419-a13ff2dfa9f6",
   "metadata": {
    "tags": []
   },
   "source": [
    "#### Dijkstra’s Algorithm"
   ]
  },
  {
   "cell_type": "code",
   "execution_count": 58,
   "id": "09981616-9a6e-4bd1-902c-b5144ddf5f47",
   "metadata": {},
   "outputs": [],
   "source": [
    "import heapq"
   ]
  },
  {
   "cell_type": "code",
   "execution_count": 145,
   "id": "f1bf23c0-64a3-432c-b3c7-1c555651993b",
   "metadata": {},
   "outputs": [],
   "source": [
    "def calculate_distances(graph, starting_vertex):\n",
    "    distances = {vertex: [float(\"infinity\"), None] for vertex in graph}\n",
    "    distances[starting_vertex] = [0, None]\n",
    "    \n",
    "    pq = [(0, starting_vertex)]\n",
    "    \n",
    "    while len(pq)>0:\n",
    "        # print(\"before:\", pq)\n",
    "        current_distance, current_vertex = heapq.heappop(pq)\n",
    "        # print(\"after:\", pq)\n",
    "        if current_distance > distances[current_vertex][0]:\n",
    "            continue\n",
    "        \n",
    "        for neighbor, weight in graph[current_vertex].items():\n",
    "            # print(current_vertex, neighbor, weight)\n",
    "            distance = current_distance + weight\n",
    "                \n",
    "            if distance < distances[neighbor][0]:\n",
    "                # print(\"less\", neighbor)\n",
    "                # print(\"hit\", pq)\n",
    "                distances_object = distances[neighbor]\n",
    "                distances_object[0] = distance\n",
    "                distances_object[1] = current_vertex\n",
    "                \n",
    "                heapq.heappush(pq, (distance, neighbor))\n",
    "\n",
    "    return distances"
   ]
  },
  {
   "cell_type": "code",
   "execution_count": 152,
   "id": "3b80dd36-0c47-40e0-adbd-477dfbe13603",
   "metadata": {},
   "outputs": [],
   "source": [
    "example_graph = {\n",
    "    'U': {'V': 2, 'W': 5, 'X': 1},\n",
    "    'V': {'U': 2, 'X': 2, 'W': 3},\n",
    "    'W': {'V': 3, 'U': 5, 'X': 3, 'Y': 1, 'Z': 5},\n",
    "    'X': {'U': 1, 'V': 2, 'W': 3, 'Y': 1},\n",
    "    'Y': {'X': 1, 'W': 1, 'Z': 1},\n",
    "    'Z': {'W': 5, 'Y': 1},\n",
    "}"
   ]
  },
  {
   "cell_type": "code",
   "execution_count": 149,
   "id": "221c8ec0-c11a-4398-b7a9-a00cee44a755",
   "metadata": {},
   "outputs": [
    {
     "name": "stdout",
     "output_type": "stream",
     "text": [
      "{'U': [1, 'X'], 'V': [2, 'X'], 'W': [2, 'Y'], 'X': [0, None], 'Y': [1, 'X'], 'Z': [2, 'Y']}\n"
     ]
    }
   ],
   "source": [
    "print(calculate_distances(example_graph, 'X'))\n",
    "# => {'U': 1, 'W': 2, 'V': 2, 'Y': 1, 'X': 0, 'Z': 2}"
   ]
  },
  {
   "cell_type": "code",
   "execution_count": 150,
   "id": "f5048f31-c4ab-4d7c-932f-6c5d993c2612",
   "metadata": {},
   "outputs": [
    {
     "name": "stdout",
     "output_type": "stream",
     "text": [
      "{'U': [0, None], 'V': [2, 'U'], 'W': [3, 'Y'], 'X': [1, 'U'], 'Y': [2, 'X'], 'Z': [3, 'Y']}\n"
     ]
    }
   ],
   "source": [
    "print(calculate_distances(example_graph, 'U'))"
   ]
  },
  {
   "cell_type": "markdown",
   "id": "46d07294-fe1e-417e-b296-23e18eea8064",
   "metadata": {},
   "source": [
    "#### Analysis of Dijkstra’s Algorithm"
   ]
  },
  {
   "cell_type": "markdown",
   "id": "62453cf6-f895-4b58-a297-0019d8537ae9",
   "metadata": {},
   "source": [
    "    We will now consider the running time of Dijkstra’s algorithm.\n",
    "\n",
    "    Building the distances dictionary takes O(V) time since we add every vertex in the graph to the dictionary.\n",
    "\n",
    "    The while loop is executed once for every entry that gets added to the priority queue. An entry can only be added when we explore an edge, so there are at most O(E) iterations of the while loop.\n",
    "\n",
    "    The for loop is executed at most once for every vertex, since the current_distance > distances[current_vertex] check ensures that we only process a vertex once. The for loop iterates over outgoing edges, so among all iterations of the while loop, the body of the for loop executes at most O(E) times.\n",
    "\n",
    "    Finally, if we consider that each priority queue operation (adding or removing an entry) is O(logE), we conclude that the total running time is O(V+ElogE)."
   ]
  },
  {
   "cell_type": "markdown",
   "id": "d04b5016-8ac5-44f9-b522-d1ef6bc8b143",
   "metadata": {
    "tags": []
   },
   "source": [
    "### Strongly Connected Components "
   ]
  },
  {
   "cell_type": "markdown",
   "id": "14a05951-2665-4ee5-937e-963d68fc5374",
   "metadata": {},
   "source": [
    "https://stackoverflow.com/questions/11277432/how-can-i-remove-a-key-from-a-python-dictionary"
   ]
  },
  {
   "cell_type": "markdown",
   "id": "9ec3f75f-3a53-4e13-b563-4eef7cd8f546",
   "metadata": {
    "tags": []
   },
   "source": [
    "    We formally define a strongly connected component, C, of a graph G, as the largest subset of vertices C⊂V such that for every pair of vertices v,w ∈ C, we have a path from v to w and a path from w to v. The illustration below shows a simple graph with three strongly connected components. The strongly connected components are identified by the different shaded areas.\n",
    "    \n",
    "    Once the strongly connected components have been identified we can show a simplified view of the graph by combining all the vertices in one strongly connected component into a single larger vertex. The simplified version of the graph above is shown below."
   ]
  },
  {
   "cell_type": "markdown",
   "id": "60dafd3d-57d9-4823-83ff-21e5410606f8",
   "metadata": {
    "tags": []
   },
   "source": [
    "    The transpose of a graph G is defined as the graph G^T where all the edges in the graph have been reversed. That is, if there is a directed edge from node A to node B in the original graph then G^T will contain an edge from node B to node A. The diagrams below show a simple graph and its transposition."
   ]
  },
  {
   "cell_type": "markdown",
   "id": "8fa80846-7004-48fc-b51c-a7ee92cc5448",
   "metadata": {
    "tags": []
   },
   "source": [
    "    We can now describe the algorithm to compute the strongly connected components for a graph.\n",
    "\n",
    "    1.Perform a depth first search for the graph G to compute the finish times for each vertex.\n",
    "    \n",
    "    2.Compute G^T\n",
    "    \n",
    "    3.Perform a depth first search for the graph G^T but in the main loop explore each vertex in decreasing order of finish time.\n",
    "    \n",
    "    4.Each tree in the forest computed in step 3 is a strongly connected component. Output the vertex ids for each vertex in each tree in the forest to identify the component.\n"
   ]
  },
  {
   "cell_type": "code",
   "execution_count": 213,
   "id": "40aa45b4-f9d1-46a4-8b21-74f543cf02f6",
   "metadata": {},
   "outputs": [],
   "source": [
    "from collections import defaultdict"
   ]
  },
  {
   "cell_type": "code",
   "execution_count": 289,
   "id": "c49bb8fe-78f9-4159-bef0-d055924b9927",
   "metadata": {},
   "outputs": [],
   "source": [
    "scc_graph = {\n",
    "    'A': {'B':1, },\n",
    "    'B': {'E':1, 'C':1, },\n",
    "    'C': {'C':1, 'F':1, },\n",
    "    'D': {'B':1, 'G':1, },\n",
    "    'E': {'D':1, 'A':1,},\n",
    "    'F': {'H':1, },\n",
    "    'G': {'E':1, },\n",
    "    'H': {'I':1, },\n",
    "    'I': {'F':1, },\n",
    "}"
   ]
  },
  {
   "cell_type": "code",
   "execution_count": 367,
   "id": "00808e27-08d4-4299-a5a5-e3ff022a2590",
   "metadata": {},
   "outputs": [],
   "source": [
    "import copy\n",
    "\n",
    "def graph_transpose(graph):\n",
    "    out = defaultdict(dict)\n",
    "    for key, value in graph.items():\n",
    "        for edge, weight in value.items():\n",
    "            out[edge][key] = weight\n",
    "            \n",
    "    return out\n",
    "\n",
    "def graph_remove_one_node(graph, node):\n",
    "    graph = copy.deepcopy(graph)\n",
    "    graph.pop(node, None)\n",
    "    for key, value in graph.items():\n",
    "        value.pop(node, None)\n",
    "    return graph\n",
    "\n",
    "def graph_remove_a_component(graph, component):\n",
    "    for node in component:\n",
    "        graph = graph_remove_one_node(graph, node)\n",
    "    return graph\n",
    "        \n",
    "def scc_algorithm(graph):\n",
    "    components = []\n",
    "    transposed_graph = graph_transpose(graph)\n",
    "    traversal_times = depth_first_search(graph, find_min_degree(graph))\n",
    "    traversal_times_decreasing = list(sort_traversal_times(traversal_times).keys())\n",
    "    visited = []\n",
    "    \n",
    "    for node in traversal_times_decreasing:\n",
    "        if node not in visited:\n",
    "            # print(transposed_graph)\n",
    "            this_traversal_times = depth_first_search(transposed_graph, node)\n",
    "            this_component = list(this_traversal_times.keys())\n",
    "            components.append(this_component)\n",
    "            visited.extend(this_component)\n",
    "            transposed_graph =  graph_remove_a_component(transposed_graph, this_component)\n",
    "\n",
    "    return components"
   ]
  },
  {
   "cell_type": "code",
   "execution_count": 368,
   "id": "225f07ab-270f-4eb2-93ec-e03cbec4c629",
   "metadata": {},
   "outputs": [
    {
     "data": {
      "text/plain": [
       "[['A', 'E', 'B', 'D', 'G'], ['C'], ['F', 'I', 'H']]"
      ]
     },
     "execution_count": 368,
     "metadata": {},
     "output_type": "execute_result"
    }
   ],
   "source": [
    "scc_algorithm(scc_graph)"
   ]
  },
  {
   "cell_type": "markdown",
   "id": "1926c78c-5eca-428e-a12b-e054b8dd1723",
   "metadata": {},
   "source": [
    "### Prim’s Spanning Tree Algorithm "
   ]
  },
  {
   "cell_type": "markdown",
   "id": "c3f94337-b205-4064-9415-ebd846d483f6",
   "metadata": {},
   "source": [
    "    The solution to this problem lies in the construction of a minimum weight spanning tree. Formally we define the minimum spanning tree T for a graph G=(V,E) as follows. TTT is an acyclic subset of E that connects all the vertices in V. The sum of the weights of the edges in T is minimized."
   ]
  },
  {
   "cell_type": "code",
   "execution_count": 369,
   "id": "3f3f0c5f-9c58-40b0-8115-ed0923b51961",
   "metadata": {},
   "outputs": [],
   "source": [
    "from collections import defaultdict\n",
    "import heapq"
   ]
  },
  {
   "cell_type": "code",
   "execution_count": 385,
   "id": "a3cd4a40-a58b-430c-9344-ced486f72504",
   "metadata": {},
   "outputs": [],
   "source": [
    "def create_spanning_tree(graph, starting_vertex):\n",
    "    mst = defaultdict(set)\n",
    "    visited = set([starting_vertex])\n",
    "    edges = [\n",
    "        (cost, starting_vertex, to)\n",
    "        for to, cost in graph[starting_vertex].items()\n",
    "    ]\n",
    "    heapq.heapify(edges)\n",
    "    \n",
    "    while edges:\n",
    "        cost, frm, to = heapq.heappop(edges)\n",
    "        if to not in visited:\n",
    "            visited.add(to)\n",
    "            mst[frm].add(to)\n",
    "            for to_next, cost in graph[to].items():\n",
    "                if to_next not in visited:\n",
    "                    heapq.heappush(edges, (cost, to, to_next))\n",
    "\n",
    "    return mst"
   ]
  },
  {
   "cell_type": "code",
   "execution_count": 386,
   "id": "9616f370-2122-402c-842c-bb51ee4b91b0",
   "metadata": {},
   "outputs": [
    {
     "data": {
      "text/plain": [
       "defaultdict(set,\n",
       "            {'D': {'B', 'G'},\n",
       "             'B': {'C', 'E'},\n",
       "             'C': {'F'},\n",
       "             'E': {'A'},\n",
       "             'F': {'H'},\n",
       "             'H': {'I'}})"
      ]
     },
     "execution_count": 386,
     "metadata": {},
     "output_type": "execute_result"
    }
   ],
   "source": [
    "create_spanning_tree(scc_graph, \"D\")"
   ]
  }
 ],
 "metadata": {
  "kernelspec": {
   "display_name": "Python 3",
   "language": "python",
   "name": "python3"
  },
  "language_info": {
   "codemirror_mode": {
    "name": "ipython",
    "version": 3
   },
   "file_extension": ".py",
   "mimetype": "text/x-python",
   "name": "python",
   "nbconvert_exporter": "python",
   "pygments_lexer": "ipython3",
   "version": "3.9.13"
  }
 },
 "nbformat": 4,
 "nbformat_minor": 5
}
