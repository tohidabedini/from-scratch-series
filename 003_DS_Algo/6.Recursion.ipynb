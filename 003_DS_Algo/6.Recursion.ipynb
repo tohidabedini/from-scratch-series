{
 "cells": [
  {
   "cell_type": "markdown",
   "id": "20f39829-6a02-42e0-aed9-f6ed9a3a1676",
   "metadata": {},
   "source": [
    "### Calculating the Sum of a List of Numbers "
   ]
  },
  {
   "cell_type": "code",
   "execution_count": 2,
   "id": "e599a9b0-b671-4344-8548-7d2ab57dc1a7",
   "metadata": {},
   "outputs": [],
   "source": [
    "def iterative_sum(numbers):\n",
    "    sum_ = 0\n",
    "    for number in numbers:\n",
    "        sum_ += number\n",
    "    return sum_"
   ]
  },
  {
   "cell_type": "code",
   "execution_count": 3,
   "id": "5b235ac0-f401-4527-909c-82b93f07167c",
   "metadata": {},
   "outputs": [
    {
     "name": "stdout",
     "output_type": "stream",
     "text": [
      "25\n"
     ]
    }
   ],
   "source": [
    "print(iterative_sum([1, 3, 5, 7, 9]))  # => 25"
   ]
  },
  {
   "cell_type": "code",
   "execution_count": 4,
   "id": "02dd475b-46c8-408b-9561-4305a01b59e4",
   "metadata": {},
   "outputs": [],
   "source": [
    "def sum_of(numbers):\n",
    "    if len(numbers) == 1:\n",
    "        return numbers[0]\n",
    "    else:\n",
    "        return numbers[0] + sum_of(numbers[1:])"
   ]
  },
  {
   "cell_type": "code",
   "execution_count": 5,
   "id": "90b644f6-76d2-4377-983d-5240900a1ea3",
   "metadata": {},
   "outputs": [
    {
     "name": "stdout",
     "output_type": "stream",
     "text": [
      "25\n"
     ]
    }
   ],
   "source": [
    "print(sum_of([1, 3, 5, 7, 9]))  # => 25"
   ]
  },
  {
   "cell_type": "markdown",
   "id": "620377c6-5ad4-472b-af3b-b6437c0a5fbd",
   "metadata": {},
   "source": [
    "###  The Three Laws of Recursion "
   ]
  },
  {
   "cell_type": "markdown",
   "id": "12f7e271-b0e7-4af3-8d6e-b525b95949c8",
   "metadata": {},
   "source": [
    "\n",
    "    A recursive algorithm must have a base case.\n",
    "    A recursive algorithm must change its state and move toward the base case.\n",
    "    A recursive algorithm must call itself, recursively.\n"
   ]
  },
  {
   "cell_type": "markdown",
   "id": "5548cafd-a86b-43d4-844f-cfbe5900e0de",
   "metadata": {
    "tags": []
   },
   "source": [
    "### Converting an Integer to Any Base "
   ]
  },
  {
   "cell_type": "code",
   "execution_count": 1,
   "id": "eafceb53-36f6-455a-8329-6d0b191b9a36",
   "metadata": {},
   "outputs": [],
   "source": [
    "char_for_int = '0123456789abcdef'\n",
    "def to_string(n, base):\n",
    "    if n < base:\n",
    "        return char_for_int[n]\n",
    "    else:\n",
    "        divisor = n // base\n",
    "        remainder = n % base\n",
    "        \n",
    "        return to_string(divisor, base) + to_string(remainder, base)"
   ]
  },
  {
   "cell_type": "code",
   "execution_count": 3,
   "id": "773e25e9-5ff7-41cb-9714-71b40b79c641",
   "metadata": {},
   "outputs": [
    {
     "name": "stdout",
     "output_type": "stream",
     "text": [
      "5ad\n"
     ]
    }
   ],
   "source": [
    "print(to_string(1453, 16))  # => 5Ad"
   ]
  },
  {
   "cell_type": "markdown",
   "id": "4fe33b28-a18f-4e90-90a7-17600e276232",
   "metadata": {},
   "source": [
    "###  Tower of Hanoi "
   ]
  },
  {
   "cell_type": "code",
   "execution_count": 4,
   "id": "eaa6f14d-def4-4ae8-bb57-aceb62396d03",
   "metadata": {},
   "outputs": [],
   "source": [
    "def move_tower(height, from_pole, to_pole, with_pole):\n",
    "    if height>=1:\n",
    "        move_tower(height-1, from_pole, with_pole, to_pole)\n",
    "        move_disk(from_pole, to_pole)\n",
    "        move_tower(height-1, with_pole, to_pole, from_pole)\n",
    "\n",
    "def move_disk(from_pole, to_pole):\n",
    "    print('moving disk from {} to {}'.format(from_pole, to_pole))"
   ]
  },
  {
   "cell_type": "code",
   "execution_count": 5,
   "id": "3f639984-3d71-4d07-8023-14ba430e89b8",
   "metadata": {},
   "outputs": [
    {
     "name": "stdout",
     "output_type": "stream",
     "text": [
      "moving disk from A to B\n",
      "moving disk from A to C\n",
      "moving disk from B to C\n",
      "moving disk from A to B\n",
      "moving disk from C to A\n",
      "moving disk from C to B\n",
      "moving disk from A to B\n"
     ]
    }
   ],
   "source": [
    "move_tower(3, \"A\", \"B\", \"C\")"
   ]
  },
  {
   "cell_type": "markdown",
   "id": "278ff51a-121e-42b5-8e7f-b0a3bd13b693",
   "metadata": {},
   "source": [
    "### Dynamic Programming "
   ]
  },
  {
   "cell_type": "code",
   "execution_count": 11,
   "id": "f9b88748-75b2-4410-aa9b-0462fc44023d",
   "metadata": {},
   "outputs": [],
   "source": [
    "def fib(n):\n",
    "    if n < 2:\n",
    "        return n\n",
    "    else:\n",
    "        return fib(n-1) + fib(n-2)"
   ]
  },
  {
   "cell_type": "code",
   "execution_count": 24,
   "id": "f54de27b-9f62-4e60-a077-a59d66adc1eb",
   "metadata": {},
   "outputs": [
    {
     "name": "stdout",
     "output_type": "stream",
     "text": [
      "0\n",
      "1\n",
      "1\n",
      "2\n",
      "3\n",
      "5\n",
      "8\n",
      "13\n",
      "21\n",
      "34\n"
     ]
    }
   ],
   "source": [
    "for i in range(10):\n",
    "    print(fib(i))\n",
    "\n",
    "# %time print(fib(7))"
   ]
  },
  {
   "cell_type": "markdown",
   "id": "22951e8a-1683-42d3-b22e-137045722a0c",
   "metadata": {},
   "source": [
    "This is a good time to consider that the “top down” approach of recursive problem solving has a counterpart, the unsurprising “bottom up” approach of dynamic programming."
   ]
  },
  {
   "cell_type": "code",
   "execution_count": 29,
   "id": "a58c4b19-9a5c-412b-ac2b-e4624ee289e3",
   "metadata": {},
   "outputs": [],
   "source": [
    "def fib_dynamic(n):\n",
    "    a, b = 0, 1\n",
    "    for i in range(n):\n",
    "        # a, b = a+b, a\n",
    "        temp = a\n",
    "        a += b\n",
    "        b = temp\n",
    "\n",
    "    return a"
   ]
  },
  {
   "cell_type": "code",
   "execution_count": 30,
   "id": "613f11e6-80ac-4b19-8375-5074b7071535",
   "metadata": {},
   "outputs": [
    {
     "name": "stdout",
     "output_type": "stream",
     "text": [
      "0\n",
      "1\n",
      "1\n",
      "2\n",
      "3\n",
      "5\n",
      "8\n",
      "13\n",
      "21\n",
      "34\n"
     ]
    }
   ],
   "source": [
    "for i in range(10):\n",
    "    print(fib_dynamic(i))"
   ]
  },
  {
   "cell_type": "markdown",
   "id": "9f1b8879-1ecc-41e3-bdfc-6d2353f64b63",
   "metadata": {},
   "source": [
    "#### Shortest Paths"
   ]
  },
  {
   "cell_type": "code",
   "execution_count": 31,
   "id": "b5c4f326-6523-4dea-be53-82c665658f2b",
   "metadata": {},
   "outputs": [],
   "source": [
    "def num_paths(height, width):\n",
    "    if height == 0 or width == 0:\n",
    "        return 1\n",
    "    else:\n",
    "        return num_paths(height-1, width) + num_paths(height, width-1)"
   ]
  },
  {
   "cell_type": "code",
   "execution_count": 64,
   "id": "5e2ff8db-4a7a-47d5-880b-ce5d4a064bfc",
   "metadata": {},
   "outputs": [
    {
     "name": "stdout",
     "output_type": "stream",
     "text": [
      "CPU times: user 237 ms, sys: 3 µs, total: 237 ms\n",
      "Wall time: 235 ms\n"
     ]
    },
    {
     "data": {
      "text/plain": [
       "705432"
      ]
     },
     "execution_count": 64,
     "metadata": {},
     "output_type": "execute_result"
    }
   ],
   "source": [
    "%time num_paths(11, 11)"
   ]
  },
  {
   "cell_type": "code",
   "execution_count": 82,
   "id": "20d1854f-954e-490c-b5ca-df587780b002",
   "metadata": {},
   "outputs": [],
   "source": [
    "def num_paths_dp(height, width):\n",
    "    final_list = [[1 for i in range(width+1)] for j in range(height+1)]\n",
    "    for i in range(1, height+1):\n",
    "        for j in range(1, width+1):\n",
    "            final_list[i][j] = final_list[i-1][j] + final_list[i][j-1] \n",
    "\n",
    "    return final_list[-1][-1]\n",
    "\n",
    "def num_paths_dp_low_space_mode(height, width):\n",
    "    first_list = [1 for i in range(width+1)]\n",
    "    second_list = [1 for i in range(width+1)]\n",
    "    result_list = [1 for i in range(width+1)]\n",
    "    for i in range(height+1):\n",
    "        for j in range(1, width+1):\n",
    "            result_list[j] = first_list[j] + second_list[j-1] \n",
    "        first_list = second_list\n",
    "        second_list = result_list\n",
    "\n",
    "    return result_list[-1]"
   ]
  },
  {
   "cell_type": "code",
   "execution_count": 83,
   "id": "7309e60a-0280-4607-bc6b-e0a5d8f5a481",
   "metadata": {},
   "outputs": [
    {
     "name": "stdout",
     "output_type": "stream",
     "text": [
      "705432\n",
      "705432\n"
     ]
    }
   ],
   "source": [
    "print(num_paths_dp(11, 11))\n",
    "print(num_paths_dp_low_space_mode(11, 11))"
   ]
  },
  {
   "cell_type": "code",
   "execution_count": null,
   "id": "5e8a9581-d9e5-461e-b0e9-03d3ffd07f44",
   "metadata": {},
   "outputs": [],
   "source": []
  }
 ],
 "metadata": {
  "kernelspec": {
   "display_name": "Python 3",
   "language": "python",
   "name": "python3"
  },
  "language_info": {
   "codemirror_mode": {
    "name": "ipython",
    "version": 3
   },
   "file_extension": ".py",
   "mimetype": "text/x-python",
   "name": "python",
   "nbconvert_exporter": "python",
   "pygments_lexer": "ipython3",
   "version": "3.9.13"
  }
 },
 "nbformat": 4,
 "nbformat_minor": 5
}
