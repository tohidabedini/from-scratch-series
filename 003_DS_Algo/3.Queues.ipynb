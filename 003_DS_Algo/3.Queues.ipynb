{
 "cells": [
  {
   "cell_type": "markdown",
   "id": "4b24a6a0-85ab-4f9e-b6bc-aa76662e615e",
   "metadata": {},
   "source": [
    "https://bradfieldcs.com/algos/queues/introduction/"
   ]
  },
  {
   "cell_type": "markdown",
   "id": "110d65e5-07b6-4682-b115-f6c3e7171cc0",
   "metadata": {},
   "source": [
    "###  Introduction to Queues "
   ]
  },
  {
   "cell_type": "markdown",
   "id": "6df55ed3-d33d-40d6-931a-6d2c85d25055",
   "metadata": {},
   "source": [
    "FIFO, first-in first-out"
   ]
  },
  {
   "cell_type": "markdown",
   "id": "047a4055-bb83-44e8-a210-1a18d3775d85",
   "metadata": {},
   "source": [
    "Queue() creates a new queue that is empty. It needs no parameters and returns an empty queue.\n",
    "\n",
    "enqueue(item) adds a new item to the rear of the queue. It needs the item and returns nothing.\n",
    "\n",
    "dequeue() removes the front item from the queue. It needs no parameters and returns the item. The queue is modified.\n",
    "\n",
    "is_empty() tests to see whether the queue is empty. It needs no parameters and returns a boolean value.\n",
    "\n",
    "size() returns the number of items in the queue. It needs no parameters and returns an integer.\n"
   ]
  },
  {
   "cell_type": "markdown",
   "id": "312b915f-efbd-496e-b264-c8703f58f638",
   "metadata": {},
   "source": [
    "### A Queue Implementation "
   ]
  },
  {
   "cell_type": "code",
   "execution_count": 3,
   "id": "034b406e-9348-4c14-9518-ea49fd975b07",
   "metadata": {},
   "outputs": [],
   "source": [
    "class Queue:\n",
    "    def __init__(self):\n",
    "        self._items = []\n",
    "        \n",
    "    def is_empty(self):\n",
    "        return len(self._items) == 0\n",
    "    \n",
    "    def enqueue(self, item):\n",
    "        self._items.insert(0, item)\n",
    "    \n",
    "    def dequeue(self):\n",
    "        return self._items.pop()   \n",
    "    \n",
    "    def size(self):\n",
    "        return len(self._items)"
   ]
  },
  {
   "cell_type": "markdown",
   "id": "bd066a0e-5e0e-4be0-86ed-df49c0c1c87f",
   "metadata": {},
   "source": [
    "###  Simulating Hot Potato "
   ]
  },
  {
   "cell_type": "code",
   "execution_count": 13,
   "id": "614e5cec-f651-46b2-8f52-f22c423dfdb0",
   "metadata": {},
   "outputs": [],
   "source": [
    "def hot_potato(names, num):\n",
    "    queue = Queue()\n",
    "    for name in names:\n",
    "        queue.enqueue(name)\n",
    "    \n",
    "    while queue.size() > 1:\n",
    "        for i in range(num):\n",
    "            item = queue.dequeue()\n",
    "            queue.enqueue(item)\n",
    "        queue.dequeue()\n",
    "    \n",
    "    return queue.dequeue()"
   ]
  },
  {
   "cell_type": "code",
   "execution_count": 14,
   "id": "c5562550-0859-41bd-bed2-93d60ba367e2",
   "metadata": {},
   "outputs": [
    {
     "name": "stdout",
     "output_type": "stream",
     "text": [
      "David\n"
     ]
    }
   ],
   "source": [
    "print(hot_potato(('Bill', 'David', 'Susan', 'Jane', 'Kent', 'Brad'), 9))"
   ]
  }
 ],
 "metadata": {
  "kernelspec": {
   "display_name": "Python 3",
   "language": "python",
   "name": "python3"
  },
  "language_info": {
   "codemirror_mode": {
    "name": "ipython",
    "version": 3
   },
   "file_extension": ".py",
   "mimetype": "text/x-python",
   "name": "python",
   "nbconvert_exporter": "python",
   "pygments_lexer": "ipython3",
   "version": "3.9.13"
  }
 },
 "nbformat": 4,
 "nbformat_minor": 5
}
