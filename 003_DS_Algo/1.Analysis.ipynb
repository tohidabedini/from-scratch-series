{
 "cells": [
  {
   "cell_type": "markdown",
   "id": "42a8da72-13ff-4086-9526-7d42b3ccd096",
   "metadata": {},
   "source": [
    "https://bradfieldcs.com/algos/analysis/introduction/"
   ]
  },
  {
   "cell_type": "code",
   "execution_count": 10,
   "id": "77f84ee5-63cb-40b3-abee-24a130963d97",
   "metadata": {},
   "outputs": [],
   "source": [
    "import time"
   ]
  },
  {
   "cell_type": "markdown",
   "id": "41cf751e-4b25-4afc-89c4-6771d1870159",
   "metadata": {},
   "source": [
    "### sum_to_n"
   ]
  },
  {
   "cell_type": "code",
   "execution_count": 11,
   "id": "4541590d-0b91-4ef5-9f70-bfc018ccb01f",
   "metadata": {},
   "outputs": [],
   "source": [
    "def sum_to_n(n):\n",
    "    start = time.time()\n",
    "    sum_=0\n",
    "    for i in range(1,n+1):\n",
    "        sum_+=i\n",
    "    end = time.time()\n",
    "    duration = end - start\n",
    "    return sum_, duration"
   ]
  },
  {
   "cell_type": "code",
   "execution_count": 14,
   "id": "e0e2979d-56e0-4e83-887d-a2e6f6d41d01",
   "metadata": {},
   "outputs": [
    {
     "data": {
      "text/plain": [
       "(125000250000, 0.0644078254699707)"
      ]
     },
     "execution_count": 14,
     "metadata": {},
     "output_type": "execute_result"
    }
   ],
   "source": [
    "# %time sum_to_n(500_000)\n",
    "sum_to_n(500_000)"
   ]
  },
  {
   "cell_type": "code",
   "execution_count": 19,
   "id": "088635f2-37af-4a83-97fa-65273ff9a054",
   "metadata": {},
   "outputs": [],
   "source": [
    "def sum_to_n_formula(n):\n",
    "    start = time.time()\n",
    "    sum_ = n*(n+1)/2\n",
    "    end = time.time()\n",
    "    duration = end - start\n",
    "    return sum_, duration"
   ]
  },
  {
   "cell_type": "code",
   "execution_count": 20,
   "id": "af72a986-1067-4d62-8b00-bf64e26919a2",
   "metadata": {},
   "outputs": [
    {
     "data": {
      "text/plain": [
       "(125000250000.0, 2.1457672119140625e-06)"
      ]
     },
     "execution_count": 20,
     "metadata": {},
     "output_type": "execute_result"
    }
   ],
   "source": [
    "sum_to_n_formula(500_000)"
   ]
  },
  {
   "cell_type": "markdown",
   "id": "ef984910-f5de-419e-ae30-90e57b11cae3",
   "metadata": {},
   "source": [
    "### Big O "
   ]
  },
  {
   "cell_type": "code",
   "execution_count": 21,
   "id": "e1af69fd-8e4a-4ff3-a824-e6236a431b0d",
   "metadata": {},
   "outputs": [],
   "source": [
    "def test():\n",
    "    a = 5\n",
    "    b = 6\n",
    "    c = 10\n",
    "    for i in range(n):\n",
    "        for j in range(n):\n",
    "            x = i * i\n",
    "            y = j * j\n",
    "            z = i * j\n",
    "    for k in range(n):\n",
    "        w = a * k + 45\n",
    "        v = b * b\n",
    "    d = 33\n",
    "    \n",
    "# O(...) ?"
   ]
  },
  {
   "cell_type": "markdown",
   "id": "379cd88a-6a9e-4524-8e60-1796f2f6cc3b",
   "metadata": {
    "tags": []
   },
   "source": [
    "### Anagram"
   ]
  },
  {
   "cell_type": "code",
   "execution_count": 39,
   "id": "6173f53f-2221-41ca-b419-8d754b7b43b6",
   "metadata": {},
   "outputs": [],
   "source": [
    "from itertools import zip_longest"
   ]
  },
  {
   "cell_type": "markdown",
   "id": "f081fdc1-2f7b-4f0e-862a-6b0c66d51daa",
   "metadata": {},
   "source": [
    "#### Solution 1: Checking Off"
   ]
  },
  {
   "cell_type": "code",
   "execution_count": 22,
   "id": "89d2d9e1-bd26-4264-be62-ef160b95d311",
   "metadata": {},
   "outputs": [],
   "source": [
    "def anagram_checking_off(s1, s2):\n",
    "    if len(s1) != len(s2):\n",
    "        return False\n",
    "    else:\n",
    "        for i in s1:\n",
    "            hit = False\n",
    "            for j in s2:\n",
    "                if i == j:\n",
    "                    hit = True\n",
    "                    break\n",
    "            if hit == False:\n",
    "                return False\n",
    "        return True"
   ]
  },
  {
   "cell_type": "code",
   "execution_count": 52,
   "id": "64397306-82ff-462a-a62b-b60c2260cbb4",
   "metadata": {},
   "outputs": [
    {
     "name": "stdout",
     "output_type": "stream",
     "text": [
      "True\n",
      "False\n"
     ]
    }
   ],
   "source": [
    "print(anagram_checking_off('abcd', 'dcba'))\n",
    "print(anagram_checking_off('abcd', 'abcc'))"
   ]
  },
  {
   "cell_type": "markdown",
   "id": "0dc92eb3-57ac-4a54-a411-58440dabd353",
   "metadata": {},
   "source": [
    "#### Solution 2: Sort and Compare"
   ]
  },
  {
   "cell_type": "code",
   "execution_count": 38,
   "id": "bcf18986-3e30-40d6-b571-d5c75f00ec93",
   "metadata": {},
   "outputs": [],
   "source": [
    "def anagram_sort_and_compare(s1, s2):\n",
    "    for a, b in zip_longest(sorted(s1), sorted(s2)):\n",
    "        # print(a,b)\n",
    "        if a != b:\n",
    "            return False\n",
    "    return True"
   ]
  },
  {
   "cell_type": "code",
   "execution_count": 51,
   "id": "f388a0b0-8a4d-4f42-99fb-6d0ef3248197",
   "metadata": {},
   "outputs": [
    {
     "name": "stdout",
     "output_type": "stream",
     "text": [
      "True\n",
      "False\n"
     ]
    }
   ],
   "source": [
    "print(anagram_sort_and_compare('abcde', 'edcba'))\n",
    "print(anagram_sort_and_compare('abcde', 'abcd'))"
   ]
  },
  {
   "cell_type": "markdown",
   "id": "acf7b5f0-a653-4721-ac05-ce278ed18dd6",
   "metadata": {},
   "source": [
    "#### Solution 3: Brute Force"
   ]
  },
  {
   "cell_type": "markdown",
   "id": "4c5234f6-0ebe-4e04-bb99-30567dfeda69",
   "metadata": {},
   "source": [
    "!------!"
   ]
  },
  {
   "cell_type": "markdown",
   "id": "a222733d-cf60-4b72-9778-7f901239eeb3",
   "metadata": {},
   "source": [
    "#### Solution 4: Count and Compare"
   ]
  },
  {
   "cell_type": "code",
   "execution_count": 43,
   "id": "7e64dc49-442d-4fbc-81a7-b2419a0c461b",
   "metadata": {},
   "outputs": [],
   "source": [
    "from collections import Counter"
   ]
  },
  {
   "cell_type": "code",
   "execution_count": 44,
   "id": "f311ec14-cc05-4862-853a-269c9354514b",
   "metadata": {},
   "outputs": [],
   "source": [
    "def anagram_count_compare(s1, s2):\n",
    "    c1 = [0] * 26\n",
    "    c2 = [0] * 26\n",
    "    for char in s1:\n",
    "        pos = ord(char) - ord(\"a\")\n",
    "        c1[pos]+=1\n",
    "        \n",
    "    for char in s2:\n",
    "        pos = ord(char) - ord(\"a\")\n",
    "        c2[pos]+=1\n",
    "        \n",
    "    for a, b in zip(c1, c2):\n",
    "        if a != b:\n",
    "            return False\n",
    "    return True"
   ]
  },
  {
   "cell_type": "code",
   "execution_count": 50,
   "id": "cf62d3ee-93fb-4916-adee-d9b39e3ae056",
   "metadata": {},
   "outputs": [
    {
     "name": "stdout",
     "output_type": "stream",
     "text": [
      "True\n",
      "False\n"
     ]
    }
   ],
   "source": [
    "print(anagram_count_compare('apple', 'pleap'))\n",
    "print(anagram_count_compare('apple', 'applf'))"
   ]
  },
  {
   "cell_type": "code",
   "execution_count": 47,
   "id": "6796e267-db9f-4930-9bb0-050f405a3352",
   "metadata": {},
   "outputs": [],
   "source": [
    "def anagram_with_counter(s1, s2):\n",
    "    return Counter(s1) == Counter(s2)"
   ]
  },
  {
   "cell_type": "code",
   "execution_count": 49,
   "id": "fd61b32b-d6e5-4442-8292-a9b52c79b55d",
   "metadata": {},
   "outputs": [
    {
     "name": "stdout",
     "output_type": "stream",
     "text": [
      "True\n",
      "False\n"
     ]
    }
   ],
   "source": [
    "print(anagram_with_counter('apple', 'pleap'))\n",
    "print(anagram_with_counter('apple', 'applf'))"
   ]
  },
  {
   "cell_type": "markdown",
   "id": "532ff973-d769-4d47-be14-b3ff84dde245",
   "metadata": {},
   "source": [
    "###  Performance of Python Types "
   ]
  },
  {
   "cell_type": "markdown",
   "id": "db589f54-5cd9-4698-bdff-f3a4f1a8959c",
   "metadata": {},
   "source": [
    "concatenation is O(k)\n",
    "\n",
    "When pop is called from the end, the operation is O(1), while calling pop from anywhere else is O(n)\n",
    "\n",
    "Iteration is O(n)\n",
    "\n",
    "slice access is O(k)\n",
    "\n",
    "multiplying a list is O(nk), since multiplying a k-sized list n times will require k(n−1) appends.\n",
    "\n",
    "Reversing a list is O(n)\n",
    "\n",
    "sorting in Python is O(nlogn)\n",
    "\n",
    "“getting” and “setting” an item in a dictionary are both O(1)\n",
    "\n",
    "“contains” operation is also O(1)\n",
    "\n",
    "Iterating over a dictionary is O(n)\n"
   ]
  }
 ],
 "metadata": {
  "kernelspec": {
   "display_name": "Python 3",
   "language": "python",
   "name": "python3"
  },
  "language_info": {
   "codemirror_mode": {
    "name": "ipython",
    "version": 3
   },
   "file_extension": ".py",
   "mimetype": "text/x-python",
   "name": "python",
   "nbconvert_exporter": "python",
   "pygments_lexer": "ipython3",
   "version": "3.9.13"
  }
 },
 "nbformat": 4,
 "nbformat_minor": 5
}
