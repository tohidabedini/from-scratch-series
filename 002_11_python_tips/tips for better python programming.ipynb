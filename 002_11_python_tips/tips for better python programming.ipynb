{
 "cells": [
  {
   "cell_type": "markdown",
   "id": "48c739d6",
   "metadata": {},
   "source": [
    "https://www.youtube.com/watch?v=8OKTAedgFYg"
   ]
  },
  {
   "cell_type": "markdown",
   "id": "083bad70",
   "metadata": {},
   "source": [
    "# 1: enumerate vs. range(len)"
   ]
  },
  {
   "cell_type": "code",
   "execution_count": 1,
   "id": "d4f003d3",
   "metadata": {},
   "outputs": [
    {
     "name": "stdout",
     "output_type": "stream",
     "text": [
      "0 1\n",
      "1 2\n",
      "2 -4\n",
      "3 3\n",
      "0 1\n",
      "1 2\n",
      "2 -4\n",
      "3 3\n"
     ]
    }
   ],
   "source": [
    "data = [1, 2, -4, 3]\n",
    "for i in range(len(data)):\n",
    "    print(i, data[i])\n",
    "    \n",
    "for index, value in enumerate(data):\n",
    "    print(index, value)"
   ]
  },
  {
   "cell_type": "markdown",
   "id": "970440d6",
   "metadata": {},
   "source": [
    "# 2: list comprehension vs. for loops"
   ]
  },
  {
   "cell_type": "code",
   "execution_count": 2,
   "id": "ea10d596",
   "metadata": {},
   "outputs": [
    {
     "name": "stdout",
     "output_type": "stream",
     "text": [
      "[0, 1, 4, 9, 16, 25, 36, 49, 64, 81]\n",
      "[0, 1, 4, 9, 16, 25, 36, 49, 64, 81]\n"
     ]
    }
   ],
   "source": [
    "squares = []\n",
    "for i in range(10):\n",
    "    squares.append(i*i)\n",
    "    \n",
    "print(squares)\n",
    "\n",
    "squares = [i*i for i in range(10)]\n",
    "\n",
    "print(squares)"
   ]
  },
  {
   "cell_type": "markdown",
   "id": "163a722f",
   "metadata": {},
   "source": [
    "# 3: sorted()"
   ]
  },
  {
   "cell_type": "code",
   "execution_count": 3,
   "id": "1f873c87",
   "metadata": {},
   "outputs": [
    {
     "name": "stdout",
     "output_type": "stream",
     "text": [
      "[56, 23, 10, 5, 3, 1]\n"
     ]
    }
   ],
   "source": [
    "data = [3,5,1,56,10,23]\n",
    "sorted_data = sorted(data, reverse=True)\n",
    "\n",
    "print(sorted_data)"
   ]
  },
  {
   "cell_type": "code",
   "execution_count": 4,
   "id": "656508b8",
   "metadata": {},
   "outputs": [
    {
     "name": "stdout",
     "output_type": "stream",
     "text": [
      "[{'name': 'Max', 'age': 6}, {'name': 'Ben', 'age': 9}, {'name': 'Lisa', 'age': 20}]\n"
     ]
    }
   ],
   "source": [
    "data = [\n",
    "    {\"name\":\"Max\", \"age\":6},\n",
    "    {\"name\":\"Lisa\", \"age\":20},\n",
    "    {\"name\":\"Ben\", \"age\":9},\n",
    "       ]\n",
    "sorted_data = sorted(data, key=lambda x:x[\"age\"])\n",
    "\n",
    "print(sorted_data)"
   ]
  },
  {
   "cell_type": "markdown",
   "id": "11332fc0",
   "metadata": {},
   "source": [
    "# 4: store unique values with sets"
   ]
  },
  {
   "cell_type": "code",
   "execution_count": 6,
   "id": "ed989e2e",
   "metadata": {},
   "outputs": [
    {
     "name": "stdout",
     "output_type": "stream",
     "text": [
      "{1, 2, 3, 4, 5, 6, 7, 8}\n",
      "<class 'set'>\n"
     ]
    }
   ],
   "source": [
    "my_list = [1,2,3,4,4,5,5,5,6,7,8,8,8,8,7]\n",
    "my_set = set(my_list)\n",
    "print(my_set)\n",
    "\n",
    "\n",
    "primes = {2,3,5,7,11,13,17,19}\n",
    "print(type(primes))"
   ]
  },
  {
   "cell_type": "markdown",
   "id": "bafb24ee",
   "metadata": {},
   "source": [
    "# 5: save memory with generators"
   ]
  },
  {
   "cell_type": "code",
   "execution_count": 19,
   "id": "5e2dacbf",
   "metadata": {},
   "outputs": [
    {
     "name": "stdout",
     "output_type": "stream",
     "text": [
      "4999999950000000\n",
      "Wall time: 6.77 s\n",
      "859724472 bytes\n"
     ]
    }
   ],
   "source": [
    "import sys\n",
    "\n",
    "my_list = [i for i in range(100000000)]\n",
    "%time print(sum(my_list))\n",
    "print(sys.getsizeof(my_list), \"bytes\")"
   ]
  },
  {
   "cell_type": "code",
   "execution_count": 20,
   "id": "6c7ee66e",
   "metadata": {},
   "outputs": [
    {
     "name": "stdout",
     "output_type": "stream",
     "text": [
      "4999999950000000\n",
      "Wall time: 13.8 s\n",
      "120 bytes\n"
     ]
    }
   ],
   "source": [
    "my_gen = (i for i in range(100000000))\n",
    "%time print(sum(my_gen))\n",
    "print(sys.getsizeof(my_gen), \"bytes\")"
   ]
  },
  {
   "cell_type": "markdown",
   "id": "f42416d2",
   "metadata": {},
   "source": [
    "# 6: define default values in dictionaries with .get() and setdefault()"
   ]
  },
  {
   "cell_type": "code",
   "execution_count": 30,
   "id": "d7315669",
   "metadata": {},
   "outputs": [
    {
     "name": "stdout",
     "output_type": "stream",
     "text": [
      "None\n",
      "0\n"
     ]
    }
   ],
   "source": [
    "my_dict = {\"item\":\"football\", \"price\":10.0}\n",
    "count = my_dict.get(\"count\")\n",
    "# count = my_dict[\"count\"]\n",
    "print(count)\n",
    "\n",
    "my_dict.setdefault(\"count\", 0)\n",
    "count = my_dict.get(\"count\")\n",
    "print(count)"
   ]
  },
  {
   "cell_type": "markdown",
   "id": "b6ba1745",
   "metadata": {},
   "source": [
    "# 7: count hashable objects with collections.Counter"
   ]
  },
  {
   "cell_type": "code",
   "execution_count": 40,
   "id": "6882abae",
   "metadata": {},
   "outputs": [
    {
     "name": "stdout",
     "output_type": "stream",
     "text": [
      "Counter({5: 7, 10: 3, 3: 1, 4: 1, 55: 1})\n",
      "0\n",
      "5\n",
      "[(5, 7), (10, 3)]\n",
      "[(5, 7)]\n"
     ]
    }
   ],
   "source": [
    "from collections import Counter\n",
    "my_list = [10,10,10,5,5,5,5,5,3,4,5,5,55]\n",
    "counter = Counter(my_list)\n",
    "print(counter)\n",
    "print(counter[0])\n",
    "most_common = counter.most_common(2)\n",
    "print(most_common[0][0])\n",
    "print(most_common)\n",
    "print(counter.most_common(1))"
   ]
  },
  {
   "cell_type": "markdown",
   "id": "e62165e9",
   "metadata": {},
   "source": [
    "# 8: format strings with f\"-------\""
   ]
  },
  {
   "cell_type": "code",
   "execution_count": 42,
   "id": "025a1f09",
   "metadata": {},
   "outputs": [
    {
     "name": "stdout",
     "output_type": "stream",
     "text": [
      "Hello Alex\n",
      "10 squared is 100\n"
     ]
    }
   ],
   "source": [
    "name = \"Alex\"\n",
    "my_string = f\"Hello {name}\"\n",
    "print(my_string)\n",
    "i = 10\n",
    "print(f\"{i} squared is {i*i}\")"
   ]
  },
  {
   "cell_type": "markdown",
   "id": "3347c83c",
   "metadata": {},
   "source": [
    "# 9: concatenate strings with .join() "
   ]
  },
  {
   "cell_type": "code",
   "execution_count": 46,
   "id": "74acacc3",
   "metadata": {},
   "outputs": [
    {
     "name": "stdout",
     "output_type": "stream",
     "text": [
      "Hello my friend\n"
     ]
    }
   ],
   "source": [
    "list_of_string = [\"Hello\", \"my\", \"friend\"]\n",
    "print(\" \".join(list_of_string))\n",
    "# instead of using a for loop"
   ]
  },
  {
   "cell_type": "markdown",
   "id": "fd16c12c",
   "metadata": {},
   "source": [
    "# 10: merge dictionaries with {\\*\\*d1, \\*\\*d2}"
   ]
  },
  {
   "cell_type": "code",
   "execution_count": 48,
   "id": "cff4ce75",
   "metadata": {},
   "outputs": [
    {
     "name": "stdout",
     "output_type": "stream",
     "text": [
      "{'name': 'Alex', 'age': 25, 'city': 'New York'}\n"
     ]
    }
   ],
   "source": [
    "d1 = {\"name\":\"Alex\", \"age\":25}\n",
    "d2 = {\"name\":\"Alex\", \"city\":\"New York\"}\n",
    "merged_dict = {**d1, **d2}\n",
    "print(merged_dict)"
   ]
  },
  {
   "cell_type": "markdown",
   "id": "bb3d66ec",
   "metadata": {},
   "source": [
    "# 11: simplify if statements with if x in [a, b, c]"
   ]
  },
  {
   "cell_type": "code",
   "execution_count": 50,
   "id": "0655c1c0",
   "metadata": {},
   "outputs": [
    {
     "name": "stdout",
     "output_type": "stream",
     "text": [
      "Yes\n"
     ]
    }
   ],
   "source": [
    "colors = [\"red\", \"green\", \"blue\"]\n",
    "c = \"red\"\n",
    "if c in colors:\n",
    "#     instead of using and\n",
    "    print(\"Yes\")"
   ]
  }
 ],
 "metadata": {
  "kernelspec": {
   "display_name": "Python 3",
   "language": "python",
   "name": "python3"
  },
  "language_info": {
   "codemirror_mode": {
    "name": "ipython",
    "version": 3
   },
   "file_extension": ".py",
   "mimetype": "text/x-python",
   "name": "python",
   "nbconvert_exporter": "python",
   "pygments_lexer": "ipython3",
   "version": "3.7.10"
  }
 },
 "nbformat": 4,
 "nbformat_minor": 5
}
