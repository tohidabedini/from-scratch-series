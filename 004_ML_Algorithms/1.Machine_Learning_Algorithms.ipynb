{
 "cells": [
  {
   "cell_type": "markdown",
   "id": "4b73715d-3f93-400d-89b1-10468fce669f",
   "metadata": {},
   "source": [
    "https://www.geeksforgeeks.org/machine-learning/?ref=shm\n",
    "\n",
    "https://machinelearningmastery.com/a-tour-of-machine-learning-algorithms/\n",
    "\n",
    "NNs, Deep left\n",
    "\n",
    "compare with sklearn implementation\n",
    "\n",
    "both regression and classification"
   ]
  },
  {
   "cell_type": "markdown",
   "id": "db411438-e4c5-485a-8a86-9496202d8b44",
   "metadata": {},
   "source": [
    "wine: https://archive.ics.uci.edu/ml/datasets/Wine\n",
    "\n",
    "car: https://archive.ics.uci.edu/ml/datasets/Car+Evaluation\n",
    "\n",
    "air quality: https://archive.ics.uci.edu/ml/datasets/Air+Quality"
   ]
  },
  {
   "cell_type": "markdown",
   "id": "df58d79f-9c80-4d20-ba24-bc675bf6611a",
   "metadata": {},
   "source": [
    "# Load Data"
   ]
  },
  {
   "cell_type": "code",
   "execution_count": 4,
   "id": "c31f45d2-1dd4-4c7d-bdd8-cc96326998b0",
   "metadata": {},
   "outputs": [],
   "source": [
    "import pandas as pd"
   ]
  },
  {
   "cell_type": "code",
   "execution_count": 5,
   "id": "d9ae68b5-1e2f-414e-ba90-008363e25819",
   "metadata": {},
   "outputs": [],
   "source": [
    "wine = pd.read_csv('./data/wine.data', header=None)\n",
    "car = pd.read_csv('./data/car.data', header=None)\n",
    "air = pd.read_excel('./data/AirQualityUCI.xlsx')"
   ]
  },
  {
   "cell_type": "code",
   "execution_count": 79,
   "id": "06a49fb5-c8c9-49a4-8b96-e1ab6ab16624",
   "metadata": {},
   "outputs": [],
   "source": [
    "# car\n",
    "# wine.iloc[:,0]"
   ]
  },
  {
   "cell_type": "code",
   "execution_count": 80,
   "id": "a8df1758-be55-4b87-ac5b-632cf6ec4a55",
   "metadata": {},
   "outputs": [],
   "source": [
    "# air"
   ]
  },
  {
   "cell_type": "markdown",
   "id": "7f13a373-7c8d-4640-b9d4-66fd715f389b",
   "metadata": {},
   "source": [
    "## 1.Linear Regression"
   ]
  },
  {
   "cell_type": "markdown",
   "id": "f70e1b73-ca4e-4aa9-bca1-36c34b51590a",
   "metadata": {},
   "source": [
    "https://www.askpython.com/python/examples/linear-regression-from-scratch\n",
    "\n",
    "https://faun.pub/implementing-multiple-linear-regression-from-scratch-in-python-f5d84d4935bb\n",
    "\n",
    "https://mlfromscratch.com/linear-regression-from-scratch/#/"
   ]
  },
  {
   "cell_type": "markdown",
   "id": "c0c8cf5d-867f-4bbb-9d2d-a1dcd93f944a",
   "metadata": {},
   "source": [
    "### sklearn"
   ]
  },
  {
   "cell_type": "code",
   "execution_count": 35,
   "id": "bb8043e5-8410-487e-8ad2-26472f871ad3",
   "metadata": {},
   "outputs": [],
   "source": [
    "from sklearn.linear_model import LinearRegression\n",
    "from sklearn.model_selection import train_test_split\n",
    "from sklearn import metrics\n",
    "import numpy as np"
   ]
  },
  {
   "cell_type": "code",
   "execution_count": 58,
   "id": "589552d8-9d68-4720-8a4d-1a018aaa4b7a",
   "metadata": {},
   "outputs": [],
   "source": [
    "x_air = air.iloc[:,2:-1].values\n",
    "y_air = air.iloc[:,-1].values\n",
    "\n",
    "X_train, X_test, y_train, y_test = train_test_split(x_air, y_air, test_size=0.33)"
   ]
  },
  {
   "cell_type": "code",
   "execution_count": 59,
   "id": "4c65029e-7c82-4d9b-bcfd-be6467df17aa",
   "metadata": {},
   "outputs": [],
   "source": [
    "lr = LinearRegression().fit(X_train, y_train)"
   ]
  },
  {
   "cell_type": "code",
   "execution_count": 66,
   "id": "534332bb-58bd-40e8-a5f9-dc6de46391ff",
   "metadata": {},
   "outputs": [],
   "source": [
    "def reg_metrics_calculator(model, X_test, y_test):\n",
    "    yhat = model.predict(X_test)\n",
    "    mse = metrics.mean_squared_error(y_test, yhat)\n",
    "    rmse = np.sqrt(mse)\n",
    "    mae = metrics.mean_absolute_error(y_test, yhat)\n",
    "    medianae = metrics.median_absolute_error(y_test, yhat)\n",
    "    r2_score = metrics.r2_score(y_test, yhat)\n",
    "    mape = metrics.mean_absolute_percentage_error(y_test, yhat)\n",
    "    return mse, rmse, mae, medianae, r2_score, mape"
   ]
  },
  {
   "cell_type": "code",
   "execution_count": 67,
   "id": "60fa6e73-0bb4-4a12-a376-e04fb6e057fe",
   "metadata": {},
   "outputs": [
    {
     "data": {
      "text/plain": [
       "(0.9794381562224086,\n",
       " 0.9896656790161052,\n",
       " 0.7452248119041764,\n",
       " 0.6023336903562617,\n",
       " 0.9993990877056331,\n",
       " 0.8750600771002176)"
      ]
     },
     "execution_count": 67,
     "metadata": {},
     "output_type": "execute_result"
    }
   ],
   "source": [
    "reg_metrics_calculator(lr, X_test, y_test)"
   ]
  },
  {
   "cell_type": "markdown",
   "id": "495b116a-d76a-4c93-9832-4a4989e76bd3",
   "metadata": {},
   "source": [
    "### from scratch"
   ]
  },
  {
   "cell_type": "code",
   "execution_count": null,
   "id": "9654e8c7-d0c2-4b98-b830-ab709b68cdfa",
   "metadata": {},
   "outputs": [],
   "source": []
  },
  {
   "cell_type": "code",
   "execution_count": null,
   "id": "8b91376b-dc51-4705-b740-8a4d266a5edd",
   "metadata": {},
   "outputs": [],
   "source": []
  },
  {
   "cell_type": "code",
   "execution_count": null,
   "id": "a42df56d-46b3-4b11-865e-f692a358ab0d",
   "metadata": {},
   "outputs": [],
   "source": []
  },
  {
   "cell_type": "markdown",
   "id": "ecd708b1-fbb9-4684-b894-af8209997b72",
   "metadata": {},
   "source": [
    "## 2.Logistic Regression"
   ]
  },
  {
   "cell_type": "markdown",
   "id": "5df54fef-e8f4-4ca7-b7db-a72fc3d4ac8e",
   "metadata": {},
   "source": [
    "https://www.askpython.com/python/examples/logistic-regression-from-scratch\n",
    "\n",
    "https://www.javatpoint.com/logistic-regression-in-machine-learning\n",
    "\n",
    "multi: https://www.alpha-quantum.com/blog/logistic-regression/logistic-regression-from-scratch/\n",
    "\n",
    "https://www.youtube.com/watch?v=yIYKR4sgzI8"
   ]
  },
  {
   "cell_type": "code",
   "execution_count": null,
   "id": "c3b5ea39-83f0-45e8-96fd-520282c2f96b",
   "metadata": {},
   "outputs": [],
   "source": []
  },
  {
   "cell_type": "markdown",
   "id": "4743ea77-ea18-4388-8ee7-497fd7effd02",
   "metadata": {},
   "source": [
    "## 3.KNN"
   ]
  },
  {
   "cell_type": "markdown",
   "id": "ca394789-d26f-4f4b-a771-3f5ac61330be",
   "metadata": {},
   "source": [
    "https://www.analyticsvidhya.com/blog/2018/08/k-nearest-neighbor-introduction-regression-python/\n",
    "\n",
    "https://www.askpython.com/python/examples/k-nearest-neighbors-from-scratch\n",
    "\n",
    "https://machinelearningmastery.com/tutorial-to-implement-k-nearest-neighbors-in-python-from-scratch/\n",
    "\n",
    "https://mlfromscratch.com/measures-of-distance-similarity-and-dissimilarity/\n",
    "\n",
    "https://www.youtube.com/watch?v=HVXime0nQeI"
   ]
  },
  {
   "cell_type": "code",
   "execution_count": null,
   "id": "f160531e-00ba-4a2f-a1ff-ac1d53a2d9a8",
   "metadata": {},
   "outputs": [],
   "source": []
  },
  {
   "cell_type": "markdown",
   "id": "8f54539d-8d82-4e3e-9b06-e327fe6a48a1",
   "metadata": {},
   "source": [
    "## 4.SVM"
   ]
  },
  {
   "cell_type": "markdown",
   "id": "fd52a37e-767b-4ec7-bb01-1ede32e2c469",
   "metadata": {},
   "source": [
    "https://github.com/adityajn105/SVM-From-Scratch\n",
    "\n",
    "https://towardsdatascience.com/svm-implementation-from-scratch-python-2db2fc52e5c2\n",
    "\n",
    "https://machinelearningmastery.com/method-of-lagrange-multipliers-the-theory-behind-support-vector-machines-part-3-implementing-an-svm-from-scratch-in-python/\n",
    "\n",
    "https://www.kdnuggets.com/2020/03/machine-learning-algorithm-svm-explained.html\n",
    "\n",
    "https://www.analytixlabs.co.in/blog/introduction-support-vector-machine-algorithm/\n",
    "\n",
    "https://www.youtube.com/watch?v=efR1C6CvhmE\n",
    "\n",
    "https://www.youtube.com/watch?v=Toet3EiSFcM\n",
    "\n",
    "https://www.youtube.com/watch?v=Qc5IyLW_hns"
   ]
  },
  {
   "cell_type": "code",
   "execution_count": null,
   "id": "903566ff-c65f-4b92-841f-b7748c181d18",
   "metadata": {},
   "outputs": [],
   "source": []
  },
  {
   "cell_type": "markdown",
   "id": "20ee7b27-748d-49ac-be1b-0ccf4a812bad",
   "metadata": {},
   "source": [
    "## 5.SOM\n",
    "NN hws"
   ]
  },
  {
   "cell_type": "code",
   "execution_count": null,
   "id": "44a4fb6e-2e5e-4ecb-b4df-745f27cf3f2e",
   "metadata": {},
   "outputs": [],
   "source": []
  },
  {
   "cell_type": "markdown",
   "id": "2403340b-6793-43a6-8f69-a4c3af5a25f2",
   "metadata": {},
   "source": [
    "## 6.LVQ\n",
    "NN hws"
   ]
  },
  {
   "cell_type": "code",
   "execution_count": null,
   "id": "14d4b285-27d1-428d-98aa-e263c3972455",
   "metadata": {},
   "outputs": [],
   "source": []
  },
  {
   "cell_type": "markdown",
   "id": "5cd48ca2-7f10-48db-b27f-9990dadbf25c",
   "metadata": {},
   "source": [
    "## 7.Regularization"
   ]
  },
  {
   "cell_type": "markdown",
   "id": "75342483-6495-4225-adca-faeac66ec3be",
   "metadata": {},
   "source": [
    "https://www.einfochips.com/blog/regularization-make-your-machine-learning-algorithms-learn-not-memorize/\n",
    "\n",
    "https://harish-reddy.medium.com/regularization-in-python-699cfbad8622\n",
    "\n",
    "https://www.geeksforgeeks.org/implementation-of-lasso-regression-from-scratch-using-python/\n",
    "\n",
    "https://www.simplilearn.com/tutorials/machine-learning-tutorial/regularization-in-machine-learning\n",
    "\n",
    "https://medium.com/analytics-vidhya/understanding-regularization-algorithms-450777fa0ed3\n",
    "\n",
    "https://www.youtube.com/watch?v=Q81RR3yKn30\n",
    "\n",
    "https://www.youtube.com/watch?v=NGf0voTMlcs\n",
    "\n",
    "https://www.youtube.com/watch?v=1dKRdX9bfIo\n",
    "\n",
    "https://www.youtube.com/watch?v=Xm2C_gTAl8c"
   ]
  },
  {
   "cell_type": "code",
   "execution_count": null,
   "id": "acc76d9a-e727-4979-85dd-62923536a75e",
   "metadata": {},
   "outputs": [],
   "source": []
  },
  {
   "cell_type": "markdown",
   "id": "53a905da-aa28-42dd-83ca-d68d238f2094",
   "metadata": {},
   "source": [
    "## 8.Decision Tree"
   ]
  },
  {
   "cell_type": "markdown",
   "id": "60d7ce8d-b25a-40b9-98c8-7da923a432db",
   "metadata": {},
   "source": [
    "https://anderfernandez.com/en/blog/code-decision-tree-python-from-scratch/\n",
    "\n",
    "https://www.analyticsvidhya.com/blog/2020/10/all-about-decision-tree-from-scratch-with-python-implementation/\n",
    "\n",
    "https://insidelearningmachines.com/build-a-decision-tree-in-python/\n",
    "\n",
    "https://mlfromscratch.com/decision-tree-classification/\n",
    "\n",
    "https://www.youtube.com/watch?v=_L39rN6gz7Y\n",
    "\n",
    "https://www.youtube.com/watch?v=g9c66TUylZ4"
   ]
  },
  {
   "cell_type": "code",
   "execution_count": null,
   "id": "f8bb6a8d-c8a2-4761-bbae-a02015b74152",
   "metadata": {},
   "outputs": [],
   "source": []
  },
  {
   "cell_type": "markdown",
   "id": "872dad25-1c2d-4eb9-bd7c-4f6055704ec8",
   "metadata": {},
   "source": [
    "## 9.Naive Bayes"
   ]
  },
  {
   "cell_type": "markdown",
   "id": "138029ee-eab4-4eac-b177-2d01321a5a65",
   "metadata": {},
   "source": [
    "https://philippmuens.com/naive-bayes-from-scratch\n",
    "\n",
    "https://blog.devgenius.io/implementing-na%C3%AFve-bayes-classification-from-scratch-with-python-badd5a9be9c3\n",
    "\n",
    "https://medium.com/@johnm.kovachi/implementing-a-multinomial-naive-bayes-classifier-from-scratch-with-python-e70de6a3b92e\n",
    "\n",
    "https://evidencen.com/gnbclassification/"
   ]
  },
  {
   "cell_type": "markdown",
   "id": "25db5600-4d1e-489f-877b-2e8dfb1c0b22",
   "metadata": {},
   "source": [
    "## 10. ROC and AUC"
   ]
  },
  {
   "cell_type": "markdown",
   "id": "b7ee4669-e461-4dde-9428-301fc833e8de",
   "metadata": {},
   "source": [
    "https://www.youtube.com/watch?v=4jRBRDbJemM"
   ]
  },
  {
   "cell_type": "code",
   "execution_count": null,
   "id": "53865031-d0bc-4206-94ba-69b84f495c3c",
   "metadata": {},
   "outputs": [],
   "source": []
  },
  {
   "cell_type": "markdown",
   "id": "ff14da8c-cb74-49ec-98af-d2f9b1cc0818",
   "metadata": {},
   "source": [
    "## 11.K-means K-medians"
   ]
  },
  {
   "cell_type": "markdown",
   "id": "f260ca2e-b14f-4d3f-9089-55ffd9af2d10",
   "metadata": {},
   "source": [
    "https://www.youtube.com/watch?v=4b5d3muPQmA\n",
    "\n",
    "https://www.askpython.com/python/examples/k-means-clustering-from-scratch\n",
    "\n",
    "https://towardsdatascience.com/create-your-own-k-means-clustering-algorithm-in-python-d7d4c9077670\n",
    "\n",
    "https://medium.com/@pasdan/k-clustering-means-medians-via-python-2a5f251582ee"
   ]
  },
  {
   "cell_type": "code",
   "execution_count": null,
   "id": "e8846471-8384-43ea-a8c3-1e52db74fd6d",
   "metadata": {},
   "outputs": [],
   "source": []
  },
  {
   "cell_type": "markdown",
   "id": "01eb43e9-1ac4-4348-acd8-f2fa96d5522e",
   "metadata": {},
   "source": [
    "## 12.Hierarchical Clustering"
   ]
  },
  {
   "cell_type": "markdown",
   "id": "87e5d78e-6263-4032-88f0-fa078b1317fd",
   "metadata": {},
   "source": [
    "https://www.youtube.com/watch?v=7xHsRkOdVwo\n",
    "\n",
    "https://www.mltut.com/hierarchical-clustering-in-python-step-by-step-complete-guide/"
   ]
  },
  {
   "cell_type": "code",
   "execution_count": null,
   "id": "2f9ead35-73ea-4388-a9c4-fc77812e780f",
   "metadata": {},
   "outputs": [],
   "source": []
  },
  {
   "cell_type": "markdown",
   "id": "f1463c00-c52c-4954-a840-712f5d625bc5",
   "metadata": {},
   "source": [
    "## 13.PCA, SVD, LDA"
   ]
  },
  {
   "cell_type": "markdown",
   "id": "00ed6f5a-2628-4aad-8481-1d01f027f701",
   "metadata": {},
   "source": [
    "https://mlfromscratch.com/principal-component-analysis-pca-svd/#/\n",
    "\n",
    "https://www.youtube.com/watch?v=FgakZw6K1QQ\n",
    "\n",
    "https://www.askpython.com/python/examples/principal-component-analysis\n",
    "\n",
    "https://machinelearningmastery.com/calculate-principal-component-analysis-scratch-python/\n",
    "\n",
    "--------------\n",
    "\n",
    "https://drscotthawley.github.io/blog/2019/12/21/PCA-From-Scratch.html\n",
    "\n",
    "https://www.youtube.com/watch?v=azXCzI57Yfc\n",
    "\n",
    "--------------\n",
    "\n",
    "https://www.depends-on-the-definition.com/lda-from-scratch/\n",
    "\n",
    "https://towardsdatascience.com/latent-dirichlet-allocation-lda-9d1cd064ffa2\n",
    "\n",
    "https://ai.plainenglish.io/fischers-linear-discriminant-analysis-in-python-from-scratch-bbe480497504"
   ]
  },
  {
   "cell_type": "code",
   "execution_count": null,
   "id": "4f5121f1-ada9-47fd-b184-068b029235ce",
   "metadata": {},
   "outputs": [],
   "source": []
  },
  {
   "cell_type": "markdown",
   "id": "122fa6aa-8e06-41cc-a23f-f338549b928d",
   "metadata": {},
   "source": [
    "## 14.Random Forest"
   ]
  },
  {
   "cell_type": "markdown",
   "id": "dee8ad87-51c4-44fb-baf2-0cd97a81b37e",
   "metadata": {},
   "source": [
    "https://mlfromscratch.com/random-forest/#/\n",
    "\n",
    "https://www.youtube.com/watch?v=J4Wdy0Wc_xQ\n",
    "\n",
    "https://www.youtube.com/watch?v=sQ870aTKqiM\n",
    "\n",
    "https://carbonati.github.io/posts/random-forests-from-scratch/\n",
    "\n",
    "https://insidelearningmachines.com/build-a-random-forest-in-python/\n",
    "\n",
    "https://www.askpython.com/python/examples/random-forest-regression\n",
    "\n",
    "https://www.analyticsvidhya.com/blog/2018/12/building-a-random-forest-from-scratch-understanding-real-world-data-products-ml-for-programmers-part-3/"
   ]
  },
  {
   "cell_type": "code",
   "execution_count": null,
   "id": "9b585053-5c72-4eac-9d78-c4afb1ae6090",
   "metadata": {},
   "outputs": [],
   "source": []
  },
  {
   "cell_type": "markdown",
   "id": "38c141d0-961e-427a-a27e-ff866eeee249",
   "metadata": {},
   "source": [
    "## 15.Boosting"
   ]
  },
  {
   "cell_type": "markdown",
   "id": "124daaab-8d99-4511-9933-b02009711fb0",
   "metadata": {},
   "source": [
    "https://medium.com/greyatom/a-quick-guide-to-boosting-in-ml-acf7c1585cb5\n",
    "\n",
    "https://www.analyticsvidhya.com/blog/2015/11/quick-introduction-boosting-algorithms-machine-learning/\n",
    "\n",
    "https://www.ibm.com/cloud/learn/boosting\n",
    "\n",
    "https://howtolearnmachinelearning.com/articles/boosting-in-machine-learning/\n",
    "\n"
   ]
  },
  {
   "cell_type": "markdown",
   "id": "cdb2b8fb-b1ff-4505-b5d8-f603bcee2ba7",
   "metadata": {},
   "source": [
    "## 16.Bagging"
   ]
  },
  {
   "cell_type": "markdown",
   "id": "bab40c7e-3f37-4a82-9a4f-65ce2781b6e6",
   "metadata": {},
   "source": [
    "https://www.simplilearn.com/tutorials/machine-learning-tutorial/bagging-in-machine-learning\n",
    "\n",
    "https://insidelearningmachines.com/build-a-bagging-classifier-in-python/\n",
    "\n",
    "https://www.section.io/engineering-education/implementing-bagging-algorithms-in-python/\n",
    "\n",
    "https://www.mygreatlearning.com/blog/bagging-boosting/"
   ]
  },
  {
   "cell_type": "code",
   "execution_count": null,
   "id": "e1ea4212-9b33-4af0-9e87-7254c783bd5c",
   "metadata": {},
   "outputs": [],
   "source": []
  },
  {
   "cell_type": "markdown",
   "id": "2164f1d0-0fff-4745-b80a-129a02829dfe",
   "metadata": {},
   "source": [
    "## 17.Voting"
   ]
  },
  {
   "cell_type": "markdown",
   "id": "6e97c728-82a1-477c-af9c-152420d649d0",
   "metadata": {},
   "source": [
    "https://machinelearningmastery.com/voting-ensembles-with-python/\n",
    "\n",
    "http://rasbt.github.io/mlxtend/user_guide/classifier/EnsembleVoteClassifier/\n",
    "\n",
    "https://www.kaggle.com/code/saurabhshahane/voting-classifier"
   ]
  },
  {
   "cell_type": "markdown",
   "id": "4f7b35ca-2d82-45f7-96ae-8382e02441c2",
   "metadata": {},
   "source": [
    "## 18.Stacking"
   ]
  },
  {
   "cell_type": "markdown",
   "id": "f3a227df-3e59-4dc9-904d-0dc9ba86dea4",
   "metadata": {},
   "source": [
    "https://mlfromscratch.com/model-stacking-explained/#/\n",
    "\n",
    "https://machinelearningmastery.com/implementing-stacking-scratch-python/\n",
    "\n",
    "https://towardsai.net/p/l/machine-learning-model-stacking-in-python"
   ]
  },
  {
   "cell_type": "code",
   "execution_count": null,
   "id": "ad001604-e659-478b-98a2-b6c1a178e010",
   "metadata": {},
   "outputs": [],
   "source": []
  },
  {
   "cell_type": "markdown",
   "id": "e7741131-0f1d-48be-aace-f360965a3c13",
   "metadata": {},
   "source": [
    "## 19.AdaBoost"
   ]
  },
  {
   "cell_type": "markdown",
   "id": "10694e08-28d7-45ef-aebb-b2a69d1377b0",
   "metadata": {},
   "source": [
    "https://www.youtube.com/watch?v=LsK-xG1cLYA\n",
    "\n",
    "https://www.youtube.com/watch?v=Xz0x-8-cgaQ\n",
    "\n",
    "https://www.youtube.com/watch?v=SEwxvjfxxmE\n",
    "\n",
    "https://towardsdatascience.com/adaboost-from-scratch-37a936da3d50\n",
    "\n",
    "https://www.mygreatlearning.com/blog/adaboost-algorithm/\n",
    "\n",
    "https://www.analyticsvidhya.com/blog/2021/09/adaboost-algorithm-a-complete-guide-for-beginners/"
   ]
  },
  {
   "cell_type": "code",
   "execution_count": null,
   "id": "2851757b-4062-45e2-bc57-af8a33f6afc2",
   "metadata": {},
   "outputs": [],
   "source": []
  },
  {
   "cell_type": "markdown",
   "id": "2a9a67bb-3aad-47b4-ab5c-34293f50e2d6",
   "metadata": {},
   "source": [
    "## 20.Gradient Boosting"
   ]
  },
  {
   "cell_type": "markdown",
   "id": "ceb54aa5-d15f-4002-9aa8-786b9249b06f",
   "metadata": {},
   "source": [
    "https://www.youtube.com/watch?v=3CC4N4z3GJc\n",
    "\n",
    "https://www.youtube.com/watch?v=2xudPOBz-vs\n",
    "\n",
    "https://www.youtube.com/watch?v=jxuNLH5dXCs\n",
    "\n",
    "https://www.youtube.com/watch?v=StWY5QWMXCw\n",
    "\n",
    "https://www.analyticsvidhya.com/blog/2021/04/how-the-gradient-boosting-algorithm-works/\n",
    "\n",
    "https://www.wallstreetmojo.com/gradient-boosting/\n",
    "\n",
    "https://machinelearningmastery.com/gentle-introduction-gradient-boosting-algorithm-machine-learning/"
   ]
  },
  {
   "cell_type": "code",
   "execution_count": null,
   "id": "2855fef5-6fe1-466a-95f1-e396345918f7",
   "metadata": {},
   "outputs": [],
   "source": []
  },
  {
   "cell_type": "markdown",
   "id": "2672311b-2c78-4516-89a6-8d345543c630",
   "metadata": {},
   "source": [
    "## 21.XGBoost"
   ]
  },
  {
   "cell_type": "markdown",
   "id": "5a3ab474-1a46-49a1-98c4-1ebfa7641335",
   "metadata": {},
   "source": [
    "https://www.youtube.com/watch?v=OtD8wVaFm6E\n",
    "\n",
    "https://www.youtube.com/watch?v=8b1JEDvenQU\n",
    "\n",
    "https://www.youtube.com/watch?v=ZVFeW798-2I\n",
    "\n",
    "https://www.youtube.com/watch?v=oRrKeUCEbq8\n",
    "\n",
    "https://www.mygreatlearning.com/blog/xgboost-algorithm/\n",
    "\n",
    "https://www.geeksforgeeks.org/xgboost/\n",
    "\n",
    "https://blog.jovian.ai/machine-learning-with-python-implementing-xgboost-and-random-forest-fd51fa4f9f4c\n",
    "\n",
    "https://www.analytixtime.com/post/xgboostregression-from-scratch-in-excel/"
   ]
  },
  {
   "cell_type": "code",
   "execution_count": null,
   "id": "a0610a4b-ef60-4027-a856-3a0b08bedaf2",
   "metadata": {},
   "outputs": [],
   "source": []
  },
  {
   "cell_type": "markdown",
   "id": "5a37a40f-746c-4ae1-ae4f-c51d93636a45",
   "metadata": {},
   "source": [
    "## 22.Optimizers"
   ]
  },
  {
   "cell_type": "markdown",
   "id": "b399f2ba-d3ff-46a3-adbb-5a544d273a8c",
   "metadata": {},
   "source": [
    "https://mlfromscratch.com/optimizers-explained/#/"
   ]
  },
  {
   "cell_type": "code",
   "execution_count": null,
   "id": "49884e90-6c51-4e3e-8b13-56f1be64a605",
   "metadata": {},
   "outputs": [],
   "source": []
  },
  {
   "cell_type": "markdown",
   "id": "1054900c-e689-416b-a308-5496c0281ad6",
   "metadata": {},
   "source": [
    "## 23.Activation Functions"
   ]
  },
  {
   "cell_type": "markdown",
   "id": "bcc8ed51-32b9-4117-8608-752237c8dda8",
   "metadata": {},
   "source": [
    "https://mlfromscratch.com/activation-functions-explained/#/\n",
    "\n",
    "https://mlfromscratch.com/neural-networks-explained/#/"
   ]
  },
  {
   "cell_type": "code",
   "execution_count": null,
   "id": "0ed60fba-1f05-4d8b-a367-86a7f6743498",
   "metadata": {},
   "outputs": [],
   "source": []
  },
  {
   "cell_type": "markdown",
   "id": "c727c174-defc-44ee-bd0f-7bdfe5408c1a",
   "metadata": {},
   "source": [
    "## 24.MLE"
   ]
  },
  {
   "cell_type": "markdown",
   "id": "7533aa3a-76ac-4551-99b0-fc76a79deb7c",
   "metadata": {},
   "source": [
    "https://mlfromscratch.com/probability-distributions-and-densities/#/"
   ]
  },
  {
   "cell_type": "code",
   "execution_count": null,
   "id": "05de74be-2ed5-42b5-a229-458943f67bc3",
   "metadata": {},
   "outputs": [],
   "source": []
  },
  {
   "cell_type": "markdown",
   "id": "1b9bda19-02cf-4575-967e-bffbdb202dcb",
   "metadata": {},
   "source": [
    "## 25. CV - GridSearch - Metrics"
   ]
  },
  {
   "cell_type": "markdown",
   "id": "3610449c-fa42-4e72-a6aa-8f6c261def98",
   "metadata": {},
   "source": [
    "https://scikit-learn.org/stable/modules/generated/sklearn.model_selection.GridSearchCV.html\n",
    "\n",
    "https://scikit-learn.org/stable/modules/model_evaluation.html\n",
    "\n",
    "https://scikit-learn.org/stable/modules/cross_validation.html"
   ]
  },
  {
   "cell_type": "code",
   "execution_count": null,
   "id": "0cb0e07d-863b-4f2e-8ccc-627e73c72b36",
   "metadata": {},
   "outputs": [],
   "source": []
  },
  {
   "cell_type": "markdown",
   "id": "a016a28a-6528-476c-96b1-675a90a66be9",
   "metadata": {},
   "source": [
    "## 26. Feature Engineering"
   ]
  },
  {
   "cell_type": "markdown",
   "id": "33d883f3-ff93-41d2-9ae6-13a328873395",
   "metadata": {},
   "source": [
    "https://www.analyticsvidhya.com/blog/2021/03/step-by-step-process-of-feature-engineering-for-machine-learning-algorithms-in-data-science/\n",
    "\n",
    "https://www.projectpro.io/article/8-feature-engineering-techniques-for-machine-learning/423\n",
    "\n",
    "https://www.analyticsvidhya.com/blog/2020/10/feature-selection-techniques-in-machine-learning/\n",
    "\n",
    "https://machinelearningmastery.com/feature-selection-with-real-and-categorical-data/\n",
    "\n",
    "https://scikit-learn.org/stable/modules/feature_selection.html\n",
    "\n",
    "https://www.kdnuggets.com/2021/06/feature-selection-overview.html"
   ]
  },
  {
   "cell_type": "code",
   "execution_count": null,
   "id": "0d044453-34ef-4f12-861b-1c19b50d848e",
   "metadata": {},
   "outputs": [],
   "source": []
  }
 ],
 "metadata": {
  "kernelspec": {
   "display_name": "Python 3",
   "language": "python",
   "name": "python3"
  },
  "language_info": {
   "codemirror_mode": {
    "name": "ipython",
    "version": 3
   },
   "file_extension": ".py",
   "mimetype": "text/x-python",
   "name": "python",
   "nbconvert_exporter": "python",
   "pygments_lexer": "ipython3",
   "version": "3.9.13"
  }
 },
 "nbformat": 4,
 "nbformat_minor": 5
}
