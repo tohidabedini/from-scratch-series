{
 "cells": [
  {
   "cell_type": "markdown",
   "id": "4b73715d-3f93-400d-89b1-10468fce669f",
   "metadata": {
    "tags": []
   },
   "source": [
    "https://www.geeksforgeeks.org/machine-learning/?ref=shm\n",
    "\n",
    "https://machinelearningmastery.com/a-tour-of-machine-learning-algorithms/\n",
    "\n",
    "https://www.hackerearth.com/practice/machine-learning/\n",
    "\n",
    "https://www.youtube.com/channel/UCZQqrFW2VkirBF2a-aV1Fdw/playlists\n",
    "\n",
    "https://www.youtube.com/c/joshstarmer/featured\n",
    "\n",
    "NNs, Deep left\n",
    "\n",
    "compare with sklearn implementation, sklearn like implementation\n",
    "\n",
    "both regression and classification"
   ]
  },
  {
   "cell_type": "markdown",
   "id": "db411438-e4c5-485a-8a86-9496202d8b44",
   "metadata": {},
   "source": [
    "wine: https://archive.ics.uci.edu/ml/datasets/Wine\n",
    "\n",
    "car: https://archive.ics.uci.edu/ml/datasets/Car+Evaluation\n",
    "\n",
    "air quality: https://archive.ics.uci.edu/ml/datasets/Air+Quality"
   ]
  },
  {
   "cell_type": "markdown",
   "id": "df58d79f-9c80-4d20-ba24-bc675bf6611a",
   "metadata": {
    "tags": []
   },
   "source": [
    "## Load Data"
   ]
  },
  {
   "cell_type": "code",
   "execution_count": 38,
   "id": "c31f45d2-1dd4-4c7d-bdd8-cc96326998b0",
   "metadata": {},
   "outputs": [],
   "source": [
    "import pandas as pd\n",
    "import numpy as np\n",
    "import scipy as sp"
   ]
  },
  {
   "cell_type": "code",
   "execution_count": 39,
   "id": "d9ae68b5-1e2f-414e-ba90-008363e25819",
   "metadata": {},
   "outputs": [],
   "source": [
    "wine = pd.read_csv('./data/wine.data', header=None)\n",
    "car = pd.read_csv('./data/car.data', header=None)\n",
    "air = pd.read_excel('./data/AirQualityUCI.xlsx')"
   ]
  },
  {
   "cell_type": "code",
   "execution_count": 3,
   "id": "06a49fb5-c8c9-49a4-8b96-e1ab6ab16624",
   "metadata": {},
   "outputs": [],
   "source": [
    "# car\n",
    "# wine.iloc[:,0]"
   ]
  },
  {
   "cell_type": "code",
   "execution_count": 4,
   "id": "a8df1758-be55-4b87-ac5b-632cf6ec4a55",
   "metadata": {},
   "outputs": [],
   "source": [
    "# air"
   ]
  },
  {
   "cell_type": "markdown",
   "id": "634f0242-216c-4f14-a4b5-6bbfd11b66b2",
   "metadata": {
    "jp-MarkdownHeadingCollapsed": true,
    "tags": []
   },
   "source": [
    "## 1.Activation Functions"
   ]
  },
  {
   "cell_type": "code",
   "execution_count": 5,
   "id": "3b900f14-b3c1-4945-976d-875c136e015e",
   "metadata": {},
   "outputs": [],
   "source": [
    "import torch\n",
    "import torch.nn as nn\n",
    "import matplotlib.pyplot as plt"
   ]
  },
  {
   "cell_type": "markdown",
   "id": "b2f0f52f-b9fa-447e-974c-c6cb978e077c",
   "metadata": {},
   "source": [
    "https://mlfromscratch.com/activation-functions-explained/#/\n",
    "\n",
    "https://pytorch.org/docs/stable/nn.html\n",
    "\n",
    "https://mlfromscratch.com/neural-networks-explained/#/\n",
    "\n",
    "https://www.v7labs.com/blog/neural-networks-activation-functions"
   ]
  },
  {
   "cell_type": "code",
   "execution_count": 207,
   "id": "a083b599-f3b8-4bdc-8f12-ad3edb8f2bd9",
   "metadata": {},
   "outputs": [],
   "source": [
    "test_np = np.linspace(-10.0, 10.0, num=500)\n",
    "test_tensor = torch.tensor(test_np, dtype=torch.float64)"
   ]
  },
  {
   "cell_type": "code",
   "execution_count": 209,
   "id": "a70421f5-802e-4946-a904-725bfd8a0749",
   "metadata": {},
   "outputs": [],
   "source": [
    "def two_function_test(x, function1, function2):\n",
    "    output_1 = function1(x)\n",
    "    output_2 = function2(x)\n",
    "    return torch.allclose(output_1,output_2), output_1\n",
    "    # return output_1==output_2, output_1\n",
    "\n",
    "def plot_array(x, y):\n",
    "    plt.plot(x, y)"
   ]
  },
  {
   "cell_type": "markdown",
   "id": "ca8f8c19-5258-42d8-81b4-5f193dcfbda0",
   "metadata": {},
   "source": [
    "### Binary Step"
   ]
  },
  {
   "cell_type": "code",
   "execution_count": 210,
   "id": "72c92026-daa8-4ec8-bede-2ad25910ddcc",
   "metadata": {},
   "outputs": [],
   "source": [
    "def binary_step(x):\n",
    "    return torch.where(x < 0, 0, 1)"
   ]
  },
  {
   "cell_type": "code",
   "execution_count": 211,
   "id": "94ba7a22-4a2f-43ef-9502-0603b25027f1",
   "metadata": {},
   "outputs": [],
   "source": [
    "output_binary_step = binary_step(test_tensor)"
   ]
  },
  {
   "cell_type": "code",
   "execution_count": 212,
   "id": "72f8ae17-815c-47cf-aa22-7e0e4f57120a",
   "metadata": {},
   "outputs": [
    {
     "data": {
      "image/png": "[encoded data removed]",
      "text/plain": [
       "<Figure size 432x288 with 1 Axes>"
      ]
     },
     "metadata": {
      "needs_background": "light"
     },
     "output_type": "display_data"
    }
   ],
   "source": [
    "plot_array(test_np, output_binary_step)"
   ]
  },
  {
   "cell_type": "markdown",
   "id": "8570bbdd-5459-4645-a03c-8e12f5c6cb96",
   "metadata": {},
   "source": [
    "### Linear"
   ]
  },
  {
   "cell_type": "code",
   "execution_count": 213,
   "id": "21e96fae-cced-48cc-bd79-8b4cbc2d1089",
   "metadata": {},
   "outputs": [],
   "source": [
    "def linear(x):\n",
    "    return x"
   ]
  },
  {
   "cell_type": "code",
   "execution_count": 214,
   "id": "07efb151-2fb0-40ae-a443-f4be2758511d",
   "metadata": {},
   "outputs": [],
   "source": [
    "output_linear = linear(test_tensor)"
   ]
  },
  {
   "cell_type": "code",
   "execution_count": 215,
   "id": "7dbe1e63-97dd-487b-a737-207fbae7008e",
   "metadata": {},
   "outputs": [
    {
     "data": {
      "image/png": "[encoded data removed]",
      "text/plain": [
       "<Figure size 432x288 with 1 Axes>"
      ]
     },
     "metadata": {
      "needs_background": "light"
     },
     "output_type": "display_data"
    }
   ],
   "source": [
    "plot_array(test_np, output_linear)"
   ]
  },
  {
   "cell_type": "markdown",
   "id": "a9e2e6ff-ddd7-4bed-8a96-c40e1678a1d6",
   "metadata": {},
   "source": [
    "### Tanh"
   ]
  },
  {
   "cell_type": "code",
   "execution_count": 216,
   "id": "14f4c4ab-96c8-4419-9d9a-e663a4edcbae",
   "metadata": {},
   "outputs": [],
   "source": [
    "def tanh(x):\n",
    "    exp_plus = np.exp(x)\n",
    "    exp_minus = np.exp(-1*x)\n",
    "    tanh_ = (exp_plus-exp_minus)/(exp_plus+exp_minus)\n",
    "    return tanh_"
   ]
  },
  {
   "cell_type": "code",
   "execution_count": 217,
   "id": "a7834ddd-437f-4b09-bc1f-02bc1e63ae70",
   "metadata": {},
   "outputs": [],
   "source": [
    "result, output_tanh = two_function_test(test_tensor, tanh, nn.Tanh())\n",
    "# print(result)"
   ]
  },
  {
   "cell_type": "code",
   "execution_count": 218,
   "id": "2112ef57-2b09-45aa-ba14-3635c15fc692",
   "metadata": {},
   "outputs": [
    {
     "data": {
      "image/png": "[encoded data removed]",
      "text/plain": [
       "<Figure size 432x288 with 1 Axes>"
      ]
     },
     "metadata": {
      "needs_background": "light"
     },
     "output_type": "display_data"
    }
   ],
   "source": [
    "plot_array(test_np, output_tanh)"
   ]
  },
  {
   "cell_type": "markdown",
   "id": "5c427fd9-fd0e-4fe7-87dc-ba4eb3aa65c0",
   "metadata": {},
   "source": [
    "### Softmax"
   ]
  },
  {
   "cell_type": "code",
   "execution_count": 219,
   "id": "b86f3b2b-b199-4465-8d7b-0bdd3236a6d8",
   "metadata": {},
   "outputs": [],
   "source": [
    "def softmax(x):\n",
    "    return torch.exp(x)/torch.sum(torch.exp(x))"
   ]
  },
  {
   "cell_type": "code",
   "execution_count": 220,
   "id": "9c377a8b-ef83-41eb-ab8c-5ccaf10ce568",
   "metadata": {},
   "outputs": [],
   "source": [
    "result, output_softmax = two_function_test(test_tensor, softmax, nn.Softmax())\n",
    "# print(result)"
   ]
  },
  {
   "cell_type": "code",
   "execution_count": 221,
   "id": "b067fb77-f488-48a0-b323-71e2b827147e",
   "metadata": {},
   "outputs": [
    {
     "name": "stdout",
     "output_type": "stream",
     "text": [
      "tensor(1., dtype=torch.float64)\n"
     ]
    },
    {
     "data": {
      "image/png": "[encoded data removed]",
      "text/plain": [
       "<Figure size 432x288 with 1 Axes>"
      ]
     },
     "metadata": {
      "needs_background": "light"
     },
     "output_type": "display_data"
    }
   ],
   "source": [
    "plot_array(test_np, output_softmax)\n",
    "print(output_softmax.sum())"
   ]
  },
  {
   "cell_type": "markdown",
   "id": "05f45b4f-d113-43b7-a088-85b7824b4822",
   "metadata": {},
   "source": [
    "### Sigmoid"
   ]
  },
  {
   "cell_type": "code",
   "execution_count": 222,
   "id": "ee18f4bf-f25c-4b0c-a09a-625e4cf8f24e",
   "metadata": {},
   "outputs": [],
   "source": [
    "def sigmoid(x):\n",
    "    return 1/(1+np.exp(-1*x))"
   ]
  },
  {
   "cell_type": "code",
   "execution_count": 223,
   "id": "c58855b3-67f2-4b74-8cfa-6307d3d821d4",
   "metadata": {},
   "outputs": [],
   "source": [
    "result, output_sigmoid = two_function_test(test_tensor, sigmoid, nn.Sigmoid())\n",
    "# print(result)"
   ]
  },
  {
   "cell_type": "code",
   "execution_count": 224,
   "id": "9d38b22c-c15a-4a98-8c02-89d09b117d9f",
   "metadata": {},
   "outputs": [
    {
     "data": {
      "image/png": "[encoded data removed]",
      "text/plain": [
       "<Figure size 432x288 with 1 Axes>"
      ]
     },
     "metadata": {
      "needs_background": "light"
     },
     "output_type": "display_data"
    }
   ],
   "source": [
    "plot_array(test_np, output_sigmoid)"
   ]
  },
  {
   "cell_type": "markdown",
   "id": "e788b322-bfc4-42a3-aba8-0c051530bc96",
   "metadata": {},
   "source": [
    "### ReLU\n",
    "\n",
    "\n",
    "**Pros:**\n",
    "\n",
    "    Less time and space complexity, because of sparsity, and compared to the sigmoid, it does not evolve the exponential operation, which are more costly.\n",
    "    \n",
    "    Avoids the vanishing gradient problem.\n",
    "\n",
    "**Cons:**\n",
    "\n",
    "    Introduces the dead relu problem, where components of the network are most likely never updated to a new value. This can sometimes also be a pro.\n",
    "    \n",
    "    ReLUs does not avoid the exploding gradient problem."
   ]
  },
  {
   "cell_type": "code",
   "execution_count": 225,
   "id": "e7d84d23-d590-4705-9417-77757e7371c4",
   "metadata": {},
   "outputs": [],
   "source": [
    "def relu(x):\n",
    "    return np.maximum(x, 0)"
   ]
  },
  {
   "cell_type": "code",
   "execution_count": 226,
   "id": "124e433b-0a87-485c-acb1-a561092afa2a",
   "metadata": {},
   "outputs": [],
   "source": [
    "result, output_relu = two_function_test(test_tensor, relu, nn.ReLU())\n",
    "# print(result)"
   ]
  },
  {
   "cell_type": "code",
   "execution_count": 227,
   "id": "def4fbcd-9fb3-4488-889f-cfa6445954e3",
   "metadata": {},
   "outputs": [
    {
     "data": {
      "image/png": "[encoded data removed]",
      "text/plain": [
       "<Figure size 432x288 with 1 Axes>"
      ]
     },
     "metadata": {
      "needs_background": "light"
     },
     "output_type": "display_data"
    }
   ],
   "source": [
    "plot_array(test_np, output_relu)"
   ]
  },
  {
   "cell_type": "markdown",
   "id": "c64eef96-67a5-4f16-8947-2cf062cfc1a0",
   "metadata": {},
   "source": [
    "### ELU\n",
    "\n",
    "**Pros:**\n",
    "\n",
    "    Avoids the dead relu problem.\n",
    "    \n",
    "    Produces negative outputs, which helps the network nudge weights and biases in the right directions.\n",
    "    \n",
    "    Produce activations instead of letting them be zero, when calculating the gradient.\n",
    "\n",
    "**Cons:**\n",
    "\n",
    "    Introduces longer computation time, because of the exponential operation included\n",
    "    \n",
    "    Does not avoid the exploding gradient problem\n",
    "    \n",
    "    The neural network does not learn the alpha value"
   ]
  },
  {
   "cell_type": "code",
   "execution_count": 228,
   "id": "04d1ef01-ec84-4c61-9ec1-8928450c839e",
   "metadata": {},
   "outputs": [],
   "source": [
    "def elu(x, alpha=1):\n",
    "    return torch.where(x > 0, x, alpha*(np.exp(x)-1))"
   ]
  },
  {
   "cell_type": "code",
   "execution_count": 229,
   "id": "28306e97-3e21-47af-b6c2-4e8672c53cbe",
   "metadata": {},
   "outputs": [],
   "source": [
    "result, output_elu = two_function_test(test_tensor, elu, nn.ELU())\n",
    "# print(result)"
   ]
  },
  {
   "cell_type": "code",
   "execution_count": 230,
   "id": "1adb5ed6-6632-4c40-bd50-2c503aed3a20",
   "metadata": {},
   "outputs": [
    {
     "data": {
      "image/png": "[encoded data removed]",
      "text/plain": [
       "<Figure size 432x288 with 1 Axes>"
      ]
     },
     "metadata": {
      "needs_background": "light"
     },
     "output_type": "display_data"
    }
   ],
   "source": [
    "plot_array(test_np, output_elu)"
   ]
  },
  {
   "cell_type": "markdown",
   "id": "50faae16-27ed-4132-ad40-7b1cb100a912",
   "metadata": {},
   "source": [
    "### Leaky ReLU\n",
    "\n",
    "**Pros:**\n",
    "\n",
    "    Like the ELU, we avoid the dead relu problem, since we allow a small gradient, when computing the derivative.\n",
    "    \n",
    "    Faster to compute then ELU, because no exponential operation is included\n",
    "\n",
    "**Cons:**\n",
    "\n",
    "    Does not avoid the exploding gradient problem\n",
    "    \n",
    "    The neural network does not learn the alpha value\n",
    "    \n",
    "    Becomes a linear function, when it is differentiated, whereas ELU is partly linear and nonlinear.\n",
    "    \n",
    "    \n",
    "### Parametric ReLU\n",
    "    just the same as leaky relu but with any value for alpha"
   ]
  },
  {
   "cell_type": "code",
   "execution_count": 243,
   "id": "57654325-ca35-4e87-9f43-5f93ac139289",
   "metadata": {},
   "outputs": [],
   "source": [
    "def leaky_relu(x, alpha=0.01):\n",
    "    return torch.where(x > 0, x, alpha*x)"
   ]
  },
  {
   "cell_type": "code",
   "execution_count": 244,
   "id": "ea891af6-4383-4cf7-91ba-b9cfdb33597c",
   "metadata": {},
   "outputs": [],
   "source": [
    "result, output_leaky_relu = two_function_test(test_tensor, leaky_relu, nn.LeakyReLU())\n",
    "# print(result)"
   ]
  },
  {
   "cell_type": "code",
   "execution_count": 245,
   "id": "5ab6334e-e958-462b-a30c-359af15b91ed",
   "metadata": {},
   "outputs": [
    {
     "data": {
      "image/png": "[encoded data removed]",
      "text/plain": [
       "<Figure size 432x288 with 1 Axes>"
      ]
     },
     "metadata": {
      "needs_background": "light"
     },
     "output_type": "display_data"
    }
   ],
   "source": [
    "plot_array(test_np, output_leaky_relu)"
   ]
  },
  {
   "cell_type": "markdown",
   "id": "0d02d5ea-ce88-49ca-9931-b97e446decf0",
   "metadata": {},
   "source": [
    "### Swish\n",
    "\n",
    "Here are a few advantages of the Swish activation function over ReLU:\n",
    "\n",
    "    Swish is a smooth function that means that it does not abruptly change direction like ReLU does near x = 0. Rather, it smoothly bends from 0 towards values < 0 and then upwards again.\n",
    "\n",
    "    Small negative values were zeroed out in ReLU activation function. However, those negative values may still be relevant for capturing patterns underlying the data. Large negative values are zeroed out for reasons of sparsity making it a win-win situation.\n",
    "\n",
    "    The swish function being non-monotonous enhances the expression of input data and weight to be learnt."
   ]
  },
  {
   "cell_type": "code",
   "execution_count": 247,
   "id": "78891d60-29d5-4465-b6e6-00821c6892e4",
   "metadata": {},
   "outputs": [],
   "source": [
    "def swish(x):\n",
    "    return x*sigmoid(x)"
   ]
  },
  {
   "cell_type": "code",
   "execution_count": 248,
   "id": "1868d834-7f56-4ec1-8483-0645f3e30196",
   "metadata": {},
   "outputs": [],
   "source": [
    "output_swish = swish(test_tensor)"
   ]
  },
  {
   "cell_type": "code",
   "execution_count": 249,
   "id": "0e09e5eb-f497-4ac6-9827-c9b4df282e29",
   "metadata": {},
   "outputs": [
    {
     "data": {
      "image/png": "[encoded data removed]",
      "text/plain": [
       "<Figure size 432x288 with 1 Axes>"
      ]
     },
     "metadata": {
      "needs_background": "light"
     },
     "output_type": "display_data"
    }
   ],
   "source": [
    "plot_array(test_np, output_swish)"
   ]
  },
  {
   "cell_type": "markdown",
   "id": "d03931ea-ac2a-4997-9544-2295b7b13b2b",
   "metadata": {},
   "source": [
    "### SELU\n",
    "\n",
    "**Pros:**\n",
    "\n",
    "    Internal normalization is faster than external normalization, which means the network converges faster.\n",
    "    \n",
    "    Vanishing and exploding gradient problem is impossible, shown by their theorems 2 & 3 in the appendix.\n",
    "\n",
    "**Cons:**\n",
    "\n",
    "    Relatively new activation function – needs more papers on architectures such as CNNs and RNNs, where it is comparatively explored. "
   ]
  },
  {
   "cell_type": "code",
   "execution_count": 133,
   "id": "83b6e7d3-8817-4484-b202-4f14e53c63db",
   "metadata": {},
   "outputs": [],
   "source": [
    "def selu(x, alpha=1.6732632423543772848170429916717, lambda_=1.0507009873554804934193349852946):\n",
    "    return lambda_ * elu(x, alpha)"
   ]
  },
  {
   "cell_type": "code",
   "execution_count": 135,
   "id": "3eb1b895-e37b-4181-a3b8-ef724d3fad51",
   "metadata": {},
   "outputs": [],
   "source": [
    "result, output_selu = two_function_test(test_tensor, selu, nn.SELU())\n",
    "# print(result)"
   ]
  },
  {
   "cell_type": "code",
   "execution_count": 136,
   "id": "fd1fa805-275f-42eb-8ca0-800fa4364857",
   "metadata": {},
   "outputs": [
    {
     "data": {
      "image/png": "[encoded data removed]",
      "text/plain": [
       "<Figure size 432x288 with 1 Axes>"
      ]
     },
     "metadata": {
      "needs_background": "light"
     },
     "output_type": "display_data"
    }
   ],
   "source": [
    "plot_array(test_np, output_selu)"
   ]
  },
  {
   "cell_type": "markdown",
   "id": "c52a740c-1e27-4fd0-bd60-2445b2ec41ac",
   "metadata": {},
   "source": [
    "    The output of a SELU is normalized, which could be called internal normalization, hence the fact that all the outputs are with a mean of zero and standard deviation of one, as just explained. This is different from external normalization, where batch normalization and other methods are used."
   ]
  },
  {
   "cell_type": "markdown",
   "id": "6eb41f82-dbbb-4c16-b6b7-ba6ae4ebe821",
   "metadata": {},
   "source": [
    "### GELU\n",
    "\n",
    "**Pros:**\n",
    "\n",
    "    Seems to be state-of-the-art in NLP, specifically Transformer models – i.e. it performs best\n",
    "    \n",
    "    Avoids vanishing gradients problem\n",
    "\n",
    "**Cons:**\n",
    "\n",
    "    Fairly new in practical use, although introduced in 2016."
   ]
  },
  {
   "cell_type": "code",
   "execution_count": 303,
   "id": "8fca7c63-cfce-4f6e-880a-b70e6ee9debe",
   "metadata": {},
   "outputs": [],
   "source": [
    "def gelu(x):\n",
    "    tanh_arg = (torch.sqrt(torch.tensor(2/np.pi))) * (x + (0.044715 * torch.pow(x, 3)))\n",
    "    gelu_ = 0.5*x*(1 + tanh(tanh_arg))\n",
    "    return gelu_"
   ]
  },
  {
   "cell_type": "code",
   "execution_count": 312,
   "id": "f48496f8-80e0-4957-a3fb-c4a19cc5aac4",
   "metadata": {},
   "outputs": [],
   "source": [
    "result, output_gelu = two_function_test(test_tensor, gelu, nn.GELU(approximate=\"tanh\"))\n",
    "# print(result)"
   ]
  },
  {
   "cell_type": "code",
   "execution_count": 313,
   "id": "1907afd4-e90c-4c58-a424-fe89f614e6f4",
   "metadata": {},
   "outputs": [
    {
     "data": {
      "image/png": "[encoded data removed]",
      "text/plain": [
       "<Figure size 432x288 with 1 Axes>"
      ]
     },
     "metadata": {
      "needs_background": "light"
     },
     "output_type": "display_data"
    }
   ],
   "source": [
    "plot_array(test_np, output_gelu)"
   ]
  },
  {
   "cell_type": "markdown",
   "id": "9e49c191-451e-4c1d-b853-4796308d5da2",
   "metadata": {},
   "source": [
    "### How to choose the right Activation Function?"
   ]
  },
  {
   "cell_type": "markdown",
   "id": "14b85118-8fce-47bd-bd44-c737c2758abf",
   "metadata": {},
   "source": [
    "    You need to match your activation function for your output layer based on the type of prediction problem that you are solving—specifically, the type of predicted variable.\n",
    "\n",
    "    Here’s what you should keep in mind.\n",
    "\n",
    "    As a rule of thumb, you can begin with using the ReLU activation function and then move over to other activation functions if ReLU doesn’t provide optimum results.\n",
    "    \n",
    "    \n",
    "    And here are a few other guidelines to help you out.\n",
    "\n",
    "    1.ReLU activation function should only be used in the hidden layers.\n",
    "    2.Sigmoid/Logistic and Tanh functions should not be used in hidden layers as they make the model more susceptible to problems during training (due to vanishing gradients).\n",
    "    3.Swish function is used in neural networks having a depth greater than 40 layers.\n",
    "    \n",
    "    Finally, a few rules for choosing the activation function for your output layer based on the type of prediction problem that you are solving:\n",
    "    \n",
    "    1.Regression - Linear Activation Function\n",
    "    2.Binary Classification—Sigmoid/Logistic Activation Function\n",
    "    3.Multiclass Classification—Softmax\n",
    "    4.Multilabel Classification—Sigmoid\n",
    "    \n",
    "    The activation function used in hidden layers is typically chosen based on the type of neural network architecture.\n",
    "    \n",
    "    1.Convolutional Neural Network (CNN): ReLU activation function.\n",
    "    2.Recurrent Neural Network: Tanh and/or Sigmoid activation function.\n",
    "    \n",
    "    "
   ]
  },
  {
   "cell_type": "markdown",
   "id": "b2860dbc-35d5-4b6a-b0bc-d3718150d95e",
   "metadata": {
    "tags": []
   },
   "source": [
    "## 2.MLE"
   ]
  },
  {
   "cell_type": "markdown",
   "id": "d29f1c05-c4a7-49d1-9e24-a08492120f18",
   "metadata": {},
   "source": [
    "https://mlfromscratch.com/probability-distributions-and-densities/#/\n",
    "\n",
    "https://towardsdatascience.com/a-gentle-introduction-to-maximum-likelihood-estimation-9fbff27ea12f\n",
    "\n",
    "https://alemorales.info/post/mle-nonlinear/\n",
    "\n",
    "https://www.youtube.com/watch?v=rzFX5NWojp0\n",
    "\n",
    "https://www.youtube.com/watch?v=XepXtl9YKwc\n",
    "\n",
    "https://www.youtube.com/watch?v=Dn6b9fCIUpM\n",
    "\n",
    "https://www.youtube.com/watch?v=J8jNoF-K8E8\n",
    "\n",
    "https://www.youtube.com/watch?v=4KKV9yZCoM4\n",
    "\n",
    "https://www.youtube.com/watch?v=p3T-_LMrvBc\n",
    "\n",
    "https://numpy.org/doc/stable/reference/random/generated/numpy.random.normal.html\n",
    "\n",
    "https://numpy.org/doc/stable/reference/random/generated/numpy.random.exponential.html\n",
    "\n",
    "https://numpy.org/doc/stable/reference/random/generated/numpy.random.binomial.html"
   ]
  },
  {
   "cell_type": "markdown",
   "id": "8d68e4c0-ea3c-41b5-aaf5-25b2d4f3922c",
   "metadata": {},
   "source": [
    "    The approach is to find the likelihood of points and put its derivative to zero and find the parameters we want by solving the equiations"
   ]
  },
  {
   "cell_type": "code",
   "execution_count": 414,
   "id": "e1e91c0b-5422-484e-aaf8-33beb1b56f01",
   "metadata": {},
   "outputs": [],
   "source": [
    "import sympy as sp\n",
    "from sympy.solvers import solve\n",
    "from sympy import Symbol"
   ]
  },
  {
   "cell_type": "markdown",
   "id": "98245122-07b6-4adb-94f4-41788bf9b62f",
   "metadata": {},
   "source": [
    "### Normal"
   ]
  },
  {
   "cell_type": "code",
   "execution_count": 415,
   "id": "05de74be-2ed5-42b5-a229-458943f67bc3",
   "metadata": {},
   "outputs": [],
   "source": [
    "normal_sample_data = np.random.normal(loc=2.5, scale=1, size=1000)"
   ]
  },
  {
   "cell_type": "code",
   "execution_count": 416,
   "id": "e9e56ac6-9b04-42a3-a9e0-39987028bed5",
   "metadata": {},
   "outputs": [],
   "source": [
    "def normal_mle(data):\n",
    "    # equations has been solved to find these answers!\n",
    "    mean = np.mean(data)\n",
    "    std = np.std(data)\n",
    "    return mean, std"
   ]
  },
  {
   "cell_type": "code",
   "execution_count": 417,
   "id": "0164e73c-d989-4a86-882b-d05455e8c49b",
   "metadata": {},
   "outputs": [
    {
     "data": {
      "text/plain": [
       "(2.4825169060649155, 1.0101378170643203)"
      ]
     },
     "execution_count": 417,
     "metadata": {},
     "output_type": "execute_result"
    }
   ],
   "source": [
    "normal_mle(normal_sample_data)"
   ]
  },
  {
   "cell_type": "markdown",
   "id": "9694739c-d491-44b6-8ef1-fa3ec7983677",
   "metadata": {},
   "source": [
    "### Exponential"
   ]
  },
  {
   "cell_type": "code",
   "execution_count": 418,
   "id": "b9a96c89-b3a4-49de-8ec6-d14ed01d91ba",
   "metadata": {},
   "outputs": [],
   "source": [
    "exponential_sample_data = np.random.exponential(scale=1.0, size=1000)"
   ]
  },
  {
   "cell_type": "code",
   "execution_count": 419,
   "id": "9bbce408-a4d9-481e-b453-15eaeac7549a",
   "metadata": {},
   "outputs": [],
   "source": [
    "def exponential_mle(data):\n",
    "    # equations has been solved to find these answers!\n",
    "    sum_ = np.sum(data)\n",
    "    lambda_ = len(data) / sum_\n",
    "    return lambda_"
   ]
  },
  {
   "cell_type": "code",
   "execution_count": 420,
   "id": "fafe14ee-e739-4d1e-9d6b-0923ce8b6b3d",
   "metadata": {},
   "outputs": [
    {
     "data": {
      "text/plain": [
       "0.9805514601613581"
      ]
     },
     "execution_count": 420,
     "metadata": {},
     "output_type": "execute_result"
    }
   ],
   "source": [
    "exponential_mle(exponential_sample_data)"
   ]
  },
  {
   "cell_type": "markdown",
   "id": "b05e5324-8d1f-4c86-8d12-6b589b67fbfb",
   "metadata": {},
   "source": [
    "### Binomial"
   ]
  },
  {
   "cell_type": "code",
   "execution_count": 421,
   "id": "616bd235-222a-43d6-947a-6d5d2de3896a",
   "metadata": {},
   "outputs": [],
   "source": [
    "binomial_sample_data = np.random.binomial(n=14, p=0.6, size=1000)"
   ]
  },
  {
   "cell_type": "code",
   "execution_count": 422,
   "id": "62dd2f39-6768-4387-b8a8-aac7057d86e2",
   "metadata": {},
   "outputs": [],
   "source": [
    "def binomial_mle(data, n):\n",
    "    # equations has been solved to find these answers!\n",
    "    mean = np.mean(data)\n",
    "    p = mean / n\n",
    "    return p"
   ]
  },
  {
   "cell_type": "code",
   "execution_count": 423,
   "id": "ceaf5273-e952-4b71-9bc3-ca839271bec7",
   "metadata": {},
   "outputs": [
    {
     "data": {
      "text/plain": [
       "0.6021428571428571"
      ]
     },
     "execution_count": 423,
     "metadata": {},
     "output_type": "execute_result"
    }
   ],
   "source": [
    "binomial_mle(binomial_sample_data, n=14)"
   ]
  },
  {
   "cell_type": "markdown",
   "id": "63f2373c-7d05-4e9a-a743-25b142ffa2a2",
   "metadata": {
    "tags": []
   },
   "source": [
    "## 3. CV - GridSearch - Metrics"
   ]
  },
  {
   "cell_type": "markdown",
   "id": "9933994b-cd0a-41e3-8d9c-4f40d8218b4f",
   "metadata": {},
   "source": [
    "https://scikit-learn.org/stable/modules/generated/sklearn.model_selection.GridSearchCV.html\n",
    "\n",
    "https://scikit-learn.org/stable/modules/cross_validation.html"
   ]
  },
  {
   "cell_type": "markdown",
   "id": "150277d5-05b7-4731-9062-e8d217f29594",
   "metadata": {},
   "source": [
    "### CV"
   ]
  },
  {
   "cell_type": "code",
   "execution_count": null,
   "id": "ae330494-948c-4a69-827e-20baecb815e8",
   "metadata": {},
   "outputs": [],
   "source": []
  },
  {
   "cell_type": "code",
   "execution_count": null,
   "id": "ed247849-77e8-4c5b-bd40-bdd1dd8f09ec",
   "metadata": {},
   "outputs": [],
   "source": []
  },
  {
   "cell_type": "code",
   "execution_count": null,
   "id": "21abdd6e-9a19-4a72-9e08-b80db1a5f33e",
   "metadata": {},
   "outputs": [],
   "source": []
  },
  {
   "cell_type": "code",
   "execution_count": null,
   "id": "ee839f6f-9288-4b9f-8706-6b99358809c3",
   "metadata": {},
   "outputs": [],
   "source": []
  },
  {
   "cell_type": "markdown",
   "id": "19e904a5-a358-4dc6-93fd-113d1ddc8b79",
   "metadata": {
    "tags": []
   },
   "source": [
    "### Metrics\n",
    "\n",
    "https://www.qualdo.ai/blog/complete-list-of-performance-metrics-for-monitoring-regression-models/\n",
    "\n",
    "https://scikit-learn.org/stable/modules/model_evaluation.html\n",
    "\n",
    "https://www.analyticsvidhya.com/blog/2021/05/know-the-best-evaluation-metrics-for-your-regression-model/\n",
    "\n",
    "https://www.investopedia.com/terms/r/r-squared.asp\n",
    "\n",
    "https://www.saedsayad.com/mlr.htm\n",
    "\n",
    "https://www.youtube.com/watch?v=2AQKmw14mHM\n",
    "\n",
    "https://www.kdnuggets.com/2020/05/model-evaluation-metrics-machine-learning.html\n",
    "\n",
    "https://www.educba.com/python-print-table/\n",
    "\n",
    "https://stats.stackexchange.com/questions/210168/what-is-the-difference-between-r2-and-variance-score-in-scikit-learn\n",
    "\n",
    "https://www.youtube.com/watch?v=JC56jS2gVUE *\n",
    "\n",
    "https://www.youtube.com/watch?v=9T0wlKdew6I\n",
    "\n",
    "https://quantifyinghealth.com/deviance-in-logistic-regression/\n",
    "\n",
    "https://scikit-learn.org/stable/modules/model_evaluation.html#d2-score\n",
    "\n",
    "https://www.youtube.com/watch?v=pYxNSUDSFH4\n",
    "\n",
    "https://www.youtube.com/watch?v=J0yuLu3oLuU\n",
    "\n",
    "left:\n",
    "\n",
    "metrics.mean_poisson_deviance, metrics.mean_gamma_deviance, metrics.d2_absolute_error_score, metrics.d2_pinball_score, metrics.d2_tweedie_score\n",
    "\n",
    "**p-value**\n",
    "\n",
    "https://www.youtube.com/watch?v=5Z9OIYA8He8\n",
    "\n",
    "https://www.youtube.com/watch?v=vemZtEM63GY\n",
    "\n",
    "https://www.youtube.com/watch?v=JQc3yx0-Q9E\n"
   ]
  },
  {
   "cell_type": "code",
   "execution_count": 11,
   "id": "a164a234-fe47-442a-bf4c-6f51db250e24",
   "metadata": {},
   "outputs": [],
   "source": [
    "def print_result_string_generator(metrics_to_print, metrics_name):\n",
    "    out = \"\"\n",
    "    for metric, name in zip(metrics_to_print, metrics_name):\n",
    "        # print(name, metric)\n",
    "        s = \"{:<20} {:<15} \\n\".format(name, metric)\n",
    "        out += s\n",
    "    return out"
   ]
  },
  {
   "cell_type": "code",
   "execution_count": 12,
   "id": "76ac29f0-f5f0-4789-b3db-0e2cbac640cf",
   "metadata": {},
   "outputs": [],
   "source": [
    "def inputs_length_check(y_test, yhat):\n",
    "    length = len(yhat)\n",
    "    assert length==len(y_test)\n",
    "    return length\n",
    "    \n",
    "def mean_absolute_error(y_test, yhat, sklearn_=False):\n",
    "    if sklearn_:\n",
    "        return metrics.mean_absolute_error(y_test, yhat)\n",
    "    \n",
    "    length = inputs_length_check(y_test, yhat)\n",
    "    return np.sum(np.abs(np.subtract(y_test, yhat)))/length\n",
    "\n",
    "def mean_squared_error(y_test, yhat, sklearn_=False):\n",
    "    if sklearn_:\n",
    "        return metrics.mean_squared_error(y_test, yhat)\n",
    "\n",
    "    length = inputs_length_check(y_test, yhat)\n",
    "    return np.sum(np.power(np.subtract(y_test, yhat), 2))/length\n",
    "\n",
    "def root_mean_squared_error(y_test, yhat, sklearn_=False):\n",
    "    return np.sqrt(mean_squared_error(y_test, yhat, sklearn_))\n",
    "\n",
    "def root_mean_squared_log_error(y_test, yhat, sklearn_=False):\n",
    "    if sklearn_:\n",
    "        return metrics.mean_squared_log_error(y_test, yhat)\n",
    "    return np.log(root_mean_squared_error(y_test, yhat))\n",
    "\n",
    "def median_absolute_error(y_test, yhat, sklearn_=False):\n",
    "    if sklearn_:\n",
    "        return metrics.median_absolute_error(y_test, yhat)\n",
    "    \n",
    "    length = inputs_length_check(y_test, yhat)\n",
    "    return np.median(np.abs(np.subtract(y_test, yhat)))\n",
    "\n",
    "def r2_score(y_test, yhat, sklearn_=False):\n",
    "    if sklearn_:\n",
    "        return metrics.r2_score(y_test, yhat)\n",
    "    \n",
    "    ssr = np.sum(np.power(np.subtract(y_test, yhat), 2))\n",
    "    ssm = np.sum(np.power(np.subtract(y_test, np.mean(y_test)), 2))\n",
    "    r2 = 1 - (ssr/ssm)\n",
    "    return r2\n",
    "\n",
    "def adjusted_r2_score(y_test, yhat, X_test, sklearn_=False):\n",
    "    n = len(y_test)\n",
    "    k = len(X_test[0])\n",
    "    r2 = r2_score(y_test, yhat, sklearn_)\n",
    "    adjusted_r2 = 1 - (((n-1)/(n-k-1))*(1-r2))\n",
    "    return adjusted_r2\n",
    "\n",
    "def explained_variance_score(y_test, yhat, sklearn_=False):\n",
    "    if sklearn_:\n",
    "        return metrics.explained_variance_score(y_test, yhat)\n",
    "    \n",
    "    var_score = 1 - (np.var(yhat-y_test)/np.var(y_test))\n",
    "    return var_score\n",
    "\n",
    "def max_error(y_test, yhat, sklearn_=False):\n",
    "    if sklearn_:\n",
    "        return metrics.max_error(y_test, yhat)\n",
    "    \n",
    "    return np.max(yhat - y_test)\n",
    "\n",
    "def mean_absolute_percentage_error(y_test, yhat, sklearn_=False):\n",
    "    if sklearn_:\n",
    "        return metrics.mean_absolute_percentage_error(y_test, yhat)\n",
    "    \n",
    "    epsilon = np.finfo(np.float64).eps\n",
    "    \n",
    "    ape = np.abs(((yhat-y_test)/np.maximum(y_test, epsilon)))\n",
    "    # ape = np.abs((yhat/np.maximum(y_test, epsilon))-1)\n",
    "    \n",
    "    return np.mean(ape)\n",
    "\n",
    "# def log_lokelihood_calculator(data):\n",
    "#     mean = np.mean(data)\n",
    "#     std = np.std(data)\n",
    "    \n",
    "#     log_lokelihood = np.log(np.sum(sp.stats.norm.pdf(data,mean,std)))\n",
    "#     return log_lokelihood\n",
    "\n",
    "# def deviance(data):\n",
    "#     deviance_value = -2 * log_lokelihood_calculator(data)\n",
    "#     return deviance_value\n",
    "\n",
    "# def d2_absolute_error_score(y_test, yhat, mode=\"LL\"):\n",
    "#     if mode==\"LL\":\n",
    "#         length = len(yhat)\n",
    "#         null_data = np.tile(np.mean(y_test), length)\n",
    "#         d2 = 1 - (log_lokelihood_calculator(yhat)/log_lokelihood_calculator(null_data))\n",
    "\n",
    "#     return d2\n",
    "\n",
    "# def calculate_dev(y_true,y_pred):\n",
    "#     epsilon = np.finfo(np.float64).eps\n",
    "#     log_arg = np.maximum(y_true/y_pred, epsilon)\n",
    "\n",
    "#     return (2*(y_true * np.log(log_arg) - (y_true-y_pred))).sum()\n",
    "\n",
    "# 1 - (calculate_dev(y_test_air,lr.predict(X_test_air))/calculate_dev(y_test_air,np.mean(y_test_air)))\n",
    "\n",
    "\n",
    "def model_evaluater(yhat=None, y_test=None,  X_test= None, model=None, task=\"regression\", sklearn_=False):\n",
    "    if model is not None:\n",
    "        yhat = model.predict(X_test)\n",
    "        \n",
    "    if task == \"regression\":\n",
    "        mse = mean_squared_error(y_test, yhat, sklearn_)\n",
    "        rmse = root_mean_squared_error(y_test, yhat, sklearn_)\n",
    "        # rmsle = root_mean_squared_log_error(y_test, yhat, sklearn_)\n",
    "        mae = mean_absolute_error(y_test, yhat, sklearn_)\n",
    "        medianae = median_absolute_error(y_test, yhat, sklearn_)\n",
    "        r2_score_ = r2_score(y_test, yhat, sklearn_)\n",
    "        adjusted_r2 = adjusted_r2_score(y_test, yhat, X_test, sklearn_)\n",
    "        mape = mean_absolute_percentage_error(y_test, yhat, sklearn_)\n",
    "        explained_var = explained_variance_score(y_test, yhat, sklearn_)\n",
    "        max_error_ = max_error(y_test, yhat, sklearn_)\n",
    "        # mean_poisson_deviance_ = metrics.mean_poisson_deviance(y_test, yhat)\n",
    "        d2_absolute_error = metrics.d2_absolute_error_score(y_test, yhat)\n",
    "\n",
    "        metrics_to_print = [mse, rmse, mae, medianae, r2_score_, mape, explained_var, max_error_, d2_absolute_error]\n",
    "        metrics_name = ['mse', 'rmse', 'mae', 'medianae', 'r2_score', 'mape', 'explained_var', 'max_error', 'd2_absolute_error']\n",
    "        print(print_result_string_generator(metrics_to_print, metrics_name))"
   ]
  },
  {
   "cell_type": "markdown",
   "id": "a612320b-ff4d-4e84-afcb-0dffb0046dd2",
   "metadata": {},
   "source": [
    "**R Squared: Accuracy Of The Multiple Linear Regression Model**\n",
    "\n",
    "```lr.score(X_test, y_test)```"
   ]
  },
  {
   "cell_type": "code",
   "execution_count": 13,
   "id": "c462138a-253b-41bb-8b86-743b7cde5e76",
   "metadata": {},
   "outputs": [],
   "source": [
    "# mean_absolute_error(lr.predict(X_test_air), y_test_air)\n",
    "# mean_squared_error(lr.predict(X_test_air), y_test_air)\n",
    "# root_mean_squared_error(lr.predict(X_test_air), y_test_air)\n",
    "# root_mean_squared_log_error(lr.predict(X_test_air), y_test_air)\n",
    "# median_absolute_error(lr.predict(X_test_air), y_test_air)\n",
    "# r2_score(lr.predict(X_test_air), y_test_air)\n",
    "# adjusted_r2_score(lr.predict(X_test_air), y_test_air, X_test_air)\n",
    "# explained_variance_score(lr.predict(X_test_air), y_test_air)\n",
    "# max_error(lr.predict(X_test_air), y_test_air)\n",
    "# mean_absolute_percentage_error(lr.predict(X_test_air), y_test_air)\n",
    "# d2_absolute_error_score(lr.predict(X_test_air), y_test_air)"
   ]
  },
  {
   "cell_type": "markdown",
   "id": "84d5018e-2e9f-4012-b067-4a5f71ae57b2",
   "metadata": {
    "tags": []
   },
   "source": [
    "## 4. Feature Engineering"
   ]
  },
  {
   "cell_type": "markdown",
   "id": "75cc5ed2-26e4-474e-9a42-5a551c1fab6e",
   "metadata": {},
   "source": [
    "https://www.analyticsvidhya.com/blog/2021/03/step-by-step-process-of-feature-engineering-for-machine-learning-algorithms-in-data-science/\n",
    "\n",
    "https://www.projectpro.io/article/8-feature-engineering-techniques-for-machine-learning/423\n",
    "\n",
    "https://www.analyticsvidhya.com/blog/2020/10/feature-selection-techniques-in-machine-learning/\n",
    "\n",
    "https://machinelearningmastery.com/feature-selection-with-real-and-categorical-data/\n",
    "\n",
    "https://scikit-learn.org/stable/modules/feature_selection.html\n",
    "\n",
    "https://www.kdnuggets.com/2021/06/feature-selection-overview.html"
   ]
  },
  {
   "cell_type": "code",
   "execution_count": null,
   "id": "0d044453-34ef-4f12-861b-1c19b50d848e",
   "metadata": {},
   "outputs": [],
   "source": []
  },
  {
   "cell_type": "code",
   "execution_count": null,
   "id": "fb59f62d-4a27-4244-a3c8-24797915345f",
   "metadata": {},
   "outputs": [],
   "source": []
  },
  {
   "cell_type": "code",
   "execution_count": null,
   "id": "68ca9f83-4d94-419e-b34b-0aa02d017550",
   "metadata": {},
   "outputs": [],
   "source": []
  },
  {
   "cell_type": "code",
   "execution_count": null,
   "id": "1619f739-3db5-453e-9a98-6dfae0d469c3",
   "metadata": {},
   "outputs": [],
   "source": []
  },
  {
   "cell_type": "code",
   "execution_count": null,
   "id": "584d6df4-08a2-4e61-bd8e-e5018c5ec0b7",
   "metadata": {},
   "outputs": [],
   "source": []
  },
  {
   "cell_type": "code",
   "execution_count": null,
   "id": "d869edbf-3444-4c6b-a8e5-cb99314e51f3",
   "metadata": {},
   "outputs": [],
   "source": []
  },
  {
   "cell_type": "markdown",
   "id": "2d45e013-3063-4b41-884d-b961a9791db7",
   "metadata": {
    "tags": []
   },
   "source": [
    "## 5.Optimizers and LR schedulers"
   ]
  },
  {
   "cell_type": "markdown",
   "id": "79b62870-afb3-46dd-8c8d-e78d6fdd183c",
   "metadata": {},
   "source": [
    "https://peltarion.com/knowledge-center/modeling-view/run-a-model/optimization-principles-(in-deep-learning)/learning-rate-schedule\n",
    "\n",
    "https://mlfromscratch.com/optimizers-explained/#/"
   ]
  },
  {
   "cell_type": "code",
   "execution_count": null,
   "id": "06f8e555-f845-4834-8a0e-612440cbbce4",
   "metadata": {},
   "outputs": [],
   "source": []
  },
  {
   "cell_type": "markdown",
   "id": "74a96891-f339-4ad9-a7ed-22d0e55e9f31",
   "metadata": {
    "tags": []
   },
   "source": [
    "### LR schedulers\n",
    "\n",
    "https://towardsdatascience.com/learning-rate-schedules-and-adaptive-learning-rate-methods-for-deep-learning-2c8f433990d1\n",
    "\n",
    "https://medium.com/analytics-vidhya/learning-rate-decay-and-methods-in-deep-learning-2cee564f910b\n"
   ]
  },
  {
   "cell_type": "markdown",
   "id": "ad405ad2-1008-45cb-8963-f14b99450d42",
   "metadata": {},
   "source": [
    "**1.Learning rate decay (common method):**\n",
    "\n",
    "α = ( 1 / ( 1 + decayRate * epochNumber ) ) * α0\n",
    "\n",
    "1 epoch : 1 pass through data\n",
    "\n",
    "α : learning rate (current iteration)\n",
    "\n",
    "α0 : Initial learning rate\n",
    "\n",
    "decayRate : hyper-parameter for the method\n",
    "\n",
    "**2.Exponential Decay:**\n",
    "\n",
    "α = ( e ^ ( -decayRate * epochNumber) ) * α0\n",
    "\n",
    "**3.Step Decay:**\n",
    "\n",
    "α = drop^floor( epoch / epochs_drop ) * α0\n",
    "\n",
    "**4.Epoch Number Based:**\n",
    "\n",
    "α = ( k/ √epochNumber ) * α0\n",
    "\n",
    "In this method we take some constant ‘k’ and divide it with square root of epoch number.\n",
    "\n",
    "**5.Mini-batch Number based:**\n",
    "\n",
    "α = ( k/ √t) * α0\n",
    "\n",
    "In this method we take some constant ‘k’ and divide it with square root of Mini-Batch number. (This method is only used for Mini Batch Gradient Descent.)\n",
    "\n",
    "**6.Manual Decay:**\n",
    "\n",
    "In this method practitioners manually examine the performance of algorithm and decrease the learning rate manually day by day or hour by hour etc."
   ]
  },
  {
   "cell_type": "code",
   "execution_count": 14,
   "id": "774bd742-4842-4404-b36f-3237f717efea",
   "metadata": {},
   "outputs": [],
   "source": [
    "def learning_rate_scheduler(lr, mode=0, epoch=None, decay_rate=0, epochs_drop=10, initial_lr=1):\n",
    "    epoch+=1\n",
    "    # mode: 0:constant, 1:lr-decay, 2:exponential, 3:step, 4:epoch number based (and just like mini-batch mode) \n",
    "    if mode==0:\n",
    "        lr = lr\n",
    "        \n",
    "    elif mode==1:\n",
    "        lr *= 1/(1+decay_rate*epoch)\n",
    "        \n",
    "    elif mode==2:\n",
    "        lr = initial_lr * np.exp(-1*decay_rate*epoch)\n",
    "        \n",
    "    elif mode==3:\n",
    "        lr = initial_lr * np.power(decay_rate, (epoch//epochs_drop))\n",
    "    \n",
    "    elif mode==4:\n",
    "        lr *= decay_rate/np.sqrt(epoch)\n",
    "        \n",
    "    return lr"
   ]
  },
  {
   "cell_type": "code",
   "execution_count": 15,
   "id": "208fc8ae-66bd-48d6-95c5-a72b1189e7e4",
   "metadata": {},
   "outputs": [
    {
     "name": "stdout",
     "output_type": "stream",
     "text": [
      "1\n",
      "0.08695652173913043\n",
      "2.7536449349747158e-05\n",
      "0.25\n",
      "0.1091089451179962\n"
     ]
    }
   ],
   "source": [
    "print(learning_rate_scheduler(lr=1, mode=0, epoch=20, decay_rate=0.5))\n",
    "print(learning_rate_scheduler(lr=1, mode=1, epoch=20, decay_rate=0.5))\n",
    "print(learning_rate_scheduler(lr=1, mode=2, epoch=20, decay_rate=0.5))\n",
    "print(learning_rate_scheduler(lr=1, mode=3, epoch=20, decay_rate=0.5, epochs_drop=10))\n",
    "print(learning_rate_scheduler(lr=1, mode=4, epoch=20, decay_rate=0.5))"
   ]
  },
  {
   "cell_type": "markdown",
   "id": "7f13a373-7c8d-4640-b9d4-66fd715f389b",
   "metadata": {
    "tags": []
   },
   "source": [
    "## 6.Linear Regression"
   ]
  },
  {
   "cell_type": "markdown",
   "id": "f70e1b73-ca4e-4aa9-bca1-36c34b51590a",
   "metadata": {},
   "source": [
    "https://www.askpython.com/python/examples/linear-regression-from-scratch\n",
    "\n",
    "https://faun.pub/implementing-multiple-linear-regression-from-scratch-in-python-f5d84d4935bb\n",
    "\n",
    "https://mlfromscratch.com/linear-regression-from-scratch/#/\n",
    "\n",
    "https://scikit-learn.org/stable/modules/generated/sklearn.linear_model.LinearRegression.html\n",
    "\n",
    "https://www.hackerearth.com/practice/machine-learning/linear-regression/multivariate-linear-regression-1/tutorial/\n",
    "\n",
    "https://www.youtube.com/watch?v=nk2CQITm_eo *\n",
    "\n",
    "https://www.youtube.com/watch?v=zITIFTsivN8 *"
   ]
  },
  {
   "cell_type": "markdown",
   "id": "b94e9943-56f9-41d0-b5d8-8c40cd88ef8c",
   "metadata": {},
   "source": [
    "### Imports"
   ]
  },
  {
   "cell_type": "code",
   "execution_count": 16,
   "id": "bb8043e5-8410-487e-8ad2-26472f871ad3",
   "metadata": {},
   "outputs": [],
   "source": [
    "from sklearn.linear_model import LinearRegression\n",
    "from sklearn.model_selection import train_test_split\n",
    "from sklearn.preprocessing import StandardScaler, MinMaxScaler\n",
    "from sklearn import metrics\n",
    "\n",
    "import warnings\n",
    "warnings.filterwarnings('ignore')"
   ]
  },
  {
   "cell_type": "markdown",
   "id": "0fa897f4-0703-4805-a312-5e1e6373cc31",
   "metadata": {},
   "source": [
    "### Data preprocessing\n",
    "\n",
    "https://www.kdnuggets.com/2019/07/data-pre-processing-optimizing-regression-model-performance.html\n",
    "\n",
    "https://www.geeksforgeeks.org/data-normalization-with-pandas/\n",
    "\n",
    "https://datagy.io/pandas-normalize-column/\n",
    "\n",
    "https://machinelearningmastery.com/standardscaler-and-minmaxscaler-transforms-in-python/"
   ]
  },
  {
   "cell_type": "code",
   "execution_count": 17,
   "id": "1e435250-8cc9-4b13-b8eb-a907ececee70",
   "metadata": {},
   "outputs": [],
   "source": [
    "def df_scaler(df, mode=0):\n",
    "    if mode==0:\n",
    "        scaler = MinMaxScaler()\n",
    "        scaler.fit(df)\n",
    "        scaled = scaler.transform(df)\n",
    "        scaled_df = pd.DataFrame(scaled, columns=df.columns)\n",
    "        \n",
    "    elif mode==1:\n",
    "        scaled_df = df.copy()\n",
    "        for column in scaled_df.columns:\n",
    "            scaled_df[column] = column_scaler(scaled_df[column])\n",
    "\n",
    "    return df, scaled_df\n",
    "\n",
    "\n",
    "def column_scaler(column):\n",
    "    normalized = (column - column.min())/(column.max() - column.min())\n",
    "    return normalized"
   ]
  },
  {
   "cell_type": "code",
   "execution_count": 18,
   "id": "589552d8-9d68-4720-8a4d-1a018aaa4b7a",
   "metadata": {},
   "outputs": [],
   "source": [
    "def air_dataset_split(air):\n",
    "    x_air = air.iloc[:,:-1].values\n",
    "    y_air = air.iloc[:,-1].values\n",
    "\n",
    "    X_train, X_test, y_train, y_test = train_test_split(x_air, y_air, test_size=0.33)\n",
    "    return X_train, X_test, y_train, y_test"
   ]
  },
  {
   "cell_type": "code",
   "execution_count": 19,
   "id": "8e509431-4a68-41c5-b83a-04d1b6b04974",
   "metadata": {},
   "outputs": [],
   "source": [
    "air, air_scaled = df_scaler(air.iloc[:,2:], mode=1)\n",
    "X_train_air, X_test_air, y_train_air, y_test_air = air_dataset_split(air_scaled)"
   ]
  },
  {
   "cell_type": "markdown",
   "id": "e0ef22a7-469f-45fa-9741-3c855f9c0052",
   "metadata": {},
   "source": [
    "### Sklearn implementation"
   ]
  },
  {
   "cell_type": "code",
   "execution_count": 20,
   "id": "4c65029e-7c82-4d9b-bcfd-be6467df17aa",
   "metadata": {},
   "outputs": [],
   "source": [
    "lr = LinearRegression().fit(X_train_air, y_train_air)"
   ]
  },
  {
   "cell_type": "markdown",
   "id": "495b116a-d76a-4c93-9832-4a4989e76bd3",
   "metadata": {},
   "source": [
    "### From Scratch"
   ]
  },
  {
   "cell_type": "code",
   "execution_count": 21,
   "id": "9654e8c7-d0c2-4b98-b830-ab709b68cdfa",
   "metadata": {},
   "outputs": [],
   "source": [
    "class Linear_Regression:\n",
    "    def __init__(self):\n",
    "        self.weights = 0\n",
    "        self.bias = 0\n",
    "    \n",
    "    \n",
    "    def predict(self, x):\n",
    "        y = np.dot(self.weights, x.T) +  self.bias\n",
    "        return y\n",
    "\n",
    "    def compute_gradients(self, x, y, lr, fast=True):\n",
    "        gradient_w = 0\n",
    "        gradient_b = 0\n",
    "        \n",
    "        loss = self.predict(x)-y\n",
    "        \n",
    "        if not fast:\n",
    "            for i in range(len(x)):\n",
    "                value = loss[i]\n",
    "                gradient_w += value*x[i]\n",
    "                gradient_b += value\n",
    "\n",
    "        else:\n",
    "            gradient_w = np.sum(x.T * loss, axis=1)\n",
    "            gradient_b = np.sum(loss)\n",
    "            \n",
    "        ratio = lr/len(x)\n",
    "        gradient_w *= ratio\n",
    "        gradient_b *= ratio\n",
    "        return gradient_w, gradient_b   \n",
    "    \n",
    "    def parameters_initialize(self, x, mode=\"zero\"):\n",
    "        if mode == \"zero\":\n",
    "            self.weights = np.ones_like(x[0])\n",
    "            self.bias = 0       \n",
    "        elif mode == \"random\":\n",
    "            self.weights = np.random.rand(x.shape[1])\n",
    "            self.bias = np.random.rand(1)\n",
    "\n",
    "    \n",
    "    def fit(self, x, y, epochs=1000, lr=0.001, init_mode=\"zero\", lr_schedule_mode=0, fast=True, solve=False):\n",
    "        if solve:\n",
    "            self.ols_solve(x, y)\n",
    "        else:\n",
    "            initial_lr = lr\n",
    "            self.parameters_initialize(x=x, mode=init_mode)\n",
    "\n",
    "            for i in range(epochs):\n",
    "                lr = learning_rate_scheduler(lr=lr, mode=lr_schedule_mode, epoch=i, decay_rate=0.3, epochs_drop=100, initial_lr=initial_lr)\n",
    "                # print(i, lr)\n",
    "\n",
    "                gradient_w, gradient_b = self.compute_gradients(x, y, lr, fast=fast)\n",
    "\n",
    "                self.weights -= gradient_w\n",
    "                self.bias -= gradient_b\n",
    "\n",
    "    def ols_solve(self, x, y):\n",
    "        x = np.insert(x, 0, np.ones(x.shape[0]), axis=1)\n",
    "        parameters = np.linalg.inv(np.dot(x.T, x)).dot(x.T).dot(y)\n",
    "        self.weights = parameters[1:]\n",
    "        self.bias = parameters[0]"
   ]
  },
  {
   "cell_type": "code",
   "execution_count": 22,
   "id": "e7456ded-8625-4fa4-bb44-f085f60ccc29",
   "metadata": {},
   "outputs": [],
   "source": [
    "# solve\n",
    "lr_from_scratch = Linear_Regression()\n",
    "\n",
    "lr_from_scratch.fit(X_train_air, y_train_air, solve=True)"
   ]
  },
  {
   "cell_type": "code",
   "execution_count": 23,
   "id": "a42df56d-46b3-4b11-865e-f692a358ab0d",
   "metadata": {},
   "outputs": [],
   "source": [
    "# Gradient Descent\n",
    "lr_from_scratch_gd = Linear_Regression()\n",
    "\n",
    "lr_from_scratch_gd.fit(X_train_air, y_train_air, epochs=10000, lr=0.2, lr_schedule_mode=0)"
   ]
  },
  {
   "cell_type": "markdown",
   "id": "1484b95c-7c71-49f9-a5ad-419f02f03dc9",
   "metadata": {},
   "source": [
    "### Metrics"
   ]
  },
  {
   "cell_type": "code",
   "execution_count": 24,
   "id": "cbd8915e-f15a-44e9-8b00-abc6693b30b4",
   "metadata": {},
   "outputs": [
    {
     "name": "stdout",
     "output_type": "stream",
     "text": [
      "mse                  5.86029699861896e-05 \n",
      "rmse                 0.007655257669483739 \n",
      "mae                  0.005916280914307644 \n",
      "medianae             0.005118502128621749 \n",
      "r2_score             0.9983320564509716 \n",
      "mape                 1002558523143.6349 \n",
      "explained_var        0.9983323286215717 \n",
      "max_error            0.06536048511381098 \n",
      "d2_absolute_error    0.8453859208013206 \n",
      "\n"
     ]
    }
   ],
   "source": [
    "model_evaluater(y_test=y_test_air, model = lr_from_scratch_gd, X_test = X_test_air, task=\"regression\", sklearn_=False)"
   ]
  },
  {
   "cell_type": "code",
   "execution_count": 25,
   "id": "64c29620-2e0f-4f89-80f8-5065a1e475af",
   "metadata": {},
   "outputs": [
    {
     "name": "stdout",
     "output_type": "stream",
     "text": [
      "mse                  2.5502355836644334e-05 \n",
      "rmse                 0.005049985726380257 \n",
      "mae                  0.003754056520776206 \n",
      "medianae             0.0030266867994574453 \n",
      "r2_score             0.9992741581200956 \n",
      "mape                 523861177266.8524 \n",
      "explained_var        0.9992742398859965 \n",
      "max_error            0.05018312889361298 \n",
      "d2_absolute_error    0.9018927598897598 \n",
      "\n"
     ]
    }
   ],
   "source": [
    "model_evaluater(y_test=y_test_air, model = lr, X_test = X_test_air, task=\"regression\", sklearn_=False)"
   ]
  },
  {
   "cell_type": "code",
   "execution_count": 26,
   "id": "10cf03f9-8ce9-4a28-90b1-4f579a1f023e",
   "metadata": {},
   "outputs": [
    {
     "name": "stdout",
     "output_type": "stream",
     "text": [
      "mse                  2.5502355836585343e-05 \n",
      "rmse                 0.005049985726374416 \n",
      "mae                  0.003754056520865258 \n",
      "medianae             0.003026686799491307 \n",
      "r2_score             0.9992741581200972 \n",
      "mape                 523861177248.73785 \n",
      "explained_var        0.9992742398859953 \n",
      "max_error            0.050183128892502094 \n",
      "d2_absolute_error    0.9018927598874326 \n",
      "\n"
     ]
    }
   ],
   "source": [
    "model_evaluater(y_test=y_test_air, model = lr_from_scratch, X_test = X_test_air, task=\"regression\", sklearn_=False)"
   ]
  },
  {
   "cell_type": "code",
   "execution_count": 315,
   "id": "886c6cf1-0942-406f-8b3e-80465a46ffc5",
   "metadata": {},
   "outputs": [],
   "source": [
    "# optimizer, feature engineering, metrics, bapir adj r2 and meaning, pvalue calculation, central limit theorem"
   ]
  },
  {
   "cell_type": "code",
   "execution_count": null,
   "id": "17368910-b7cb-4a69-b991-b915a8ca2671",
   "metadata": {},
   "outputs": [],
   "source": []
  },
  {
   "cell_type": "code",
   "execution_count": 28,
   "id": "147c1bd7-cb9d-4da8-9d56-9fb435a7f03f",
   "metadata": {},
   "outputs": [],
   "source": [
    "# https://www.machinelearningplus.com/statistics/what-is-p-value/\n",
    "# https://realpython.com/numpy-scipy-pandas-correlation-python/"
   ]
  },
  {
   "cell_type": "code",
   "execution_count": 29,
   "id": "631c8656-8d8b-4155-aaef-24fb93d7f21a",
   "metadata": {},
   "outputs": [],
   "source": [
    "# from scipy import stats\n",
    "\n",
    "# def scores_calculator(x, y):\n",
    "#     # a = stats.pearsonr(x, y)\n",
    "#     # b = stats.spearmanr(x, y)\n",
    "#     # c = stats.kendalltau(x, y)\n",
    "#     d = stats.ttest_ind(x, y)\n",
    "#     # print(a)\n",
    "#     # print(b)\n",
    "#     # print(c)\n",
    "#     print(d)\n",
    "#     # return a, (b.correlation, b.pvalue), (c.correlation, c.pvalue), (d.statistic, d.pvalue)"
   ]
  },
  {
   "cell_type": "code",
   "execution_count": 30,
   "id": "624c41f3-a841-4cf8-b30b-6be3fd232023",
   "metadata": {},
   "outputs": [],
   "source": [
    "# for i in range(X_test_air.shape[1]):\n",
    "#     x_random = np.random.random(y_test_air.shape)\n",
    "#     x_true = X_test_air[:,i]\n",
    "#     y_true = y_test_air\n",
    "#     yhat = lr.predict(X_test_air)\n",
    "    \n",
    "#     scores_calculator(x_true, y_true)\n",
    "#     print(\"================================\")\n",
    "\n",
    "\n",
    "# print(stats.ttest_ind(np.random.random(y_test_air.shape), np.random.random(y_test_air.shape)).pvalue)"
   ]
  },
  {
   "cell_type": "code",
   "execution_count": 31,
   "id": "5a989379-9fd4-47b6-b6b5-9490e1c7f2f6",
   "metadata": {},
   "outputs": [],
   "source": [
    "# scores_calculator(lr.coef_, y_true)"
   ]
  },
  {
   "cell_type": "code",
   "execution_count": null,
   "id": "75ae10d9-7077-4067-9f8d-330b7f434d6a",
   "metadata": {},
   "outputs": [],
   "source": []
  },
  {
   "cell_type": "code",
   "execution_count": null,
   "id": "d24ed541-6038-41c5-b4c1-5a870e3c0e55",
   "metadata": {},
   "outputs": [],
   "source": []
  },
  {
   "cell_type": "markdown",
   "id": "ecd708b1-fbb9-4684-b894-af8209997b72",
   "metadata": {},
   "source": [
    "## 7.Logistic Regression"
   ]
  },
  {
   "cell_type": "markdown",
   "id": "5df54fef-e8f4-4ca7-b7db-a72fc3d4ac8e",
   "metadata": {},
   "source": [
    "https://www.askpython.com/python/examples/logistic-regression-from-scratch\n",
    "\n",
    "https://www.javatpoint.com/logistic-regression-in-machine-learning\n",
    "\n",
    "multi: https://www.alpha-quantum.com/blog/logistic-regression/logistic-regression-from-scratch/\n",
    "\n",
    "https://www.youtube.com/watch?v=yIYKR4sgzI8"
   ]
  },
  {
   "cell_type": "code",
   "execution_count": null,
   "id": "c3b5ea39-83f0-45e8-96fd-520282c2f96b",
   "metadata": {},
   "outputs": [],
   "source": []
  },
  {
   "cell_type": "markdown",
   "id": "4743ea77-ea18-4388-8ee7-497fd7effd02",
   "metadata": {},
   "source": [
    "## 8.KNN"
   ]
  },
  {
   "cell_type": "markdown",
   "id": "ca394789-d26f-4f4b-a771-3f5ac61330be",
   "metadata": {},
   "source": [
    "https://www.analyticsvidhya.com/blog/2018/08/k-nearest-neighbor-introduction-regression-python/\n",
    "\n",
    "https://www.askpython.com/python/examples/k-nearest-neighbors-from-scratch\n",
    "\n",
    "https://machinelearningmastery.com/tutorial-to-implement-k-nearest-neighbors-in-python-from-scratch/\n",
    "\n",
    "https://mlfromscratch.com/measures-of-distance-similarity-and-dissimilarity/\n",
    "\n",
    "https://www.youtube.com/watch?v=HVXime0nQeI"
   ]
  },
  {
   "cell_type": "code",
   "execution_count": null,
   "id": "f160531e-00ba-4a2f-a1ff-ac1d53a2d9a8",
   "metadata": {},
   "outputs": [],
   "source": []
  },
  {
   "cell_type": "markdown",
   "id": "8f54539d-8d82-4e3e-9b06-e327fe6a48a1",
   "metadata": {},
   "source": [
    "## 9.SVM"
   ]
  },
  {
   "cell_type": "markdown",
   "id": "fd52a37e-767b-4ec7-bb01-1ede32e2c469",
   "metadata": {},
   "source": [
    "https://github.com/adityajn105/SVM-From-Scratch\n",
    "\n",
    "https://towardsdatascience.com/svm-implementation-from-scratch-python-2db2fc52e5c2\n",
    "\n",
    "https://machinelearningmastery.com/method-of-lagrange-multipliers-the-theory-behind-support-vector-machines-part-3-implementing-an-svm-from-scratch-in-python/\n",
    "\n",
    "https://www.kdnuggets.com/2020/03/machine-learning-algorithm-svm-explained.html\n",
    "\n",
    "https://www.analytixlabs.co.in/blog/introduction-support-vector-machine-algorithm/\n",
    "\n",
    "https://www.youtube.com/watch?v=efR1C6CvhmE\n",
    "\n",
    "https://www.youtube.com/watch?v=Toet3EiSFcM\n",
    "\n",
    "https://www.youtube.com/watch?v=Qc5IyLW_hns"
   ]
  },
  {
   "cell_type": "code",
   "execution_count": null,
   "id": "903566ff-c65f-4b92-841f-b7748c181d18",
   "metadata": {},
   "outputs": [],
   "source": []
  },
  {
   "cell_type": "markdown",
   "id": "20ee7b27-748d-49ac-be1b-0ccf4a812bad",
   "metadata": {},
   "source": [
    "## 10.SOM\n",
    "NN hws"
   ]
  },
  {
   "cell_type": "code",
   "execution_count": null,
   "id": "44a4fb6e-2e5e-4ecb-b4df-745f27cf3f2e",
   "metadata": {},
   "outputs": [],
   "source": []
  },
  {
   "cell_type": "markdown",
   "id": "2403340b-6793-43a6-8f69-a4c3af5a25f2",
   "metadata": {},
   "source": [
    "## 11.LVQ\n",
    "NN hws"
   ]
  },
  {
   "cell_type": "code",
   "execution_count": null,
   "id": "14d4b285-27d1-428d-98aa-e263c3972455",
   "metadata": {},
   "outputs": [],
   "source": []
  },
  {
   "cell_type": "markdown",
   "id": "5cd48ca2-7f10-48db-b27f-9990dadbf25c",
   "metadata": {},
   "source": [
    "## 12.Regularization"
   ]
  },
  {
   "cell_type": "markdown",
   "id": "75342483-6495-4225-adca-faeac66ec3be",
   "metadata": {},
   "source": [
    "https://www.einfochips.com/blog/regularization-make-your-machine-learning-algorithms-learn-not-memorize/\n",
    "\n",
    "https://harish-reddy.medium.com/regularization-in-python-699cfbad8622\n",
    "\n",
    "https://www.geeksforgeeks.org/implementation-of-lasso-regression-from-scratch-using-python/\n",
    "\n",
    "https://www.simplilearn.com/tutorials/machine-learning-tutorial/regularization-in-machine-learning\n",
    "\n",
    "https://medium.com/analytics-vidhya/understanding-regularization-algorithms-450777fa0ed3\n",
    "\n",
    "https://www.youtube.com/watch?v=Q81RR3yKn30\n",
    "\n",
    "https://www.youtube.com/watch?v=NGf0voTMlcs\n",
    "\n",
    "https://www.youtube.com/watch?v=1dKRdX9bfIo\n",
    "\n",
    "https://www.youtube.com/watch?v=Xm2C_gTAl8c"
   ]
  },
  {
   "cell_type": "code",
   "execution_count": null,
   "id": "acc76d9a-e727-4979-85dd-62923536a75e",
   "metadata": {},
   "outputs": [],
   "source": []
  },
  {
   "cell_type": "markdown",
   "id": "53a905da-aa28-42dd-83ca-d68d238f2094",
   "metadata": {},
   "source": [
    "## 13.Decision Tree"
   ]
  },
  {
   "cell_type": "markdown",
   "id": "60d7ce8d-b25a-40b9-98c8-7da923a432db",
   "metadata": {},
   "source": [
    "https://anderfernandez.com/en/blog/code-decision-tree-python-from-scratch/\n",
    "\n",
    "https://www.analyticsvidhya.com/blog/2020/10/all-about-decision-tree-from-scratch-with-python-implementation/\n",
    "\n",
    "https://insidelearningmachines.com/build-a-decision-tree-in-python/\n",
    "\n",
    "https://mlfromscratch.com/decision-tree-classification/\n",
    "\n",
    "https://www.youtube.com/watch?v=_L39rN6gz7Y\n",
    "\n",
    "https://www.youtube.com/watch?v=g9c66TUylZ4"
   ]
  },
  {
   "cell_type": "code",
   "execution_count": null,
   "id": "f8bb6a8d-c8a2-4761-bbae-a02015b74152",
   "metadata": {},
   "outputs": [],
   "source": []
  },
  {
   "cell_type": "markdown",
   "id": "872dad25-1c2d-4eb9-bd7c-4f6055704ec8",
   "metadata": {},
   "source": [
    "## 14.Naive Bayes"
   ]
  },
  {
   "cell_type": "markdown",
   "id": "138029ee-eab4-4eac-b177-2d01321a5a65",
   "metadata": {},
   "source": [
    "https://philippmuens.com/naive-bayes-from-scratch\n",
    "\n",
    "https://blog.devgenius.io/implementing-na%C3%AFve-bayes-classification-from-scratch-with-python-badd5a9be9c3\n",
    "\n",
    "https://medium.com/@johnm.kovachi/implementing-a-multinomial-naive-bayes-classifier-from-scratch-with-python-e70de6a3b92e\n",
    "\n",
    "https://evidencen.com/gnbclassification/"
   ]
  },
  {
   "cell_type": "markdown",
   "id": "25db5600-4d1e-489f-877b-2e8dfb1c0b22",
   "metadata": {},
   "source": [
    "## 15. ROC and AUC"
   ]
  },
  {
   "cell_type": "markdown",
   "id": "b7ee4669-e461-4dde-9428-301fc833e8de",
   "metadata": {},
   "source": [
    "https://www.youtube.com/watch?v=4jRBRDbJemM"
   ]
  },
  {
   "cell_type": "code",
   "execution_count": null,
   "id": "53865031-d0bc-4206-94ba-69b84f495c3c",
   "metadata": {},
   "outputs": [],
   "source": []
  },
  {
   "cell_type": "markdown",
   "id": "ff14da8c-cb74-49ec-98af-d2f9b1cc0818",
   "metadata": {},
   "source": [
    "## 16.K-means K-medians"
   ]
  },
  {
   "cell_type": "markdown",
   "id": "f260ca2e-b14f-4d3f-9089-55ffd9af2d10",
   "metadata": {},
   "source": [
    "https://www.youtube.com/watch?v=4b5d3muPQmA\n",
    "\n",
    "https://www.askpython.com/python/examples/k-means-clustering-from-scratch\n",
    "\n",
    "https://towardsdatascience.com/create-your-own-k-means-clustering-algorithm-in-python-d7d4c9077670\n",
    "\n",
    "https://medium.com/@pasdan/k-clustering-means-medians-via-python-2a5f251582ee"
   ]
  },
  {
   "cell_type": "code",
   "execution_count": null,
   "id": "e8846471-8384-43ea-a8c3-1e52db74fd6d",
   "metadata": {},
   "outputs": [],
   "source": []
  },
  {
   "cell_type": "markdown",
   "id": "01eb43e9-1ac4-4348-acd8-f2fa96d5522e",
   "metadata": {},
   "source": [
    "## 17.Hierarchical Clustering"
   ]
  },
  {
   "cell_type": "markdown",
   "id": "87e5d78e-6263-4032-88f0-fa078b1317fd",
   "metadata": {},
   "source": [
    "https://www.youtube.com/watch?v=7xHsRkOdVwo\n",
    "\n",
    "https://www.mltut.com/hierarchical-clustering-in-python-step-by-step-complete-guide/"
   ]
  },
  {
   "cell_type": "code",
   "execution_count": null,
   "id": "2f9ead35-73ea-4388-a9c4-fc77812e780f",
   "metadata": {},
   "outputs": [],
   "source": []
  },
  {
   "cell_type": "markdown",
   "id": "f1463c00-c52c-4954-a840-712f5d625bc5",
   "metadata": {},
   "source": [
    "## 18.PCA, SVD, LDA"
   ]
  },
  {
   "cell_type": "markdown",
   "id": "00ed6f5a-2628-4aad-8481-1d01f027f701",
   "metadata": {},
   "source": [
    "https://mlfromscratch.com/principal-component-analysis-pca-svd/#/\n",
    "\n",
    "https://www.youtube.com/watch?v=FgakZw6K1QQ\n",
    "\n",
    "https://www.askpython.com/python/examples/principal-component-analysis\n",
    "\n",
    "https://machinelearningmastery.com/calculate-principal-component-analysis-scratch-python/\n",
    "\n",
    "--------------\n",
    "\n",
    "https://drscotthawley.github.io/blog/2019/12/21/PCA-From-Scratch.html\n",
    "\n",
    "https://www.youtube.com/watch?v=azXCzI57Yfc\n",
    "\n",
    "--------------\n",
    "\n",
    "https://www.depends-on-the-definition.com/lda-from-scratch/\n",
    "\n",
    "https://towardsdatascience.com/latent-dirichlet-allocation-lda-9d1cd064ffa2\n",
    "\n",
    "https://ai.plainenglish.io/fischers-linear-discriminant-analysis-in-python-from-scratch-bbe480497504"
   ]
  },
  {
   "cell_type": "code",
   "execution_count": null,
   "id": "4f5121f1-ada9-47fd-b184-068b029235ce",
   "metadata": {},
   "outputs": [],
   "source": []
  },
  {
   "cell_type": "markdown",
   "id": "122fa6aa-8e06-41cc-a23f-f338549b928d",
   "metadata": {},
   "source": [
    "## 19.Random Forest"
   ]
  },
  {
   "cell_type": "markdown",
   "id": "dee8ad87-51c4-44fb-baf2-0cd97a81b37e",
   "metadata": {},
   "source": [
    "https://mlfromscratch.com/random-forest/#/\n",
    "\n",
    "https://www.youtube.com/watch?v=J4Wdy0Wc_xQ\n",
    "\n",
    "https://www.youtube.com/watch?v=sQ870aTKqiM\n",
    "\n",
    "https://carbonati.github.io/posts/random-forests-from-scratch/\n",
    "\n",
    "https://insidelearningmachines.com/build-a-random-forest-in-python/\n",
    "\n",
    "https://www.askpython.com/python/examples/random-forest-regression\n",
    "\n",
    "https://www.analyticsvidhya.com/blog/2018/12/building-a-random-forest-from-scratch-understanding-real-world-data-products-ml-for-programmers-part-3/"
   ]
  },
  {
   "cell_type": "code",
   "execution_count": null,
   "id": "9b585053-5c72-4eac-9d78-c4afb1ae6090",
   "metadata": {},
   "outputs": [],
   "source": []
  },
  {
   "cell_type": "markdown",
   "id": "38c141d0-961e-427a-a27e-ff866eeee249",
   "metadata": {},
   "source": [
    "## 20.Boosting"
   ]
  },
  {
   "cell_type": "markdown",
   "id": "124daaab-8d99-4511-9933-b02009711fb0",
   "metadata": {},
   "source": [
    "https://medium.com/greyatom/a-quick-guide-to-boosting-in-ml-acf7c1585cb5\n",
    "\n",
    "https://www.analyticsvidhya.com/blog/2015/11/quick-introduction-boosting-algorithms-machine-learning/\n",
    "\n",
    "https://www.ibm.com/cloud/learn/boosting\n",
    "\n",
    "https://howtolearnmachinelearning.com/articles/boosting-in-machine-learning/\n",
    "\n"
   ]
  },
  {
   "cell_type": "markdown",
   "id": "cdb2b8fb-b1ff-4505-b5d8-f603bcee2ba7",
   "metadata": {},
   "source": [
    "## 21.Bagging"
   ]
  },
  {
   "cell_type": "markdown",
   "id": "bab40c7e-3f37-4a82-9a4f-65ce2781b6e6",
   "metadata": {},
   "source": [
    "https://www.simplilearn.com/tutorials/machine-learning-tutorial/bagging-in-machine-learning\n",
    "\n",
    "https://insidelearningmachines.com/build-a-bagging-classifier-in-python/\n",
    "\n",
    "https://www.section.io/engineering-education/implementing-bagging-algorithms-in-python/\n",
    "\n",
    "https://www.mygreatlearning.com/blog/bagging-boosting/"
   ]
  },
  {
   "cell_type": "code",
   "execution_count": null,
   "id": "e1ea4212-9b33-4af0-9e87-7254c783bd5c",
   "metadata": {},
   "outputs": [],
   "source": []
  },
  {
   "cell_type": "markdown",
   "id": "2164f1d0-0fff-4745-b80a-129a02829dfe",
   "metadata": {},
   "source": [
    "## 22.Voting"
   ]
  },
  {
   "cell_type": "markdown",
   "id": "6e97c728-82a1-477c-af9c-152420d649d0",
   "metadata": {},
   "source": [
    "https://machinelearningmastery.com/voting-ensembles-with-python/\n",
    "\n",
    "http://rasbt.github.io/mlxtend/user_guide/classifier/EnsembleVoteClassifier/\n",
    "\n",
    "https://www.kaggle.com/code/saurabhshahane/voting-classifier"
   ]
  },
  {
   "cell_type": "markdown",
   "id": "4f7b35ca-2d82-45f7-96ae-8382e02441c2",
   "metadata": {},
   "source": [
    "## 23.Stacking"
   ]
  },
  {
   "cell_type": "markdown",
   "id": "f3a227df-3e59-4dc9-904d-0dc9ba86dea4",
   "metadata": {},
   "source": [
    "https://mlfromscratch.com/model-stacking-explained/#/\n",
    "\n",
    "https://machinelearningmastery.com/implementing-stacking-scratch-python/\n",
    "\n",
    "https://towardsai.net/p/l/machine-learning-model-stacking-in-python"
   ]
  },
  {
   "cell_type": "code",
   "execution_count": null,
   "id": "ad001604-e659-478b-98a2-b6c1a178e010",
   "metadata": {},
   "outputs": [],
   "source": []
  },
  {
   "cell_type": "markdown",
   "id": "e7741131-0f1d-48be-aace-f360965a3c13",
   "metadata": {},
   "source": [
    "## 24.AdaBoost"
   ]
  },
  {
   "cell_type": "markdown",
   "id": "10694e08-28d7-45ef-aebb-b2a69d1377b0",
   "metadata": {},
   "source": [
    "https://www.youtube.com/watch?v=LsK-xG1cLYA\n",
    "\n",
    "https://www.youtube.com/watch?v=Xz0x-8-cgaQ\n",
    "\n",
    "https://www.youtube.com/watch?v=SEwxvjfxxmE\n",
    "\n",
    "https://towardsdatascience.com/adaboost-from-scratch-37a936da3d50\n",
    "\n",
    "https://www.mygreatlearning.com/blog/adaboost-algorithm/\n",
    "\n",
    "https://www.analyticsvidhya.com/blog/2021/09/adaboost-algorithm-a-complete-guide-for-beginners/"
   ]
  },
  {
   "cell_type": "code",
   "execution_count": null,
   "id": "2851757b-4062-45e2-bc57-af8a33f6afc2",
   "metadata": {},
   "outputs": [],
   "source": []
  },
  {
   "cell_type": "markdown",
   "id": "2a9a67bb-3aad-47b4-ab5c-34293f50e2d6",
   "metadata": {},
   "source": [
    "## 25.Gradient Boosting"
   ]
  },
  {
   "cell_type": "markdown",
   "id": "ceb54aa5-d15f-4002-9aa8-786b9249b06f",
   "metadata": {},
   "source": [
    "https://www.youtube.com/watch?v=3CC4N4z3GJc\n",
    "\n",
    "https://www.youtube.com/watch?v=2xudPOBz-vs\n",
    "\n",
    "https://www.youtube.com/watch?v=jxuNLH5dXCs\n",
    "\n",
    "https://www.youtube.com/watch?v=StWY5QWMXCw\n",
    "\n",
    "https://www.analyticsvidhya.com/blog/2021/04/how-the-gradient-boosting-algorithm-works/\n",
    "\n",
    "https://www.wallstreetmojo.com/gradient-boosting/\n",
    "\n",
    "https://machinelearningmastery.com/gentle-introduction-gradient-boosting-algorithm-machine-learning/"
   ]
  },
  {
   "cell_type": "code",
   "execution_count": null,
   "id": "2855fef5-6fe1-466a-95f1-e396345918f7",
   "metadata": {},
   "outputs": [],
   "source": []
  },
  {
   "cell_type": "markdown",
   "id": "2672311b-2c78-4516-89a6-8d345543c630",
   "metadata": {},
   "source": [
    "## 26.XGBoost"
   ]
  },
  {
   "cell_type": "markdown",
   "id": "5a3ab474-1a46-49a1-98c4-1ebfa7641335",
   "metadata": {},
   "source": [
    "https://www.youtube.com/watch?v=OtD8wVaFm6E\n",
    "\n",
    "https://www.youtube.com/watch?v=8b1JEDvenQU\n",
    "\n",
    "https://www.youtube.com/watch?v=ZVFeW798-2I\n",
    "\n",
    "https://www.youtube.com/watch?v=oRrKeUCEbq8\n",
    "\n",
    "https://www.mygreatlearning.com/blog/xgboost-algorithm/\n",
    "\n",
    "https://www.geeksforgeeks.org/xgboost/\n",
    "\n",
    "https://blog.jovian.ai/machine-learning-with-python-implementing-xgboost-and-random-forest-fd51fa4f9f4c\n",
    "\n",
    "https://www.analytixtime.com/post/xgboostregression-from-scratch-in-excel/"
   ]
  },
  {
   "cell_type": "code",
   "execution_count": null,
   "id": "a0610a4b-ef60-4027-a856-3a0b08bedaf2",
   "metadata": {},
   "outputs": [],
   "source": []
  }
 ],
 "metadata": {
  "kernelspec": {
   "display_name": "Python 3",
   "language": "python",
   "name": "python3"
  },
  "language_info": {
   "codemirror_mode": {
    "name": "ipython",
    "version": 3
   },
   "file_extension": ".py",
   "mimetype": "text/x-python",
   "name": "python",
   "nbconvert_exporter": "python",
   "pygments_lexer": "ipython3",
   "version": "3.9.13"
  }
 },
 "nbformat": 4,
 "nbformat_minor": 5
}
